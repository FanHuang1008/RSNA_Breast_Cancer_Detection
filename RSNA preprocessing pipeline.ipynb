{
 "cells": [
  {
   "cell_type": "raw",
   "id": "b8b5fe04-cb45-455d-9ef8-9cab18fa49d0",
   "metadata": {},
   "source": [
    "!pip install python-gdcm pydicom pylibjpeg pylibjpeg-libjpeg dicomsdl\n",
    "!pip install --extra-index-url https://developer.download.nvidia.com/compute/redist/nightly --upgrade nvidia-dali-nightly-cuda110\n",
    "!pip install pandas numpy\n",
    "!pip install -U matplotlib\n",
    "!pip install opencv-python"
   ]
  },
  {
   "cell_type": "code",
   "execution_count": 439,
   "id": "851c9166-90f5-405d-a56a-ab458bb541d7",
   "metadata": {},
   "outputs": [],
   "source": [
    "import glob \n",
    "import numpy as np\n",
    "import pandas as pd\n",
    "import os\n",
    "import cv2\n",
    "from tqdm import tqdm\n",
    "\n",
    "import pydicom\n",
    "from pydicom.filebase import DicomBytesIO\n",
    "from pydicom.pixel_data_handlers import apply_windowing\n",
    "\n",
    "import dicomsdl\n",
    "\n",
    "from nvidia.dali.backend import TensorGPU, TensorListGPU\n",
    "from nvidia.dali import pipeline_def\n",
    "import nvidia.dali.fn as fn\n",
    "import nvidia.dali.types as types\n",
    "from nvidia.dali.types import DALIDataType\n",
    "\n",
    "import torch\n",
    "import torch.nn.functional as F\n",
    "\n",
    "\n",
    "import matplotlib\n",
    "import matplotlib.pyplot as plt\n",
    "\n",
    "os.environ[\"CUDA_VISIBLE_DEVICES\"] = '1'\n",
    "DEVICE = torch.device('cuda' if torch.cuda.is_available() else 'cpu')"
   ]
  },
  {
   "cell_type": "code",
   "execution_count": 2,
   "id": "fcf06323-9974-42f6-afd9-0a511c5c6a3e",
   "metadata": {},
   "outputs": [],
   "source": [
    "Config = {\n",
    "    'dcm_dir': '/home/data4/share/rsna-breast-cancer-detection/train_images',\n",
    "    'output_dim_x' : 512,\n",
    "    'output_dim_y' : 1024,\n",
    "    'output_extension' : 'png',\n",
    "    'skip_small_ROIs': True,\n",
    "    'skip_unrecognized': True,\n",
    "    'avoid_stretches': True\n",
    "}"
   ]
  },
  {
   "cell_type": "code",
   "execution_count": 3,
   "id": "4953b150-d876-40a9-bbe2-2f3a2e8e0881",
   "metadata": {},
   "outputs": [
    {
     "name": "stdout",
     "output_type": "stream",
     "text": [
      "25187 29519\n"
     ]
    }
   ],
   "source": [
    "df = pd.read_csv(\"/home/data4/share/rsna-breast-cancer-detection/train.csv\")\n",
    "df['dcm_path'] = Config['dcm_dir'] + '/' + df.patient_id.astype(str) + '/' + df.image_id.astype(str) + '.dcm'\n",
    "df.loc[df['site_id'] == 2, 'type'] = \"j2k\"\n",
    "df.loc[df['site_id'] == 1, 'type'] = \"jpg\"\n",
    "\n",
    "print(len( df[df[\"type\"] == \"j2k\"]), len( df[df[\"type\"] == \"jpg\"]))"
   ]
  },
  {
   "cell_type": "code",
   "execution_count": 4,
   "id": "01d487ec-3616-4554-845d-c3070f07e27b",
   "metadata": {},
   "outputs": [
    {
     "data": {
      "text/html": [
       "<div>\n",
       "<style scoped>\n",
       "    .dataframe tbody tr th:only-of-type {\n",
       "        vertical-align: middle;\n",
       "    }\n",
       "\n",
       "    .dataframe tbody tr th {\n",
       "        vertical-align: top;\n",
       "    }\n",
       "\n",
       "    .dataframe thead th {\n",
       "        text-align: right;\n",
       "    }\n",
       "</style>\n",
       "<table border=\"1\" class=\"dataframe\">\n",
       "  <thead>\n",
       "    <tr style=\"text-align: right;\">\n",
       "      <th></th>\n",
       "      <th>site_id</th>\n",
       "      <th>patient_id</th>\n",
       "      <th>image_id</th>\n",
       "      <th>laterality</th>\n",
       "      <th>view</th>\n",
       "      <th>age</th>\n",
       "      <th>cancer</th>\n",
       "      <th>biopsy</th>\n",
       "      <th>invasive</th>\n",
       "      <th>BIRADS</th>\n",
       "      <th>implant</th>\n",
       "      <th>density</th>\n",
       "      <th>machine_id</th>\n",
       "      <th>difficult_negative_case</th>\n",
       "      <th>dcm_path</th>\n",
       "      <th>type</th>\n",
       "    </tr>\n",
       "  </thead>\n",
       "  <tbody>\n",
       "    <tr>\n",
       "      <th>25182</th>\n",
       "      <td>2</td>\n",
       "      <td>9967</td>\n",
       "      <td>1260162631</td>\n",
       "      <td>R</td>\n",
       "      <td>CC</td>\n",
       "      <td>62.0</td>\n",
       "      <td>0</td>\n",
       "      <td>0</td>\n",
       "      <td>0</td>\n",
       "      <td>NaN</td>\n",
       "      <td>0</td>\n",
       "      <td>NaN</td>\n",
       "      <td>48</td>\n",
       "      <td>False</td>\n",
       "      <td>/home/data4/share/rsna-breast-cancer-detection...</td>\n",
       "      <td>j2k</td>\n",
       "    </tr>\n",
       "    <tr>\n",
       "      <th>25183</th>\n",
       "      <td>2</td>\n",
       "      <td>9968</td>\n",
       "      <td>766198919</td>\n",
       "      <td>L</td>\n",
       "      <td>CC</td>\n",
       "      <td>76.0</td>\n",
       "      <td>0</td>\n",
       "      <td>0</td>\n",
       "      <td>0</td>\n",
       "      <td>NaN</td>\n",
       "      <td>0</td>\n",
       "      <td>NaN</td>\n",
       "      <td>48</td>\n",
       "      <td>False</td>\n",
       "      <td>/home/data4/share/rsna-breast-cancer-detection...</td>\n",
       "      <td>j2k</td>\n",
       "    </tr>\n",
       "    <tr>\n",
       "      <th>25184</th>\n",
       "      <td>2</td>\n",
       "      <td>9968</td>\n",
       "      <td>2098937312</td>\n",
       "      <td>L</td>\n",
       "      <td>MLO</td>\n",
       "      <td>76.0</td>\n",
       "      <td>0</td>\n",
       "      <td>0</td>\n",
       "      <td>0</td>\n",
       "      <td>NaN</td>\n",
       "      <td>0</td>\n",
       "      <td>NaN</td>\n",
       "      <td>48</td>\n",
       "      <td>False</td>\n",
       "      <td>/home/data4/share/rsna-breast-cancer-detection...</td>\n",
       "      <td>j2k</td>\n",
       "    </tr>\n",
       "    <tr>\n",
       "      <th>25185</th>\n",
       "      <td>2</td>\n",
       "      <td>9968</td>\n",
       "      <td>294168046</td>\n",
       "      <td>R</td>\n",
       "      <td>MLO</td>\n",
       "      <td>76.0</td>\n",
       "      <td>0</td>\n",
       "      <td>0</td>\n",
       "      <td>0</td>\n",
       "      <td>NaN</td>\n",
       "      <td>0</td>\n",
       "      <td>NaN</td>\n",
       "      <td>48</td>\n",
       "      <td>False</td>\n",
       "      <td>/home/data4/share/rsna-breast-cancer-detection...</td>\n",
       "      <td>j2k</td>\n",
       "    </tr>\n",
       "    <tr>\n",
       "      <th>25186</th>\n",
       "      <td>2</td>\n",
       "      <td>9968</td>\n",
       "      <td>568005453</td>\n",
       "      <td>R</td>\n",
       "      <td>CC</td>\n",
       "      <td>76.0</td>\n",
       "      <td>0</td>\n",
       "      <td>0</td>\n",
       "      <td>0</td>\n",
       "      <td>NaN</td>\n",
       "      <td>0</td>\n",
       "      <td>NaN</td>\n",
       "      <td>48</td>\n",
       "      <td>False</td>\n",
       "      <td>/home/data4/share/rsna-breast-cancer-detection...</td>\n",
       "      <td>j2k</td>\n",
       "    </tr>\n",
       "  </tbody>\n",
       "</table>\n",
       "</div>"
      ],
      "text/plain": [
       "       site_id  patient_id    image_id laterality view   age  cancer  biopsy  \\\n",
       "25182        2        9967  1260162631          R   CC  62.0       0       0   \n",
       "25183        2        9968   766198919          L   CC  76.0       0       0   \n",
       "25184        2        9968  2098937312          L  MLO  76.0       0       0   \n",
       "25185        2        9968   294168046          R  MLO  76.0       0       0   \n",
       "25186        2        9968   568005453          R   CC  76.0       0       0   \n",
       "\n",
       "       invasive  BIRADS  implant density  machine_id  difficult_negative_case  \\\n",
       "25182         0     NaN        0     NaN          48                    False   \n",
       "25183         0     NaN        0     NaN          48                    False   \n",
       "25184         0     NaN        0     NaN          48                    False   \n",
       "25185         0     NaN        0     NaN          48                    False   \n",
       "25186         0     NaN        0     NaN          48                    False   \n",
       "\n",
       "                                                dcm_path type  \n",
       "25182  /home/data4/share/rsna-breast-cancer-detection...  j2k  \n",
       "25183  /home/data4/share/rsna-breast-cancer-detection...  j2k  \n",
       "25184  /home/data4/share/rsna-breast-cancer-detection...  j2k  \n",
       "25185  /home/data4/share/rsna-breast-cancer-detection...  j2k  \n",
       "25186  /home/data4/share/rsna-breast-cancer-detection...  j2k  "
      ]
     },
     "execution_count": 4,
     "metadata": {},
     "output_type": "execute_result"
    }
   ],
   "source": [
    "df_j2k = df[df[\"type\"]==\"j2k\"].copy().reset_index(drop=True)\n",
    "df_j2k.tail()"
   ]
  },
  {
   "cell_type": "code",
   "execution_count": 5,
   "id": "741517f1-1d88-40b5-b304-c2830b280b16",
   "metadata": {},
   "outputs": [
    {
     "data": {
      "text/html": [
       "<div>\n",
       "<style scoped>\n",
       "    .dataframe tbody tr th:only-of-type {\n",
       "        vertical-align: middle;\n",
       "    }\n",
       "\n",
       "    .dataframe tbody tr th {\n",
       "        vertical-align: top;\n",
       "    }\n",
       "\n",
       "    .dataframe thead th {\n",
       "        text-align: right;\n",
       "    }\n",
       "</style>\n",
       "<table border=\"1\" class=\"dataframe\">\n",
       "  <thead>\n",
       "    <tr style=\"text-align: right;\">\n",
       "      <th></th>\n",
       "      <th>site_id</th>\n",
       "      <th>patient_id</th>\n",
       "      <th>image_id</th>\n",
       "      <th>laterality</th>\n",
       "      <th>view</th>\n",
       "      <th>age</th>\n",
       "      <th>cancer</th>\n",
       "      <th>biopsy</th>\n",
       "      <th>invasive</th>\n",
       "      <th>BIRADS</th>\n",
       "      <th>implant</th>\n",
       "      <th>density</th>\n",
       "      <th>machine_id</th>\n",
       "      <th>difficult_negative_case</th>\n",
       "      <th>dcm_path</th>\n",
       "      <th>type</th>\n",
       "    </tr>\n",
       "  </thead>\n",
       "  <tbody>\n",
       "    <tr>\n",
       "      <th>29514</th>\n",
       "      <td>1</td>\n",
       "      <td>9973</td>\n",
       "      <td>1729524723</td>\n",
       "      <td>R</td>\n",
       "      <td>MLO</td>\n",
       "      <td>43.0</td>\n",
       "      <td>0</td>\n",
       "      <td>0</td>\n",
       "      <td>0</td>\n",
       "      <td>1.0</td>\n",
       "      <td>0</td>\n",
       "      <td>C</td>\n",
       "      <td>49</td>\n",
       "      <td>False</td>\n",
       "      <td>/home/data4/share/rsna-breast-cancer-detection...</td>\n",
       "      <td>jpg</td>\n",
       "    </tr>\n",
       "    <tr>\n",
       "      <th>29515</th>\n",
       "      <td>1</td>\n",
       "      <td>9989</td>\n",
       "      <td>63473691</td>\n",
       "      <td>L</td>\n",
       "      <td>MLO</td>\n",
       "      <td>60.0</td>\n",
       "      <td>0</td>\n",
       "      <td>0</td>\n",
       "      <td>0</td>\n",
       "      <td>NaN</td>\n",
       "      <td>0</td>\n",
       "      <td>C</td>\n",
       "      <td>216</td>\n",
       "      <td>False</td>\n",
       "      <td>/home/data4/share/rsna-breast-cancer-detection...</td>\n",
       "      <td>jpg</td>\n",
       "    </tr>\n",
       "    <tr>\n",
       "      <th>29516</th>\n",
       "      <td>1</td>\n",
       "      <td>9989</td>\n",
       "      <td>1078943060</td>\n",
       "      <td>L</td>\n",
       "      <td>CC</td>\n",
       "      <td>60.0</td>\n",
       "      <td>0</td>\n",
       "      <td>0</td>\n",
       "      <td>0</td>\n",
       "      <td>NaN</td>\n",
       "      <td>0</td>\n",
       "      <td>C</td>\n",
       "      <td>216</td>\n",
       "      <td>False</td>\n",
       "      <td>/home/data4/share/rsna-breast-cancer-detection...</td>\n",
       "      <td>jpg</td>\n",
       "    </tr>\n",
       "    <tr>\n",
       "      <th>29517</th>\n",
       "      <td>1</td>\n",
       "      <td>9989</td>\n",
       "      <td>398038886</td>\n",
       "      <td>R</td>\n",
       "      <td>MLO</td>\n",
       "      <td>60.0</td>\n",
       "      <td>0</td>\n",
       "      <td>0</td>\n",
       "      <td>0</td>\n",
       "      <td>0.0</td>\n",
       "      <td>0</td>\n",
       "      <td>C</td>\n",
       "      <td>216</td>\n",
       "      <td>True</td>\n",
       "      <td>/home/data4/share/rsna-breast-cancer-detection...</td>\n",
       "      <td>jpg</td>\n",
       "    </tr>\n",
       "    <tr>\n",
       "      <th>29518</th>\n",
       "      <td>1</td>\n",
       "      <td>9989</td>\n",
       "      <td>439796429</td>\n",
       "      <td>R</td>\n",
       "      <td>CC</td>\n",
       "      <td>60.0</td>\n",
       "      <td>0</td>\n",
       "      <td>0</td>\n",
       "      <td>0</td>\n",
       "      <td>0.0</td>\n",
       "      <td>0</td>\n",
       "      <td>C</td>\n",
       "      <td>216</td>\n",
       "      <td>True</td>\n",
       "      <td>/home/data4/share/rsna-breast-cancer-detection...</td>\n",
       "      <td>jpg</td>\n",
       "    </tr>\n",
       "  </tbody>\n",
       "</table>\n",
       "</div>"
      ],
      "text/plain": [
       "       site_id  patient_id    image_id laterality view   age  cancer  biopsy  \\\n",
       "29514        1        9973  1729524723          R  MLO  43.0       0       0   \n",
       "29515        1        9989    63473691          L  MLO  60.0       0       0   \n",
       "29516        1        9989  1078943060          L   CC  60.0       0       0   \n",
       "29517        1        9989   398038886          R  MLO  60.0       0       0   \n",
       "29518        1        9989   439796429          R   CC  60.0       0       0   \n",
       "\n",
       "       invasive  BIRADS  implant density  machine_id  difficult_negative_case  \\\n",
       "29514         0     1.0        0       C          49                    False   \n",
       "29515         0     NaN        0       C         216                    False   \n",
       "29516         0     NaN        0       C         216                    False   \n",
       "29517         0     0.0        0       C         216                     True   \n",
       "29518         0     0.0        0       C         216                     True   \n",
       "\n",
       "                                                dcm_path type  \n",
       "29514  /home/data4/share/rsna-breast-cancer-detection...  jpg  \n",
       "29515  /home/data4/share/rsna-breast-cancer-detection...  jpg  \n",
       "29516  /home/data4/share/rsna-breast-cancer-detection...  jpg  \n",
       "29517  /home/data4/share/rsna-breast-cancer-detection...  jpg  \n",
       "29518  /home/data4/share/rsna-breast-cancer-detection...  jpg  "
      ]
     },
     "execution_count": 5,
     "metadata": {},
     "output_type": "execute_result"
    }
   ],
   "source": [
    "df_jpg = df[df[\"type\"]==\"jpg\"].copy().reset_index(drop=True)\n",
    "df_jpg.tail()"
   ]
  },
  {
   "cell_type": "code",
   "execution_count": 35,
   "id": "b8de1a7d-95f1-40d5-8341-852ee1f88e01",
   "metadata": {},
   "outputs": [
    {
     "data": {
      "text/plain": [
       "['./rsna_768_png/10038_1350492010.png',\n",
       " './rsna_768_png/10006_462822612.png',\n",
       " './rsna_768_png/10006_1874946579.png',\n",
       " './rsna_768_png/10006_1459541791.png',\n",
       " './rsna_768_png/10038_850559196.png',\n",
       " './rsna_768_png/10006_1864590858.png',\n",
       " './rsna_768_png/10038_1967300488.png',\n",
       " './rsna_768_png/10038_2142944869.png']"
      ]
     },
     "execution_count": 35,
     "metadata": {},
     "output_type": "execute_result"
    }
   ],
   "source": [
    "rsna_768_images = glob.glob(\"./rsna_768_png/*.png\")\n",
    "rsna_768_images"
   ]
  },
  {
   "cell_type": "markdown",
   "id": "5186e956-da89-48eb-bf9f-ca8a3d737acc",
   "metadata": {},
   "source": [
    "## DALI Pipeline for j2k"
   ]
  },
  {
   "cell_type": "code",
   "execution_count": 229,
   "id": "93824e47-1673-42a2-adf4-8413be56bbb8",
   "metadata": {},
   "outputs": [],
   "source": [
    "def to_3_channels(img, is_monochrome1):\n",
    "    img = (img - img.min()) / (img.max() - img.min())\n",
    "    \n",
    "    if is_monochrome1:\n",
    "        img = 1 - img    \n",
    "    img = (img * 255)\n",
    "    \n",
    "    # 1 channel -> 3 channels\n",
    "    img_3c = np.zeros((np.array(img).shape[0], np.array(img).shape[1], 3))\n",
    "    img_3c[:,:,0] = img \n",
    "    img_3c[:,:,1] = img\n",
    "    img_3c[:,:,2] = img\n",
    "\n",
    "    return img_3c.astype(np.uint8)"
   ]
  },
  {
   "cell_type": "code",
   "execution_count": 288,
   "id": "9a57f538-b228-4dca-b2a7-5cb0d9da454c",
   "metadata": {},
   "outputs": [],
   "source": [
    "class J2kIterator(object):\n",
    "    def __init__(self, df, img_dir, batch_size):\n",
    "        self.df = df\n",
    "        self.img_dir = img_dir\n",
    "        self.batch_size = batch_size\n",
    "\n",
    "    def dicom_to_j2k(self, img_dir, patient_id, image_id):\n",
    "        dcmfile = pydicom.dcmread(f'{img_dir}/{patient_id}/{image_id}.dcm')\n",
    "        \n",
    "        if dcmfile.file_meta.TransferSyntaxUID == '1.2.840.10008.1.2.4.90':\n",
    "            with open(f'{img_dir}/{patient_id}/{image_id}.dcm', 'rb') as fp:\n",
    "                raw = DicomBytesIO(fp.read())\n",
    "                ds = pydicom.dcmread(raw)\n",
    "            offset = ds.PixelData.find(b\"\\x00\\x00\\x00\\x0C\")\n",
    "\n",
    "            return np.frombuffer(ds.PixelData[offset:], dtype=np.uint8), dcmfile.PhotometricInterpretation == 'MONOCHROME1'\n",
    "\n",
    "    def __len__(self):\n",
    "        return int(np.ceil(len(self.df) / self.batch_size))\n",
    "\n",
    "    def __iter__(self):\n",
    "        self.i = 0\n",
    "        return self\n",
    "\n",
    "    def __next__(self):\n",
    "        if self.i > len(self.df):\n",
    "            raise StopIteration\n",
    "\n",
    "        compressed_imgs, is_monochrome_imgs, img_ids = [], [], []\n",
    "\n",
    "        batch_start, batch_finish = self.i, min(self.i + self.batch_size, len(self.df))\n",
    "        df_batch = self.df.iloc[range(batch_start, batch_finish)]\n",
    "\n",
    "        for patient_id, img_id in df_batch[[\"patient_id\", \"image_id\"]].values:\n",
    "            compressed_img, is_monochrome_img = self.dicom_to_j2k(self.img_dir, patient_id, img_id)\n",
    "\n",
    "            compressed_imgs.append(compressed_img)\n",
    "            is_monochrome_imgs.append(np.array([is_monochrome_img], dtype = np.bool_))\n",
    "\n",
    "            img_ids.append(np.array([img_id], dtype = np.int64))\n",
    "\n",
    "        self.i += self.batch_size\n",
    "\n",
    "        return compressed_imgs, is_monochrome_imgs, img_ids"
   ]
  },
  {
   "cell_type": "code",
   "execution_count": 289,
   "id": "4e8f1c6d-f7d5-4fa2-8cce-944385bf6a4e",
   "metadata": {},
   "outputs": [],
   "source": [
    "J2kIter = J2kIterator(df=df[df[\"patient_id\"]==10006], img_dir=Config[\"dcm_dir\"], batch_size=4)"
   ]
  },
  {
   "cell_type": "code",
   "execution_count": 290,
   "id": "050dc0f8-f6c5-432b-8c09-c8ff8cc6ad17",
   "metadata": {},
   "outputs": [],
   "source": [
    "@pipeline_def\n",
    "def j2k_decode_pipeline(width, height):\n",
    "    imgs, is_monochromes, img_ids = fn.external_source(\n",
    "        source=J2kIter, num_outputs=3, device=\"cpu\", dtype = [types.UINT8, types.BOOL, types.INT64],\n",
    "    )\n",
    "    \n",
    "    imgs = fn.experimental.decoders.image(\n",
    "        imgs, device='mixed', output_type=types.ANY_DATA, dtype=DALIDataType.UINT16\n",
    "    )\n",
    "    # the results of cv2.resize() and fn.resize() are not the same\n",
    "    imgs = fn.resize(imgs, size=[width, height], device=\"gpu\")\n",
    "    return imgs, is_monochromes, img_ids\n",
    "\n",
    "def j2k_pipe_postprocessing(pipe_out, idx, patient_id):\n",
    "    # image id\n",
    "    img_id = pipe_out[2].as_array().squeeze().tolist()[idx]\n",
    "\n",
    "    # MONOCHROME1\n",
    "    is_monochrome1 = pipe_out[1].as_array()[idx]\n",
    "    \n",
    "    # image post-processing \n",
    "    img = pipe_out[0].as_cpu().as_array()[idx].squeeze()\n",
    "\n",
    "    dcmfile = pydicom.dcmread(f\"/home/data4/share/rsna-breast-cancer-detection/train_images/{patient_id}/{img_id}.dcm\")\n",
    "    img_window = apply_windowing(img, dcmfile)\n",
    "\n",
    "    img = to_3_channels(img, is_monochrome1)\n",
    "    img_window = to_3_channels(img_window, is_monochrome1)\n",
    "\n",
    "    return img, img_window, img_id"
   ]
  },
  {
   "cell_type": "code",
   "execution_count": 310,
   "id": "f3a8b4de-111d-4f75-ad63-39350e4359b9",
   "metadata": {},
   "outputs": [],
   "source": [
    "pipe = j2k_decode_pipeline(width=768, height=768, batch_size=4, num_threads=2, device_id=0, \n",
    "                           py_num_workers=1, exec_async=False, exec_pipelined=False)\n",
    "pipe.build()"
   ]
  },
  {
   "cell_type": "code",
   "execution_count": 311,
   "id": "228ad531-2e18-4989-a813-2debd1dfcac9",
   "metadata": {},
   "outputs": [
    {
     "name": "stdout",
     "output_type": "stream",
     "text": [
      "CPU times: user 140 ms, sys: 47.6 ms, total: 187 ms\n",
      "Wall time: 143 ms\n"
     ]
    }
   ],
   "source": [
    "%%time\n",
    "j2k_out = pipe.run()\n",
    "j2k_img, j2k_img_window, j2k_img_id = j2k_pipe_postprocessing(j2k_out, 0, 10006)"
   ]
  },
  {
   "cell_type": "code",
   "execution_count": 312,
   "id": "acb960ef-4f59-4dcf-9c89-c54731d5389c",
   "metadata": {},
   "outputs": [
    {
     "data": {
      "image/png": "[encoded data removed]",
      "text/plain": [
       "<Figure size 640x480 with 1 Axes>"
      ]
     },
     "metadata": {},
     "output_type": "display_data"
    }
   ],
   "source": [
    "plt.imshow(j2k_img_window, cmap='bone')\n",
    "plt.show()"
   ]
  },
  {
   "cell_type": "code",
   "execution_count": 313,
   "id": "fd462493-54a0-40ac-a0ca-c81d47596303",
   "metadata": {},
   "outputs": [
    {
     "data": {
      "image/png": "[encoded data removed]",
      "text/plain": [
       "<Figure size 640x480 with 1 Axes>"
      ]
     },
     "metadata": {},
     "output_type": "display_data"
    }
   ],
   "source": [
    "plt.imshow(j2k_img, cmap='bone')\n",
    "plt.show()"
   ]
  },
  {
   "cell_type": "code",
   "execution_count": 314,
   "id": "ed5dd466-0dc4-4c04-840f-7f1393bda42f",
   "metadata": {},
   "outputs": [
    {
     "data": {
      "image/png": "[encoded data removed]",
      "text/plain": [
       "<Figure size 640x480 with 1 Axes>"
      ]
     },
     "metadata": {},
     "output_type": "display_data"
    }
   ],
   "source": [
    "png_img = cv2.imread(rsna_768_images[1])\n",
    "plt.imshow(png_img, cmap='bone')\n",
    "plt.show()"
   ]
  },
  {
   "cell_type": "markdown",
   "id": "28af24db-22d5-4645-af6e-90bc29d8fcc8",
   "metadata": {},
   "source": [
    "## DALI Pipeline for jpg"
   ]
  },
  {
   "cell_type": "code",
   "execution_count": 18,
   "id": "01a71177-65d9-4267-978b-81d22d7425ce",
   "metadata": {},
   "outputs": [],
   "source": [
    "class JpgIterator(object):\n",
    "    def __init__(self, df, batch_size, img_dir):\n",
    "        self.df = df\n",
    "        self.batch_size = batch_size\n",
    "        self.img_dir = img_dir\n",
    "       \n",
    "    @staticmethod\n",
    "    def decompress_jpg(dm):\n",
    "        info = dm.getPixelDataInfo()\n",
    "        img = np.empty((info['Rows'], info['Cols']), dtype = info['dtype'])\n",
    "        dm.copyFrameData(0, img)\n",
    "        return img\n",
    "    \n",
    "    def process_img(self, img_dir, patient_id, image_id):\n",
    "        dm = dicomsdl.open(f'{img_dir}/{patient_id}/{image_id}.dcm')\n",
    "        return self.decompress_jpg(dm).astype(np.uint16), dm.PhotometricInterpretation == 'MONOCHROME1'\n",
    "        \n",
    "    def __len__(self):\n",
    "        return int(np.ceil(len(self.df) / self.batch_size))\n",
    "\n",
    "    def __iter__(self):\n",
    "        self.i = 0\n",
    "        return self\n",
    "\n",
    "    def __next__(self):\n",
    "        if self.i > len(self.df):\n",
    "            raise StopIteration\n",
    "        \n",
    "        decompressed_imgs, is_monochrome_imgs, img_ids = [], [], []\n",
    "        \n",
    "        df = self.df.iloc[range(self.i, min(self.i + self.batch_size, len(self.df)))]\n",
    "        \n",
    "        for p_id, i_id in df[['patient_id', 'image_id']].values:\n",
    "            decompressed_img, is_monochrome_img = self.process_img(self.img_dir, p_id, i_id)\n",
    "            \n",
    "            decompressed_imgs.append(np.expand_dims(decompressed_img, axis = 2))\n",
    "            is_monochrome_imgs.append(np.array([is_monochrome_img], dtype = np.bool_))\n",
    "            img_ids.append(np.array([i_id], dtype = np.int64))\n",
    "            \n",
    "        self.i += self.batch_size\n",
    "                    \n",
    "        return decompressed_imgs, is_monochrome_imgs, img_ids"
   ]
  },
  {
   "cell_type": "code",
   "execution_count": 233,
   "id": "e42b6f18-b2f8-459f-b86d-402ad86c2d7d",
   "metadata": {},
   "outputs": [],
   "source": [
    "JpgIter = JpgIterator(df=df[df[\"patient_id\"]==10038], batch_size=4, img_dir=Config[\"dcm_dir\"])"
   ]
  },
  {
   "cell_type": "code",
   "execution_count": 287,
   "id": "538ac035-d7a0-40f3-aad0-1c4b2ce3fd80",
   "metadata": {},
   "outputs": [],
   "source": [
    "@pipeline_def\n",
    "def jpg_process_pipeline(width, height):\n",
    "    imgs, is_monochromes, img_ids = fn.external_source(\n",
    "        source = JpgIter, num_outputs = 3, device = \"gpu\", dtype = [types.UINT16, types.BOOL, types.INT64],\n",
    "    )\n",
    "    \n",
    "    imgs = fn.reinterpret(imgs, layout = \"HWC\")\n",
    "    # the results of cv2.resize() and fn.resize() are not the same\n",
    "    imgs = fn.resize(imgs, size=[width, height], device=\"gpu\")\n",
    "    \n",
    "    return imgs, is_monochromes, img_ids\n",
    "\n",
    "def jpg_pipe_postprocessing(pipe_out, idx, patient_id):\n",
    "    # image id\n",
    "    img_id = pipe_out[2].as_cpu().as_array().squeeze().tolist()[idx]\n",
    "\n",
    "    # MONOCHROME1\n",
    "    is_monochrom1 = pipe_out[1].as_cpu().as_array()[idx]\n",
    "    \n",
    "    # image post-processing\n",
    "    img = pipe_out[0].as_cpu().as_array()[idx].squeeze()\n",
    "\n",
    "    dcmfile = pydicom.dcmread(f\"/home/data4/share/rsna-breast-cancer-detection/train_images/{patient_id}/{img_id}.dcm\")\n",
    "    img_window = apply_windowing(img, dcmfile)\n",
    "\n",
    "    img = to_3_channels(img, is_monochrom1)\n",
    "    img_window = to_3_channels(img_window, is_monochrom1)\n",
    "\n",
    "\n",
    "    return img, img_window, img_id"
   ]
  },
  {
   "cell_type": "code",
   "execution_count": 243,
   "id": "a030c638-0b85-4d7a-b294-bd5b2b8394e6",
   "metadata": {},
   "outputs": [],
   "source": [
    "pipe = jpg_process_pipeline(width=768, height=768, batch_size=4, num_threads=2, device_id=0, \n",
    "                           py_num_workers=1, exec_async=False, exec_pipelined=False)\n",
    "pipe.build()"
   ]
  },
  {
   "cell_type": "code",
   "execution_count": 286,
   "id": "79d5b8d7-c6d3-40bd-914a-26dec1d94812",
   "metadata": {
    "scrolled": true
   },
   "outputs": [
    {
     "ename": "StopIteration",
     "evalue": "",
     "output_type": "error",
     "traceback": [
      "\u001b[0;31m---------------------------------------------------------------------------\u001b[0m",
      "\u001b[0;31mStopIteration\u001b[0m                             Traceback (most recent call last)",
      "File \u001b[0;32m<timed exec>:1\u001b[0m\n",
      "File \u001b[0;32m~/miniconda3/envs/dalienv/lib/python3.8/site-packages/nvidia/dali/pipeline.py:1275\u001b[0m, in \u001b[0;36mPipeline.run\u001b[0;34m(self, **pipeline_inputs)\u001b[0m\n\u001b[1;32m   1273\u001b[0m \u001b[38;5;28;01mwith\u001b[39;00m \u001b[38;5;28mself\u001b[39m\u001b[38;5;241m.\u001b[39m_check_api_type_scope(types\u001b[38;5;241m.\u001b[39mPipelineAPIType\u001b[38;5;241m.\u001b[39mBASIC):\n\u001b[1;32m   1274\u001b[0m     \u001b[38;5;28mself\u001b[39m\u001b[38;5;241m.\u001b[39mschedule_run()\n\u001b[0;32m-> 1275\u001b[0m     \u001b[38;5;28;01mreturn\u001b[39;00m \u001b[38;5;28;43mself\u001b[39;49m\u001b[38;5;241;43m.\u001b[39;49m\u001b[43moutputs\u001b[49m\u001b[43m(\u001b[49m\u001b[43m)\u001b[49m\n",
      "File \u001b[0;32m~/miniconda3/envs/dalienv/lib/python3.8/site-packages/nvidia/dali/pipeline.py:1111\u001b[0m, in \u001b[0;36mPipeline.outputs\u001b[0;34m(self)\u001b[0m\n\u001b[1;32m   1109\u001b[0m \u001b[38;5;28mself\u001b[39m\u001b[38;5;241m.\u001b[39m_consumer_iter \u001b[38;5;241m+\u001b[39m\u001b[38;5;241m=\u001b[39m \u001b[38;5;241m1\u001b[39m\n\u001b[1;32m   1110\u001b[0m \u001b[38;5;28;01mif\u001b[39;00m \u001b[38;5;28mself\u001b[39m\u001b[38;5;241m.\u001b[39m_batches_to_consume \u001b[38;5;241m==\u001b[39m \u001b[38;5;241m0\u001b[39m:\n\u001b[0;32m-> 1111\u001b[0m     \u001b[38;5;28;01mraise\u001b[39;00m \u001b[38;5;167;01mStopIteration\u001b[39;00m\n\u001b[1;32m   1112\u001b[0m \u001b[38;5;28mself\u001b[39m\u001b[38;5;241m.\u001b[39m_batches_to_consume \u001b[38;5;241m-\u001b[39m\u001b[38;5;241m=\u001b[39m \u001b[38;5;241m1\u001b[39m\n\u001b[1;32m   1113\u001b[0m \u001b[38;5;28;01mreturn\u001b[39;00m \u001b[38;5;28mself\u001b[39m\u001b[38;5;241m.\u001b[39m_outputs()\n",
      "\u001b[0;31mStopIteration\u001b[0m: "
     ]
    }
   ],
   "source": [
    "%%time\n",
    "jpg_out = pipe.run()\n",
    "jpg_img, jpg_img_window, jpg_img_id = jpg_pipe_postprocessing(jpg_out, 0, patient_id=10038)\n",
    "jpg_img_id"
   ]
  },
  {
   "cell_type": "code",
   "execution_count": 246,
   "id": "3b9c5ede-850d-40be-a6ab-6e12dfce0141",
   "metadata": {},
   "outputs": [
    {
     "data": {
      "image/png": "[encoded data removed]",
      "text/plain": [
       "<Figure size 640x480 with 1 Axes>"
      ]
     },
     "metadata": {},
     "output_type": "display_data"
    }
   ],
   "source": [
    "plt.imshow(jpg_img_window, cmap='bone')\n",
    "plt.show()"
   ]
  },
  {
   "cell_type": "code",
   "execution_count": 245,
   "id": "8173bc4b-8b9f-4a49-9639-4c4c5ab6017d",
   "metadata": {},
   "outputs": [
    {
     "data": {
      "image/png": "[encoded data removed]",
      "text/plain": [
       "<Figure size 640x480 with 1 Axes>"
      ]
     },
     "metadata": {},
     "output_type": "display_data"
    }
   ],
   "source": [
    "plt.imshow(jpg_img, cmap='bone')\n",
    "plt.show()"
   ]
  },
  {
   "cell_type": "code",
   "execution_count": 241,
   "id": "5ede6295-a9c1-4ad4-af4c-119dfba295bc",
   "metadata": {},
   "outputs": [
    {
     "data": {
      "image/png": "[encoded data removed]",
      "text/plain": [
       "<Figure size 640x480 with 1 Axes>"
      ]
     },
     "metadata": {},
     "output_type": "display_data"
    }
   ],
   "source": [
    "png_img = cv2.imread(rsna_768_images[6])\n",
    "plt.imshow(png_img, cmap='bone')\n",
    "plt.show()"
   ]
  },
  {
   "cell_type": "markdown",
   "id": "fe11bb6f-f0f6-4f50-b05f-5639adc371e8",
   "metadata": {},
   "source": [
    "## YOLOv5"
   ]
  },
  {
   "cell_type": "code",
   "execution_count": 130,
   "id": "6da12b12-4aa1-4e5b-8cd8-c9235836cec9",
   "metadata": {},
   "outputs": [],
   "source": [
    "if not os.path.isdir('./yolov5'):\n",
    "    !git clone https://github.com/ultralytics/yolov5 "
   ]
  },
  {
   "cell_type": "code",
   "execution_count": 131,
   "id": "cc4e862b-da41-407c-b8eb-e54708ab9386",
   "metadata": {},
   "outputs": [],
   "source": [
    "def get_yolo():\n",
    "    b = plt.get_backend()\n",
    "    model = torch.hub.load('./yolov5/', 'custom', path='./yolov5/rsna-roi-003.pt', source='local')\n",
    "    matplotlib.use(b) \n",
    "    return model"
   ]
  },
  {
   "cell_type": "code",
   "execution_count": 247,
   "id": "5450a5de-08de-4b56-8cfd-34158b8b85a7",
   "metadata": {},
   "outputs": [],
   "source": [
    "def roi_extraction_yolov5(model, img):\n",
    "    #select only best prediction\n",
    "    prediction = model(img).pandas().xyxy[0].to_dict(orient='records')\n",
    "    if len(prediction)==0:\n",
    "        return None\n",
    "        \n",
    "    prediction = prediction[0]\n",
    "    result = {key:prediction[key] for key in ['xmin','xmax','ymin','ymax']}\n",
    "    \n",
    "    if 768 - result['xmax'] < 10:\n",
    "        result['xmax'] = 768\n",
    "        \n",
    "    if result['xmin'] < 10:\n",
    "        result['xmin'] = 0\n",
    "    return result"
   ]
  },
  {
   "cell_type": "code",
   "execution_count": 248,
   "id": "931c7168-7c7c-493f-addd-efadde29d711",
   "metadata": {},
   "outputs": [],
   "source": [
    "def roi_extraction_cv2(img):\n",
    "    # Otsu's thresholding after Gaussian filtering\n",
    "    img = cv2.cvtColor(img, cv2.COLOR_BGR2GRAY)\n",
    "    blur = cv2.GaussianBlur(img, (5, 5), 0)\n",
    "    _, breast_mask = cv2.threshold(blur, 0, 255, cv2.THRESH_BINARY+cv2.THRESH_OTSU)\n",
    "    \n",
    "    cnts, _ = cv2.findContours(breast_mask.astype(np.uint8), cv2.RETR_EXTERNAL, cv2.CHAIN_APPROX_SIMPLE)\n",
    "    cnt = max(cnts, key = cv2.contourArea)\n",
    "    x, y, w, h = cv2.boundingRect(cnt)\n",
    "    roi = {\n",
    "        \"xmin\": x,\n",
    "        \"ymin\": y,\n",
    "        \"xmax\": x + w,\n",
    "        \"ymax\": y + h\n",
    "    }\n",
    "    return roi"
   ]
  },
  {
   "cell_type": "code",
   "execution_count": 315,
   "id": "46ae65db-ed46-45d9-9520-a50f30bf0c6b",
   "metadata": {},
   "outputs": [],
   "source": [
    "def show_img_and_roi(img, roi):\n",
    "    fig = plt.figure(figsize=(5, 5))\n",
    "    rect = cv2.rectangle(img, (int(roi['xmin']), int(roi['ymin'])), (int(roi['xmax']), int(roi['ymax'])), (255,0,0), 4)\n",
    "    \n",
    "    plt.imshow(img, cmap='bone')\n",
    "    plt.show()"
   ]
  },
  {
   "cell_type": "code",
   "execution_count": 250,
   "id": "2354fd27-652b-4335-b7ca-63a1e8e31041",
   "metadata": {},
   "outputs": [
    {
     "name": "stderr",
     "output_type": "stream",
     "text": [
      "YOLOv5 🚀 v7.0-312-g1bcd17ee Python-3.8.19 torch-1.13.1+cu116 CUDA:0 (Quadro RTX 8000, 48593MiB)\n",
      "\n",
      "Fusing layers... \n",
      "Model summary: 157 layers, 7012822 parameters, 0 gradients, 15.8 GFLOPs\n",
      "Adding AutoShape... \n"
     ]
    }
   ],
   "source": [
    "roi_model = get_yolo()"
   ]
  },
  {
   "cell_type": "code",
   "execution_count": 318,
   "id": "07cc7f24-a965-4958-8a10-615fc194909e",
   "metadata": {},
   "outputs": [
    {
     "data": {
      "image/png": "[encoded data removed]",
      "text/plain": [
       "<Figure size 500x500 with 1 Axes>"
      ]
     },
     "metadata": {},
     "output_type": "display_data"
    },
    {
     "data": {
      "image/png": "[encoded data removed]",
      "text/plain": [
       "<Figure size 500x500 with 1 Axes>"
      ]
     },
     "metadata": {},
     "output_type": "display_data"
    },
    {
     "data": {
      "image/png": "[encoded data removed]",
      "text/plain": [
       "<Figure size 500x500 with 1 Axes>"
      ]
     },
     "metadata": {},
     "output_type": "display_data"
    },
    {
     "data": {
      "image/png": "[encoded data removed]",
      "text/plain": [
       "<Figure size 500x500 with 1 Axes>"
      ]
     },
     "metadata": {},
     "output_type": "display_data"
    }
   ],
   "source": [
    "j2k_imgs = []\n",
    "j2k_rois = []\n",
    "for i in range(len(j2k_out[0])):\n",
    "    j2k_img, j2k_img_window, _ = j2k_pipe_postprocessing(j2k_out, i, 10006)\n",
    "    roi = roi_extraction_yolov5(roi_model, j2k_img)\n",
    "    show_img_and_roi(j2k_img_window, roi)"
   ]
  },
  {
   "cell_type": "code",
   "execution_count": 335,
   "id": "3aeb4bdb-f7a0-4715-bc13-95af83249c42",
   "metadata": {},
   "outputs": [],
   "source": [
    "jpg_imgs = []\n",
    "jpg_rois = []\n",
    "for i in range(len(jpg_out[0])):\n",
    "    jpg_img, jpg_img_window, _ = jpg_pipe_postprocessing(jpg_out, i, 10038)\n",
    "    roi = roi_extraction_yolov5(roi_model, jpg_img)"
   ]
  },
  {
   "cell_type": "markdown",
   "id": "4291a3ea-f271-46ce-b2d1-0e7cf66f05c6",
   "metadata": {},
   "source": [
    "## Resize and Padding"
   ]
  },
  {
   "cell_type": "code",
   "execution_count": 448,
   "id": "0a4f0294-51d7-486a-bf15-746e97c51ffc",
   "metadata": {},
   "outputs": [],
   "source": [
    "def resize_and_pad(img, input_size=[2048, 1024]):\n",
    "    input_h, input_w = input_size\n",
    "    ori_h, ori_w = img.shape[:2]\n",
    "    ratio = min(input_h / ori_h, input_w / ori_w)\n",
    "    # resize\n",
    "    img = torch.from_numpy(img[:,:,0])\n",
    "    img = img.to(torch.float32)\n",
    "    img = F.interpolate(img.view(1, 1, ori_h, ori_w),\n",
    "                        mode=\"bilinear\",\n",
    "                        scale_factor=ratio,\n",
    "                        recompute_scale_factor=True)[0, 0]\n",
    "    # padding\n",
    "    padded_img = torch.zeros((input_h, input_w),\n",
    "                             dtype=img.dtype,\n",
    "                             device='cuda')\n",
    "    cur_h, cur_w = img.shape\n",
    "    y_start = (input_h - cur_h) // 2\n",
    "    x_start = (input_w - cur_w) // 2\n",
    "    padded_img[y_start:y_start + cur_h, x_start:x_start + cur_w] = img\n",
    "    padded_img = padded_img.unsqueeze(-1).expand(-1, -1, 3)\n",
    "    padded_img = padded_img.to(torch.uint8)\n",
    "    padded_img = padded_img.cpu().numpy()\n",
    "    \n",
    "    return padded_img"
   ]
  },
  {
   "cell_type": "code",
   "execution_count": 449,
   "id": "c96c035e-4e9c-42c9-9ed3-18af56cd2e31",
   "metadata": {},
   "outputs": [
    {
     "data": {
      "image/png": "[encoded data removed]",
      "text/plain": [
       "<Figure size 640x480 with 1 Axes>"
      ]
     },
     "metadata": {},
     "output_type": "display_data"
    }
   ],
   "source": [
    "test_crop = crop_img(jpg_img_window, roi)\n",
    "rp_img = resize_and_pad(test_crop)\n",
    "plt.imshow(rp_img, cmap='bone')\n",
    "plt.show()"
   ]
  },
  {
   "cell_type": "markdown",
   "id": "c4835779-03ec-4f81-a9f1-62fd9c894f1d",
   "metadata": {},
   "source": [
    "## Crop and Save Images"
   ]
  },
  {
   "cell_type": "code",
   "execution_count": 445,
   "id": "ded29d72-0e4f-49ac-bfcf-4c25be27df61",
   "metadata": {},
   "outputs": [],
   "source": [
    "def crop_img(img, roi):\n",
    "    x, y = int(roi[\"xmin\"]), int(roi[\"ymin\"])\n",
    "    w, h = int(roi[\"xmax\"] - roi[\"xmin\"]), int(roi[\"ymax\"] - roi[\"ymin\"])\n",
    "    return img[y:y+h, x:x+w]"
   ]
  },
  {
   "cell_type": "code",
   "execution_count": 446,
   "id": "7193cdfd-d05c-468d-9cb7-02ce95751ad7",
   "metadata": {},
   "outputs": [],
   "source": [
    "def check_mkdir(file_path, isdir:bool=False):\n",
    "    path_sep_list = os.path.abspath(file_path).split(os.path.sep)\n",
    "\n",
    "    if ':' in path_sep_list[0]:\n",
    "        path_sep_list[0] = path_sep_list[0]+os.path.sep\n",
    "\n",
    "    for depth_i in range(len(path_sep_list)):\n",
    "        if depth_i >0:\n",
    "            dir_path = os.path.join(*path_sep_list[:depth_i])\n",
    "            if path_sep_list[0]=='':\n",
    "                dir_path = '/'+dir_path\n",
    "            if not os.path.exists(dir_path):\n",
    "                os.mkdir(dir_path)\n",
    "    if isdir:\n",
    "        if not os.path.exists(file_path):\n",
    "            os.mkdir(file_path)"
   ]
  },
  {
   "cell_type": "code",
   "execution_count": 454,
   "id": "7ee281b0-deb7-44cc-b3c1-505cce6b41d4",
   "metadata": {},
   "outputs": [
    {
     "name": "stderr",
     "output_type": "stream",
     "text": [
      "  0%|▏                                                                                                                                                     | 7/6095 [00:05<1:24:49,  1.20it/s]"
     ]
    },
    {
     "name": "stdout",
     "output_type": "stream",
     "text": [
      "cropping failed...\n"
     ]
    },
    {
     "name": "stderr",
     "output_type": "stream",
     "text": [
      "  5%|███████▌                                                                                                                                            | 311/6095 [04:41<1:30:15,  1.07it/s]"
     ]
    },
    {
     "name": "stdout",
     "output_type": "stream",
     "text": [
      "cropping failed...\n"
     ]
    },
    {
     "name": "stderr",
     "output_type": "stream",
     "text": [
      "  5%|███████▋                                                                                                                                            | 318/6095 [04:47<1:31:30,  1.05it/s]"
     ]
    },
    {
     "name": "stdout",
     "output_type": "stream",
     "text": [
      "cropping failed...\n"
     ]
    },
    {
     "name": "stderr",
     "output_type": "stream",
     "text": [
      " 10%|██████████████▍                                                                                                                                     | 594/6095 [08:59<1:19:19,  1.16it/s]"
     ]
    },
    {
     "name": "stdout",
     "output_type": "stream",
     "text": [
      "cropping failed...\n"
     ]
    },
    {
     "name": "stderr",
     "output_type": "stream",
     "text": [
      " 10%|███████████████▍                                                                                                                                    | 634/6095 [09:36<1:23:17,  1.09it/s]"
     ]
    },
    {
     "name": "stdout",
     "output_type": "stream",
     "text": [
      "cropping failed...\n"
     ]
    },
    {
     "name": "stderr",
     "output_type": "stream",
     "text": [
      " 11%|████████████████                                                                                                                                    | 661/6095 [10:01<1:33:02,  1.03s/it]"
     ]
    },
    {
     "name": "stdout",
     "output_type": "stream",
     "text": [
      "cropping failed...\n"
     ]
    },
    {
     "name": "stderr",
     "output_type": "stream",
     "text": [
      " 11%|████████████████▊                                                                                                                                   | 694/6095 [10:30<1:22:13,  1.09it/s]"
     ]
    },
    {
     "name": "stdout",
     "output_type": "stream",
     "text": [
      "cropping failed...\n",
      "cropping failed...\n"
     ]
    },
    {
     "name": "stderr",
     "output_type": "stream",
     "text": [
      " 11%|████████████████▉                                                                                                                                   | 695/6095 [10:31<1:15:14,  1.20it/s]"
     ]
    },
    {
     "name": "stdout",
     "output_type": "stream",
     "text": [
      "cropping failed...\n"
     ]
    },
    {
     "name": "stderr",
     "output_type": "stream",
     "text": [
      " 15%|██████████████████████▌                                                                                                                             | 929/6095 [14:06<1:14:54,  1.15it/s]"
     ]
    },
    {
     "name": "stdout",
     "output_type": "stream",
     "text": [
      "cropping failed...\n"
     ]
    },
    {
     "name": "stderr",
     "output_type": "stream",
     "text": [
      " 17%|█████████████████████████▋                                                                                                                         | 1063/6095 [16:09<1:11:30,  1.17it/s]"
     ]
    },
    {
     "name": "stdout",
     "output_type": "stream",
     "text": [
      "cropping failed...\n"
     ]
    },
    {
     "name": "stderr",
     "output_type": "stream",
     "text": [
      " 18%|█████████████████████████▊                                                                                                                         | 1068/6095 [16:14<1:10:47,  1.18it/s]"
     ]
    },
    {
     "name": "stdout",
     "output_type": "stream",
     "text": [
      "cropping failed...\n",
      "cropping failed...\n"
     ]
    },
    {
     "name": "stderr",
     "output_type": "stream",
     "text": [
      " 18%|█████████████████████████▊                                                                                                                         | 1069/6095 [16:14<1:05:22,  1.28it/s]"
     ]
    },
    {
     "name": "stdout",
     "output_type": "stream",
     "text": [
      "cropping failed...\n",
      "cropping failed...\n"
     ]
    },
    {
     "name": "stderr",
     "output_type": "stream",
     "text": [
      " 23%|█████████████████████████████████▌                                                                                                                 | 1394/6095 [21:14<1:18:56,  1.01s/it]"
     ]
    },
    {
     "name": "stdout",
     "output_type": "stream",
     "text": [
      "cropping failed...\n"
     ]
    },
    {
     "name": "stderr",
     "output_type": "stream",
     "text": [
      " 23%|██████████████████████████████████                                                                                                                 | 1413/6095 [21:31<1:05:45,  1.19it/s]"
     ]
    },
    {
     "name": "stdout",
     "output_type": "stream",
     "text": [
      "cropping failed...\n",
      "cropping failed...\n"
     ]
    },
    {
     "name": "stderr",
     "output_type": "stream",
     "text": [
      " 23%|██████████████████████████████████▎                                                                                                                | 1424/6095 [21:41<1:10:35,  1.10it/s]"
     ]
    },
    {
     "name": "stdout",
     "output_type": "stream",
     "text": [
      "cropping failed...\n",
      "cropping failed...\n"
     ]
    },
    {
     "name": "stderr",
     "output_type": "stream",
     "text": [
      " 27%|████████████████████████████████████████▎                                                                                                          | 1670/6095 [25:32<1:05:57,  1.12it/s]"
     ]
    },
    {
     "name": "stdout",
     "output_type": "stream",
     "text": [
      "cropping failed...\n"
     ]
    },
    {
     "name": "stderr",
     "output_type": "stream",
     "text": [
      " 30%|███████████████████████████████████████████▉                                                                                                       | 1822/6095 [27:55<1:04:29,  1.10it/s]"
     ]
    },
    {
     "name": "stdout",
     "output_type": "stream",
     "text": [
      "cropping failed...\n"
     ]
    },
    {
     "name": "stderr",
     "output_type": "stream",
     "text": [
      " 32%|██████████████████████████████████████████████▎                                                                                                    | 1922/6095 [29:31<1:12:53,  1.05s/it]"
     ]
    },
    {
     "name": "stdout",
     "output_type": "stream",
     "text": [
      "cropping failed...\n"
     ]
    },
    {
     "name": "stderr",
     "output_type": "stream",
     "text": [
      " 34%|█████████████████████████████████████████████████▍                                                                                                 | 2050/6095 [31:30<1:05:31,  1.03it/s]"
     ]
    },
    {
     "name": "stdout",
     "output_type": "stream",
     "text": [
      "cropping failed...\n",
      "cropping failed...\n"
     ]
    },
    {
     "name": "stderr",
     "output_type": "stream",
     "text": [
      " 34%|██████████████████████████████████████████████████▍                                                                                                | 2091/6095 [32:08<1:05:28,  1.02it/s]"
     ]
    },
    {
     "name": "stdout",
     "output_type": "stream",
     "text": [
      "cropping failed...\n",
      "cropping failed...\n"
     ]
    },
    {
     "name": "stderr",
     "output_type": "stream",
     "text": [
      " 34%|███████████████████████████████████████████████████▏                                                                                                 | 2092/6095 [32:09<59:15,  1.13it/s]"
     ]
    },
    {
     "name": "stdout",
     "output_type": "stream",
     "text": [
      "cropping failed...\n"
     ]
    },
    {
     "name": "stderr",
     "output_type": "stream",
     "text": [
      " 36%|██████████████████████████████████████████████████████▏                                                                                              | 2215/6095 [34:04<55:54,  1.16it/s]"
     ]
    },
    {
     "name": "stdout",
     "output_type": "stream",
     "text": [
      "cropping failed...\n"
     ]
    },
    {
     "name": "stderr",
     "output_type": "stream",
     "text": [
      " 38%|███████████████████████████████████████████████████████▏                                                                                           | 2289/6095 [35:14<1:00:04,  1.06it/s]"
     ]
    },
    {
     "name": "stdout",
     "output_type": "stream",
     "text": [
      "cropping failed...\n"
     ]
    },
    {
     "name": "stderr",
     "output_type": "stream",
     "text": [
      " 43%|███████████████████████████████████████████████████████████████▊                                                                                     | 2608/6095 [40:11<51:21,  1.13it/s]"
     ]
    },
    {
     "name": "stdout",
     "output_type": "stream",
     "text": [
      "cropping failed...\n"
     ]
    },
    {
     "name": "stderr",
     "output_type": "stream",
     "text": [
      " 49%|█████████████████████████████████████████████████████████████████████████▎                                                                           | 2997/6095 [46:10<45:09,  1.14it/s]"
     ]
    },
    {
     "name": "stdout",
     "output_type": "stream",
     "text": [
      "cropping failed...\n",
      "cropping failed...\n"
     ]
    },
    {
     "name": "stderr",
     "output_type": "stream",
     "text": [
      " 51%|████████████████████████████████████████████████████████████████████████████                                                                         | 3111/6095 [47:54<43:30,  1.14it/s]"
     ]
    },
    {
     "name": "stdout",
     "output_type": "stream",
     "text": [
      "cropping failed...\n",
      "cropping failed...\n"
     ]
    },
    {
     "name": "stderr",
     "output_type": "stream",
     "text": [
      " 51%|████████████████████████████████████████████████████████████████████████████                                                                         | 3112/6095 [47:55<43:39,  1.14it/s]"
     ]
    },
    {
     "name": "stdout",
     "output_type": "stream",
     "text": [
      "cropping failed...\n"
     ]
    },
    {
     "name": "stderr",
     "output_type": "stream",
     "text": [
      " 51%|████████████████████████████████████████████████████████████████████████████▍                                                                        | 3125/6095 [48:07<46:48,  1.06it/s]"
     ]
    },
    {
     "name": "stdout",
     "output_type": "stream",
     "text": [
      "cropping failed...\n"
     ]
    },
    {
     "name": "stderr",
     "output_type": "stream",
     "text": [
      " 51%|████████████████████████████████████████████████████████████████████████████▍                                                                        | 3126/6095 [48:07<42:53,  1.15it/s]"
     ]
    },
    {
     "name": "stdout",
     "output_type": "stream",
     "text": [
      "cropping failed...\n"
     ]
    },
    {
     "name": "stderr",
     "output_type": "stream",
     "text": [
      " 52%|██████████████████████████████████████████████████████████████████████████████                                                                       | 3191/6095 [49:07<44:22,  1.09it/s]"
     ]
    },
    {
     "name": "stdout",
     "output_type": "stream",
     "text": [
      "cropping failed...\n"
     ]
    },
    {
     "name": "stderr",
     "output_type": "stream",
     "text": [
      " 53%|██████████████████████████████████████████████████████████████████████████████▍                                                                      | 3208/6095 [49:22<43:30,  1.11it/s]"
     ]
    },
    {
     "name": "stdout",
     "output_type": "stream",
     "text": [
      "cropping failed...\n",
      "cropping failed...\n"
     ]
    },
    {
     "name": "stderr",
     "output_type": "stream",
     "text": [
      " 53%|██████████████████████████████████████████████████████████████████████████████▍                                                                      | 3209/6095 [49:23<39:34,  1.22it/s]"
     ]
    },
    {
     "name": "stdout",
     "output_type": "stream",
     "text": [
      "cropping failed...\n",
      "cropping failed...\n"
     ]
    },
    {
     "name": "stderr",
     "output_type": "stream",
     "text": [
      " 53%|███████████████████████████████████████████████████████████████████████████████▏                                                                     | 3237/6095 [49:49<45:07,  1.06it/s]"
     ]
    },
    {
     "name": "stdout",
     "output_type": "stream",
     "text": [
      "cropping failed...\n"
     ]
    },
    {
     "name": "stderr",
     "output_type": "stream",
     "text": [
      " 54%|███████████████████████████████████████████████████████████████████████████████▉                                                                     | 3269/6095 [50:17<41:23,  1.14it/s]"
     ]
    },
    {
     "name": "stdout",
     "output_type": "stream",
     "text": [
      "cropping failed...\n"
     ]
    },
    {
     "name": "stderr",
     "output_type": "stream",
     "text": [
      " 56%|██████████████████████████████████████████████████████████████████████████████████▉                                                                  | 3394/6095 [52:11<41:42,  1.08it/s]"
     ]
    },
    {
     "name": "stdout",
     "output_type": "stream",
     "text": [
      "cropping failed...\n"
     ]
    },
    {
     "name": "stderr",
     "output_type": "stream",
     "text": [
      " 60%|█████████████████████████████████████████████████████████████████████████████████████████▋                                                           | 3667/6095 [56:25<39:51,  1.02it/s]"
     ]
    },
    {
     "name": "stdout",
     "output_type": "stream",
     "text": [
      "cropping failed...\n"
     ]
    },
    {
     "name": "stderr",
     "output_type": "stream",
     "text": [
      " 63%|██████████████████████████████████████████████████████████████████████████████████████████████                                                       | 3846/6095 [59:09<32:45,  1.14it/s]"
     ]
    },
    {
     "name": "stdout",
     "output_type": "stream",
     "text": [
      "cropping failed...\n"
     ]
    },
    {
     "name": "stderr",
     "output_type": "stream",
     "text": [
      " 66%|█████████████████████████████████████████████████████████████████████████████████████████████████▍                                                 | 4038/6095 [1:02:09<32:37,  1.05it/s]"
     ]
    },
    {
     "name": "stdout",
     "output_type": "stream",
     "text": [
      "cropping failed...\n"
     ]
    },
    {
     "name": "stderr",
     "output_type": "stream",
     "text": [
      " 70%|██████████████████████████████████████████████████████████████████████████████████████████████████████▍                                            | 4249/6095 [1:05:24<29:20,  1.05it/s]"
     ]
    },
    {
     "name": "stdout",
     "output_type": "stream",
     "text": [
      "cropping failed...\n"
     ]
    },
    {
     "name": "stderr",
     "output_type": "stream",
     "text": [
      " 71%|████████████████████████████████████████████████████████████████████████████████████████████████████████▋                                          | 4342/6095 [1:06:50<25:57,  1.13it/s]"
     ]
    },
    {
     "name": "stdout",
     "output_type": "stream",
     "text": [
      "cropping failed...\n",
      "cropping failed...\n"
     ]
    },
    {
     "name": "stderr",
     "output_type": "stream",
     "text": [
      " 71%|████████████████████████████████████████████████████████████████████████████████████████████████████████▋                                          | 4343/6095 [1:06:51<24:09,  1.21it/s]"
     ]
    },
    {
     "name": "stdout",
     "output_type": "stream",
     "text": [
      "cropping failed...\n"
     ]
    },
    {
     "name": "stderr",
     "output_type": "stream",
     "text": [
      " 76%|███████████████████████████████████████████████████████████████████████████████████████████████████████████████▌                                   | 4627/6095 [1:11:12<22:39,  1.08it/s]"
     ]
    },
    {
     "name": "stdout",
     "output_type": "stream",
     "text": [
      "cropping failed...\n"
     ]
    },
    {
     "name": "stderr",
     "output_type": "stream",
     "text": [
      " 76%|████████████████████████████████████████████████████████████████████████████████████████████████████████████████                                   | 4646/6095 [1:11:29<20:49,  1.16it/s]"
     ]
    },
    {
     "name": "stdout",
     "output_type": "stream",
     "text": [
      "cropping failed...\n"
     ]
    },
    {
     "name": "stderr",
     "output_type": "stream",
     "text": [
      " 78%|██████████████████████████████████████████████████████████████████████████████████████████████████████████████████▊                                | 4763/6095 [1:13:19<20:35,  1.08it/s]"
     ]
    },
    {
     "name": "stdout",
     "output_type": "stream",
     "text": [
      "cropping failed...\n"
     ]
    },
    {
     "name": "stderr",
     "output_type": "stream",
     "text": [
      " 83%|█████████████████████████████████████████████████████████████████████████████████████████████████████████████████████████▊                         | 5052/6095 [1:17:45<15:19,  1.13it/s]"
     ]
    },
    {
     "name": "stdout",
     "output_type": "stream",
     "text": [
      "cropping failed...\n",
      "cropping failed...\n"
     ]
    },
    {
     "name": "stderr",
     "output_type": "stream",
     "text": [
      " 84%|███████████████████████████████████████████████████████████████████████████████████████████████████████████████████████████▎                       | 5111/6095 [1:18:39<14:48,  1.11it/s]"
     ]
    },
    {
     "name": "stdout",
     "output_type": "stream",
     "text": [
      "cropping failed...\n",
      "cropping failed...\n"
     ]
    },
    {
     "name": "stderr",
     "output_type": "stream",
     "text": [
      " 84%|███████████████████████████████████████████████████████████████████████████████████████████████████████████████████████████▎                       | 5112/6095 [1:18:40<13:24,  1.22it/s]"
     ]
    },
    {
     "name": "stdout",
     "output_type": "stream",
     "text": [
      "cropping failed...\n",
      "cropping failed...\n"
     ]
    },
    {
     "name": "stderr",
     "output_type": "stream",
     "text": [
      " 84%|████████████████████████████████████████████████████████████████████████████████████████████████████████████████████████████                       | 5142/6095 [1:19:07<14:05,  1.13it/s]"
     ]
    },
    {
     "name": "stdout",
     "output_type": "stream",
     "text": [
      "cropping failed...\n"
     ]
    },
    {
     "name": "stderr",
     "output_type": "stream",
     "text": [
      " 85%|████████████████████████████████████████████████████████████████████████████████████████████████████████████████████████████▋                      | 5168/6095 [1:19:32<16:08,  1.04s/it]"
     ]
    },
    {
     "name": "stdout",
     "output_type": "stream",
     "text": [
      "cropping failed...\n",
      "cropping failed...\n"
     ]
    },
    {
     "name": "stderr",
     "output_type": "stream",
     "text": [
      " 86%|███████████████████████████████████████████████████████████████████████████████████████████████████████████████████████████████                    | 5268/6095 [1:21:03<12:17,  1.12it/s]"
     ]
    },
    {
     "name": "stdout",
     "output_type": "stream",
     "text": [
      "cropping failed...\n",
      "cropping failed...\n",
      "cropping failed...\n",
      "cropping failed...\n"
     ]
    },
    {
     "name": "stderr",
     "output_type": "stream",
     "text": [
      " 88%|█████████████████████████████████████████████████████████████████████████████████████████████████████████████████████████████████▍                 | 5368/6095 [1:22:37<11:38,  1.04it/s]"
     ]
    },
    {
     "name": "stdout",
     "output_type": "stream",
     "text": [
      "cropping failed...\n"
     ]
    },
    {
     "name": "stderr",
     "output_type": "stream",
     "text": [
      " 92%|██████████████████████████████████████████████████████████████████████████████████████████████████████████████████████████████████████▉            | 5594/6095 [1:26:05<07:17,  1.14it/s]"
     ]
    },
    {
     "name": "stdout",
     "output_type": "stream",
     "text": [
      "cropping failed...\n"
     ]
    },
    {
     "name": "stderr",
     "output_type": "stream",
     "text": [
      " 93%|████████████████████████████████████████████████████████████████████████████████████████████████████████████████████████████████████████           | 5643/6095 [1:26:49<06:23,  1.18it/s]"
     ]
    },
    {
     "name": "stdout",
     "output_type": "stream",
     "text": [
      "cropping failed...\n"
     ]
    },
    {
     "name": "stderr",
     "output_type": "stream",
     "text": [
      " 93%|████████████████████████████████████████████████████████████████████████████████████████████████████████████████████████████████████████▏          | 5646/6095 [1:26:51<06:19,  1.18it/s]"
     ]
    },
    {
     "name": "stdout",
     "output_type": "stream",
     "text": [
      "cropping failed...\n"
     ]
    },
    {
     "name": "stderr",
     "output_type": "stream",
     "text": [
      " 95%|███████████████████████████████████████████████████████████████████████████████████████████████████████████████████████████████████████████▏       | 5769/6095 [1:28:45<04:59,  1.09it/s]"
     ]
    },
    {
     "name": "stdout",
     "output_type": "stream",
     "text": [
      "cropping failed...\n"
     ]
    },
    {
     "name": "stderr",
     "output_type": "stream",
     "text": [
      " 96%|█████████████████████████████████████████████████████████████████████████████████████████████████████████████████████████████████████████████▋     | 5874/6095 [1:30:20<03:27,  1.07it/s]"
     ]
    },
    {
     "name": "stdout",
     "output_type": "stream",
     "text": [
      "cropping failed...\n"
     ]
    },
    {
     "name": "stderr",
     "output_type": "stream",
     "text": [
      " 96%|█████████████████████████████████████████████████████████████████████████████████████████████████████████████████████████████████████████████▋     | 5875/6095 [1:30:21<03:24,  1.07it/s]"
     ]
    },
    {
     "name": "stdout",
     "output_type": "stream",
     "text": [
      "cropping failed...\n"
     ]
    },
    {
     "name": "stderr",
     "output_type": "stream",
     "text": [
      " 98%|████████████████████████████████████████████████████████████████████████████████████████████████████████████████████████████████████████████████▏  | 5978/6095 [1:31:55<01:44,  1.12it/s]"
     ]
    },
    {
     "name": "stdout",
     "output_type": "stream",
     "text": [
      "cropping failed...\n"
     ]
    },
    {
     "name": "stderr",
     "output_type": "stream",
     "text": [
      "100%|███████████████████████████████████████████████████████████████████████████████████████████████████████████████████████████████████████████████████| 6095/6095 [1:33:42<00:00,  1.08it/s]\n"
     ]
    }
   ],
   "source": [
    "# save cropped j2k images\n",
    "for p_id in tqdm(df_j2k[\"patient_id\"].unique()):\n",
    "    df_subset = df[df[\"patient_id\"]==p_id]\n",
    "    subset_size = len(df_subset)\n",
    "    J2kIter = J2kIterator(df=df_subset, batch_size=subset_size, img_dir=Config[\"dcm_dir\"])\n",
    "    pipe = j2k_decode_pipeline(width=768, height=768, batch_size=subset_size, num_threads=2, device_id=0, \n",
    "                               py_num_workers=1, exec_async=False, exec_pipelined=False)\n",
    "    pipe.build()\n",
    "    j2k_out = pipe.run()\n",
    "    for i in range(len(j2k_out[0])):\n",
    "        j2k_img, j2k_img_window, img_id = j2k_pipe_postprocessing(j2k_out, i, p_id)\n",
    "        try:\n",
    "            roi = roi_extraction_yolov5(roi_model, j2k_img)\n",
    "            j2k_img_crop = crop_img(j2k_img_window, roi)\n",
    "        except:\n",
    "            try:\n",
    "                j2k_img_gray = cv2.cvtColor(j2k_img, cv2.COLOR_BGR2GRAY)\n",
    "                roi = roi_extraction_cv2(j2k_img_gray)\n",
    "                j2k_img_crop = crop_img(j2k_img_window, roi)\n",
    "                print(\"using cv2 for cropping\")\n",
    "            except:\n",
    "                j2k_img_crop = j2k_img\n",
    "                print(\"cropping failed...\")\n",
    "        j2k_img_pad = resize_and_pad(j2k_img_crop)\n",
    "        save_path = f\"/home/FanHuang247817/train_images_png2/{p_id}/{img_id}.png\"\n",
    "        check_mkdir(save_path)\n",
    "        cv2.imwrite(save_path, j2k_img_pad)"
   ]
  },
  {
   "cell_type": "code",
   "execution_count": 455,
   "id": "8e3aeb34-90a5-4a71-a0d2-5168cfda043e",
   "metadata": {},
   "outputs": [
    {
     "name": "stderr",
     "output_type": "stream",
     "text": [
      "  4%|█████▋                                                                                                                                              | 222/5818 [06:46<3:39:04,  2.35s/it]"
     ]
    },
    {
     "name": "stdout",
     "output_type": "stream",
     "text": [
      "cropping failed...\n"
     ]
    },
    {
     "name": "stderr",
     "output_type": "stream",
     "text": [
      "  5%|████████                                                                                                                                            | 316/5818 [09:28<2:36:19,  1.70s/it]"
     ]
    },
    {
     "name": "stdout",
     "output_type": "stream",
     "text": [
      "cropping failed...\n"
     ]
    },
    {
     "name": "stderr",
     "output_type": "stream",
     "text": [
      "  9%|████████████▋                                                                                                                                       | 501/5818 [14:56<2:41:54,  1.83s/it]"
     ]
    },
    {
     "name": "stdout",
     "output_type": "stream",
     "text": [
      "cropping failed...\n"
     ]
    },
    {
     "name": "stderr",
     "output_type": "stream",
     "text": [
      "  9%|█████████████                                                                                                                                       | 515/5818 [15:22<3:12:07,  2.17s/it]"
     ]
    },
    {
     "name": "stdout",
     "output_type": "stream",
     "text": [
      "cropping failed...\n"
     ]
    },
    {
     "name": "stderr",
     "output_type": "stream",
     "text": [
      " 11%|████████████████                                                                                                                                    | 632/5818 [18:48<2:34:03,  1.78s/it]"
     ]
    },
    {
     "name": "stdout",
     "output_type": "stream",
     "text": [
      "cropping failed...\n"
     ]
    },
    {
     "name": "stderr",
     "output_type": "stream",
     "text": [
      " 11%|████████████████▎                                                                                                                                   | 641/5818 [19:05<3:04:29,  2.14s/it]"
     ]
    },
    {
     "name": "stdout",
     "output_type": "stream",
     "text": [
      "cropping failed...\n"
     ]
    },
    {
     "name": "stderr",
     "output_type": "stream",
     "text": [
      " 12%|█████████████████▌                                                                                                                                  | 688/5818 [20:32<2:49:21,  1.98s/it]"
     ]
    },
    {
     "name": "stdout",
     "output_type": "stream",
     "text": [
      "cropping failed...\n"
     ]
    },
    {
     "name": "stderr",
     "output_type": "stream",
     "text": [
      " 13%|███████████████████▋                                                                                                                                | 776/5818 [23:16<1:50:57,  1.32s/it]"
     ]
    },
    {
     "name": "stdout",
     "output_type": "stream",
     "text": [
      "cropping failed...\n"
     ]
    },
    {
     "name": "stderr",
     "output_type": "stream",
     "text": [
      " 16%|███████████████████████                                                                                                                             | 908/5818 [27:14<2:21:25,  1.73s/it]"
     ]
    },
    {
     "name": "stdout",
     "output_type": "stream",
     "text": [
      "cropping failed...\n"
     ]
    },
    {
     "name": "stderr",
     "output_type": "stream",
     "text": [
      " 18%|█████████████████████████▊                                                                                                                         | 1021/5818 [30:34<2:12:45,  1.66s/it]"
     ]
    },
    {
     "name": "stdout",
     "output_type": "stream",
     "text": [
      "cropping failed...\n"
     ]
    },
    {
     "name": "stderr",
     "output_type": "stream",
     "text": [
      " 18%|███████████████████████████                                                                                                                        | 1069/5818 [32:03<2:41:55,  2.05s/it]"
     ]
    },
    {
     "name": "stdout",
     "output_type": "stream",
     "text": [
      "cropping failed...\n"
     ]
    },
    {
     "name": "stderr",
     "output_type": "stream",
     "text": [
      " 20%|█████████████████████████████▍                                                                                                                     | 1164/5818 [34:59<2:03:26,  1.59s/it]"
     ]
    },
    {
     "name": "stdout",
     "output_type": "stream",
     "text": [
      "cropping failed...\n"
     ]
    },
    {
     "name": "stderr",
     "output_type": "stream",
     "text": [
      " 21%|███████████████████████████████▎                                                                                                                   | 1237/5818 [37:13<2:04:55,  1.64s/it]"
     ]
    },
    {
     "name": "stdout",
     "output_type": "stream",
     "text": [
      "cropping failed...\n"
     ]
    },
    {
     "name": "stderr",
     "output_type": "stream",
     "text": [
      " 22%|███████████████████████████████▊                                                                                                                   | 1258/5818 [37:48<1:38:43,  1.30s/it]"
     ]
    },
    {
     "name": "stdout",
     "output_type": "stream",
     "text": [
      "cropping failed...\n"
     ]
    },
    {
     "name": "stderr",
     "output_type": "stream",
     "text": [
      " 23%|█████████████████████████████████▌                                                                                                                 | 1328/5818 [39:55<2:19:29,  1.86s/it]"
     ]
    },
    {
     "name": "stdout",
     "output_type": "stream",
     "text": [
      "cropping failed...\n"
     ]
    },
    {
     "name": "stderr",
     "output_type": "stream",
     "text": [
      " 25%|████████████████████████████████████▉                                                                                                              | 1464/5818 [43:59<1:44:59,  1.45s/it]"
     ]
    },
    {
     "name": "stdout",
     "output_type": "stream",
     "text": [
      "cropping failed...\n"
     ]
    },
    {
     "name": "stderr",
     "output_type": "stream",
     "text": [
      " 26%|██████████████████████████████████████▏                                                                                                            | 1513/5818 [45:30<2:38:36,  2.21s/it]"
     ]
    },
    {
     "name": "stdout",
     "output_type": "stream",
     "text": [
      "cropping failed...\n"
     ]
    },
    {
     "name": "stderr",
     "output_type": "stream",
     "text": [
      " 26%|██████████████████████████████████████▎                                                                                                            | 1518/5818 [45:38<1:55:55,  1.62s/it]"
     ]
    },
    {
     "name": "stdout",
     "output_type": "stream",
     "text": [
      "cropping failed...\n"
     ]
    },
    {
     "name": "stderr",
     "output_type": "stream",
     "text": [
      " 27%|██████████████████████████████████████▉                                                                                                            | 1543/5818 [46:21<1:59:41,  1.68s/it]"
     ]
    },
    {
     "name": "stdout",
     "output_type": "stream",
     "text": [
      "cropping failed...\n"
     ]
    },
    {
     "name": "stderr",
     "output_type": "stream",
     "text": [
      " 28%|████████████████████████████████████████▌                                                                                                          | 1603/5818 [48:07<1:42:26,  1.46s/it]"
     ]
    },
    {
     "name": "stdout",
     "output_type": "stream",
     "text": [
      "cropping failed...\n"
     ]
    },
    {
     "name": "stderr",
     "output_type": "stream",
     "text": [
      " 28%|█████████████████████████████████████████▋                                                                                                         | 1650/5818 [49:31<3:08:24,  2.71s/it]"
     ]
    },
    {
     "name": "stdout",
     "output_type": "stream",
     "text": [
      "cropping failed...\n"
     ]
    },
    {
     "name": "stderr",
     "output_type": "stream",
     "text": [
      " 28%|█████████████████████████████████████████▊                                                                                                         | 1655/5818 [49:44<2:41:12,  2.32s/it]"
     ]
    },
    {
     "name": "stdout",
     "output_type": "stream",
     "text": [
      "cropping failed...\n"
     ]
    },
    {
     "name": "stderr",
     "output_type": "stream",
     "text": [
      " 29%|██████████████████████████████████████████                                                                                                         | 1663/5818 [50:00<2:10:40,  1.89s/it]"
     ]
    },
    {
     "name": "stdout",
     "output_type": "stream",
     "text": [
      "cropping failed...\n"
     ]
    },
    {
     "name": "stderr",
     "output_type": "stream",
     "text": [
      " 29%|██████████████████████████████████████████▎                                                                                                        | 1673/5818 [50:17<1:57:22,  1.70s/it]"
     ]
    },
    {
     "name": "stdout",
     "output_type": "stream",
     "text": [
      "cropping failed...\n"
     ]
    },
    {
     "name": "stderr",
     "output_type": "stream",
     "text": [
      " 30%|███████████████████████████████████████████▉                                                                                                       | 1737/5818 [52:14<1:34:41,  1.39s/it]"
     ]
    },
    {
     "name": "stdout",
     "output_type": "stream",
     "text": [
      "cropping failed...\n"
     ]
    },
    {
     "name": "stderr",
     "output_type": "stream",
     "text": [
      " 31%|█████████████████████████████████████████████▊                                                                                                     | 1812/5818 [54:27<1:46:40,  1.60s/it]"
     ]
    },
    {
     "name": "stdout",
     "output_type": "stream",
     "text": [
      "cropping failed...\n"
     ]
    },
    {
     "name": "stderr",
     "output_type": "stream",
     "text": [
      " 32%|███████████████████████████████████████████████▋                                                                                                   | 1889/5818 [57:02<1:45:22,  1.61s/it]"
     ]
    },
    {
     "name": "stdout",
     "output_type": "stream",
     "text": [
      "cropping failed...\n"
     ]
    },
    {
     "name": "stderr",
     "output_type": "stream",
     "text": [
      " 34%|█████████████████████████████████████████████████▋                                                                                                 | 1968/5818 [59:24<1:35:27,  1.49s/it]"
     ]
    },
    {
     "name": "stdout",
     "output_type": "stream",
     "text": [
      "cropping failed...\n"
     ]
    },
    {
     "name": "stderr",
     "output_type": "stream",
     "text": [
      " 36%|████████████████████████████████████████████████████▌                                                                                            | 2109/5818 [1:03:41<1:47:36,  1.74s/it]"
     ]
    },
    {
     "name": "stdout",
     "output_type": "stream",
     "text": [
      "cropping failed...\n"
     ]
    },
    {
     "name": "stderr",
     "output_type": "stream",
     "text": [
      " 36%|████████████████████████████████████████████████████▋                                                                                            | 2113/5818 [1:03:47<1:28:16,  1.43s/it]"
     ]
    },
    {
     "name": "stdout",
     "output_type": "stream",
     "text": [
      "cropping failed...\n"
     ]
    },
    {
     "name": "stderr",
     "output_type": "stream",
     "text": [
      " 37%|█████████████████████████████████████████████████████▌                                                                                           | 2147/5818 [1:04:46<2:01:55,  1.99s/it]"
     ]
    },
    {
     "name": "stdout",
     "output_type": "stream",
     "text": [
      "cropping failed...\n"
     ]
    },
    {
     "name": "stderr",
     "output_type": "stream",
     "text": [
      " 38%|███████████████████████████████████████████████████████▊                                                                                         | 2237/5818 [1:07:30<1:37:30,  1.63s/it]"
     ]
    },
    {
     "name": "stdout",
     "output_type": "stream",
     "text": [
      "cropping failed...\n"
     ]
    },
    {
     "name": "stderr",
     "output_type": "stream",
     "text": [
      " 40%|█████████████████████████████████████████████████████████▊                                                                                       | 2322/5818 [1:10:09<2:00:04,  2.06s/it]"
     ]
    },
    {
     "name": "stdout",
     "output_type": "stream",
     "text": [
      "cropping failed...\n"
     ]
    },
    {
     "name": "stderr",
     "output_type": "stream",
     "text": [
      " 40%|█████████████████████████████████████████████████████████▉                                                                                       | 2327/5818 [1:10:15<1:14:43,  1.28s/it]"
     ]
    },
    {
     "name": "stdout",
     "output_type": "stream",
     "text": [
      "cropping failed...\n"
     ]
    },
    {
     "name": "stderr",
     "output_type": "stream",
     "text": [
      " 41%|██████████████████████████████████████████████████████████▉                                                                                      | 2363/5818 [1:11:15<1:23:33,  1.45s/it]"
     ]
    },
    {
     "name": "stdout",
     "output_type": "stream",
     "text": [
      "cropping failed...\n"
     ]
    },
    {
     "name": "stderr",
     "output_type": "stream",
     "text": [
      " 41%|███████████████████████████████████████████████████████████▎                                                                                     | 2382/5818 [1:11:50<1:39:52,  1.74s/it]"
     ]
    },
    {
     "name": "stdout",
     "output_type": "stream",
     "text": [
      "cropping failed...\n"
     ]
    },
    {
     "name": "stderr",
     "output_type": "stream",
     "text": [
      " 43%|█████████████████████████████████████████████████████████████▋                                                                                   | 2473/5818 [1:14:29<1:37:31,  1.75s/it]"
     ]
    },
    {
     "name": "stdout",
     "output_type": "stream",
     "text": [
      "cropping failed...\n"
     ]
    },
    {
     "name": "stderr",
     "output_type": "stream",
     "text": [
      " 43%|█████████████████████████████████████████████████████████████▊                                                                                   | 2479/5818 [1:14:37<1:27:42,  1.58s/it]"
     ]
    },
    {
     "name": "stdout",
     "output_type": "stream",
     "text": [
      "cropping failed...\n"
     ]
    },
    {
     "name": "stderr",
     "output_type": "stream",
     "text": [
      " 43%|██████████████████████████████████████████████████████████████▉                                                                                  | 2524/5818 [1:15:58<2:16:56,  2.49s/it]"
     ]
    },
    {
     "name": "stdout",
     "output_type": "stream",
     "text": [
      "cropping failed...\n"
     ]
    },
    {
     "name": "stderr",
     "output_type": "stream",
     "text": [
      " 45%|█████████████████████████████████████████████████████████████████▉                                                                               | 2646/5818 [1:19:38<1:17:55,  1.47s/it]"
     ]
    },
    {
     "name": "stdout",
     "output_type": "stream",
     "text": [
      "cropping failed...\n"
     ]
    },
    {
     "name": "stderr",
     "output_type": "stream",
     "text": [
      " 46%|█████████████████████████████████████████████████████████████████▉                                                                               | 2648/5818 [1:19:42<1:35:08,  1.80s/it]"
     ]
    },
    {
     "name": "stdout",
     "output_type": "stream",
     "text": [
      "cropping failed...\n"
     ]
    },
    {
     "name": "stderr",
     "output_type": "stream",
     "text": [
      " 46%|██████████████████████████████████████████████████████████████████▌                                                                              | 2673/5818 [1:20:24<1:16:03,  1.45s/it]"
     ]
    },
    {
     "name": "stdout",
     "output_type": "stream",
     "text": [
      "cropping failed...\n"
     ]
    },
    {
     "name": "stderr",
     "output_type": "stream",
     "text": [
      " 46%|██████████████████████████████████████████████████████████████████▋                                                                              | 2677/5818 [1:20:31<1:27:58,  1.68s/it]"
     ]
    },
    {
     "name": "stdout",
     "output_type": "stream",
     "text": [
      "cropping failed...\n"
     ]
    },
    {
     "name": "stderr",
     "output_type": "stream",
     "text": [
      " 46%|██████████████████████████████████████████████████████████████████▊                                                                              | 2680/5818 [1:20:37<1:27:23,  1.67s/it]"
     ]
    },
    {
     "name": "stdout",
     "output_type": "stream",
     "text": [
      "cropping failed...\n"
     ]
    },
    {
     "name": "stderr",
     "output_type": "stream",
     "text": [
      " 47%|████████████████████████████████████████████████████████████████████                                                                             | 2730/5818 [1:22:06<1:26:50,  1.69s/it]"
     ]
    },
    {
     "name": "stdout",
     "output_type": "stream",
     "text": [
      "cropping failed...\n"
     ]
    },
    {
     "name": "stderr",
     "output_type": "stream",
     "text": [
      " 47%|████████████████████████████████████████████████████████████████████▊                                                                            | 2762/5818 [1:23:01<1:12:10,  1.42s/it]"
     ]
    },
    {
     "name": "stdout",
     "output_type": "stream",
     "text": [
      "cropping failed...\n"
     ]
    },
    {
     "name": "stderr",
     "output_type": "stream",
     "text": [
      " 49%|███████████████████████████████████████████████████████████████████████▏                                                                         | 2854/5818 [1:25:48<1:08:24,  1.38s/it]"
     ]
    },
    {
     "name": "stdout",
     "output_type": "stream",
     "text": [
      "cropping failed...\n"
     ]
    },
    {
     "name": "stderr",
     "output_type": "stream",
     "text": [
      " 49%|███████████████████████████████████████████████████████████████████████▌                                                                         | 2869/5818 [1:26:16<1:27:17,  1.78s/it]"
     ]
    },
    {
     "name": "stdout",
     "output_type": "stream",
     "text": [
      "cropping failed...\n"
     ]
    },
    {
     "name": "stderr",
     "output_type": "stream",
     "text": [
      " 54%|█████████████████████████████████████████████████████████████████████████████▊                                                                   | 3120/5818 [1:34:21<1:33:55,  2.09s/it]"
     ]
    },
    {
     "name": "stdout",
     "output_type": "stream",
     "text": [
      "cropping failed...\n"
     ]
    },
    {
     "name": "stderr",
     "output_type": "stream",
     "text": [
      " 54%|██████████████████████████████████████████████████████████████████████████████▏                                                                  | 3139/5818 [1:34:52<1:06:18,  1.49s/it]"
     ]
    },
    {
     "name": "stdout",
     "output_type": "stream",
     "text": [
      "cropping failed...\n"
     ]
    },
    {
     "name": "stderr",
     "output_type": "stream",
     "text": [
      " 55%|████████████████████████████████████████████████████████████████████████████████                                                                 | 3212/5818 [1:37:05<1:03:20,  1.46s/it]"
     ]
    },
    {
     "name": "stdout",
     "output_type": "stream",
     "text": [
      "cropping failed...\n"
     ]
    },
    {
     "name": "stderr",
     "output_type": "stream",
     "text": [
      " 57%|██████████████████████████████████████████████████████████████████████████████████▌                                                              | 3315/5818 [1:40:25<1:50:10,  2.64s/it]"
     ]
    },
    {
     "name": "stdout",
     "output_type": "stream",
     "text": [
      "cropping failed...\n"
     ]
    },
    {
     "name": "stderr",
     "output_type": "stream",
     "text": [
      " 57%|██████████████████████████████████████████████████████████████████████████████████▉                                                              | 3328/5818 [1:40:47<1:08:02,  1.64s/it]"
     ]
    },
    {
     "name": "stdout",
     "output_type": "stream",
     "text": [
      "cropping failed...\n"
     ]
    },
    {
     "name": "stderr",
     "output_type": "stream",
     "text": [
      " 59%|█████████████████████████████████████████████████████████████████████████████████████▏                                                           | 3418/5818 [1:43:34<1:11:28,  1.79s/it]"
     ]
    },
    {
     "name": "stdout",
     "output_type": "stream",
     "text": [
      "cropping failed...\n"
     ]
    },
    {
     "name": "stderr",
     "output_type": "stream",
     "text": [
      " 59%|█████████████████████████████████████████████████████████████████████████████████████▎                                                           | 3422/5818 [1:43:42<1:38:56,  2.48s/it]"
     ]
    },
    {
     "name": "stdout",
     "output_type": "stream",
     "text": [
      "cropping failed...\n"
     ]
    },
    {
     "name": "stderr",
     "output_type": "stream",
     "text": [
      " 60%|██████████████████████████████████████████████████████████████████████████████████████▌                                                          | 3475/5818 [1:45:30<1:14:12,  1.90s/it]"
     ]
    },
    {
     "name": "stdout",
     "output_type": "stream",
     "text": [
      "cropping failed...\n"
     ]
    },
    {
     "name": "stderr",
     "output_type": "stream",
     "text": [
      " 60%|██████████████████████████████████████████████████████████████████████████████████████▋                                                          | 3479/5818 [1:45:38<1:09:00,  1.77s/it]"
     ]
    },
    {
     "name": "stdout",
     "output_type": "stream",
     "text": [
      "cropping failed...\n"
     ]
    },
    {
     "name": "stderr",
     "output_type": "stream",
     "text": [
      " 62%|█████████████████████████████████████████████████████████████████████████████████████████▉                                                       | 3611/5818 [1:49:43<1:06:02,  1.80s/it]"
     ]
    },
    {
     "name": "stdout",
     "output_type": "stream",
     "text": [
      "cropping failed...\n"
     ]
    },
    {
     "name": "stderr",
     "output_type": "stream",
     "text": [
      " 62%|███████████████████████████████████████████████████████████████████████████████████████████▋                                                       | 3631/5818 [1:50:22<52:34,  1.44s/it]"
     ]
    },
    {
     "name": "stdout",
     "output_type": "stream",
     "text": [
      "cropping failed...\n"
     ]
    },
    {
     "name": "stderr",
     "output_type": "stream",
     "text": [
      " 63%|█████████████████████████████████████████████████████████████████████████████████████████████▏                                                     | 3689/5818 [1:52:13<50:12,  1.42s/it]"
     ]
    },
    {
     "name": "stdout",
     "output_type": "stream",
     "text": [
      "cropping failed...\n"
     ]
    },
    {
     "name": "stderr",
     "output_type": "stream",
     "text": [
      " 64%|██████████████████████████████████████████████████████████████████████████████████████████████▏                                                    | 3728/5818 [1:53:23<55:37,  1.60s/it]"
     ]
    },
    {
     "name": "stdout",
     "output_type": "stream",
     "text": [
      "cropping failed...\n"
     ]
    },
    {
     "name": "stderr",
     "output_type": "stream",
     "text": [
      " 65%|███████████████████████████████████████████████████████████████████████████████████████████████▊                                                   | 3791/5818 [1:55:15<49:09,  1.46s/it]"
     ]
    },
    {
     "name": "stdout",
     "output_type": "stream",
     "text": [
      "cropping failed...\n"
     ]
    },
    {
     "name": "stderr",
     "output_type": "stream",
     "text": [
      " 65%|███████████████████████████████████████████████████████████████████████████████████████████████▉                                                   | 3795/5818 [1:55:21<50:14,  1.49s/it]"
     ]
    },
    {
     "name": "stdout",
     "output_type": "stream",
     "text": [
      "cropping failed...\n"
     ]
    },
    {
     "name": "stderr",
     "output_type": "stream",
     "text": [
      " 67%|██████████████████████████████████████████████████████████████████████████████████████████████████▉                                                | 3915/5818 [1:58:47<47:52,  1.51s/it]"
     ]
    },
    {
     "name": "stdout",
     "output_type": "stream",
     "text": [
      "cropping failed...\n"
     ]
    },
    {
     "name": "stderr",
     "output_type": "stream",
     "text": [
      " 68%|███████████████████████████████████████████████████████████████████████████████████████████████████▎                                               | 3930/5818 [1:59:11<51:26,  1.63s/it]"
     ]
    },
    {
     "name": "stdout",
     "output_type": "stream",
     "text": [
      "cropping failed...\n"
     ]
    },
    {
     "name": "stderr",
     "output_type": "stream",
     "text": [
      " 68%|███████████████████████████████████████████████████████████████████████████████████████████████████▉                                               | 3957/5818 [1:59:57<49:43,  1.60s/it]"
     ]
    },
    {
     "name": "stdout",
     "output_type": "stream",
     "text": [
      "cropping failed...\n"
     ]
    },
    {
     "name": "stderr",
     "output_type": "stream",
     "text": [
      " 68%|████████████████████████████████████████████████████████████████████████████████████████████████████                                               | 3960/5818 [2:00:01<51:38,  1.67s/it]"
     ]
    },
    {
     "name": "stdout",
     "output_type": "stream",
     "text": [
      "cropping failed...\n"
     ]
    },
    {
     "name": "stderr",
     "output_type": "stream",
     "text": [
      " 68%|████████████████████████████████████████████████████████████████████████████████████████████████████▎                                              | 3971/5818 [2:00:22<49:59,  1.62s/it]"
     ]
    },
    {
     "name": "stdout",
     "output_type": "stream",
     "text": [
      "cropping failed...\n"
     ]
    },
    {
     "name": "stderr",
     "output_type": "stream",
     "text": [
      " 69%|███████████████████████████████████████████████████████████████████████████████████████████████████▎                                             | 3987/5818 [2:00:52<1:12:25,  2.37s/it]"
     ]
    },
    {
     "name": "stdout",
     "output_type": "stream",
     "text": [
      "cropping failed...\n"
     ]
    },
    {
     "name": "stderr",
     "output_type": "stream",
     "text": [
      " 69%|███████████████████████████████████████████████████████████████████████████████████████████████████▉                                             | 4009/5818 [2:01:35<1:00:06,  1.99s/it]"
     ]
    },
    {
     "name": "stdout",
     "output_type": "stream",
     "text": [
      "cropping failed...\n"
     ]
    },
    {
     "name": "stderr",
     "output_type": "stream",
     "text": [
      " 69%|█████████████████████████████████████████████████████████████████████████████████████████████████████▉                                             | 4036/5818 [2:02:20<55:41,  1.88s/it]"
     ]
    },
    {
     "name": "stdout",
     "output_type": "stream",
     "text": [
      "cropping failed...\n"
     ]
    },
    {
     "name": "stderr",
     "output_type": "stream",
     "text": [
      " 70%|█████████████████████████████████████████████████████████████████████████████████████████████████████                                            | 4054/5818 [2:02:52<1:00:47,  2.07s/it]"
     ]
    },
    {
     "name": "stdout",
     "output_type": "stream",
     "text": [
      "cropping failed...\n"
     ]
    },
    {
     "name": "stderr",
     "output_type": "stream",
     "text": [
      " 70%|██████████████████████████████████████████████████████████████████████████████████████████████████████▋                                            | 4062/5818 [2:03:07<51:57,  1.78s/it]"
     ]
    },
    {
     "name": "stdout",
     "output_type": "stream",
     "text": [
      "cropping failed...\n"
     ]
    },
    {
     "name": "stderr",
     "output_type": "stream",
     "text": [
      " 72%|█████████████████████████████████████████████████████████████████████████████████████████████████████████▌                                         | 4177/5818 [2:06:31<40:28,  1.48s/it]"
     ]
    },
    {
     "name": "stdout",
     "output_type": "stream",
     "text": [
      "cropping failed...\n"
     ]
    },
    {
     "name": "stderr",
     "output_type": "stream",
     "text": [
      " 73%|██████████████████████████████████████████████████████████████████████████████████████████████████████████▊                                        | 4225/5818 [2:08:04<38:50,  1.46s/it]"
     ]
    },
    {
     "name": "stdout",
     "output_type": "stream",
     "text": [
      "cropping failed...\n"
     ]
    },
    {
     "name": "stderr",
     "output_type": "stream",
     "text": [
      " 73%|███████████████████████████████████████████████████████████████████████████████████████████████████████████▍                                       | 4253/5818 [2:08:54<41:52,  1.61s/it]"
     ]
    },
    {
     "name": "stdout",
     "output_type": "stream",
     "text": [
      "cropping failed...\n"
     ]
    },
    {
     "name": "stderr",
     "output_type": "stream",
     "text": [
      " 74%|████████████████████████████████████████████████████████████████████████████████████████████████████████████▌                                      | 4296/5818 [2:10:12<44:19,  1.75s/it]"
     ]
    },
    {
     "name": "stdout",
     "output_type": "stream",
     "text": [
      "cropping failed...\n"
     ]
    },
    {
     "name": "stderr",
     "output_type": "stream",
     "text": [
      " 74%|█████████████████████████████████████████████████████████████████████████████████████████████████████████████▏                                     | 4323/5818 [2:10:57<42:02,  1.69s/it]"
     ]
    },
    {
     "name": "stdout",
     "output_type": "stream",
     "text": [
      "cropping failed...\n"
     ]
    },
    {
     "name": "stderr",
     "output_type": "stream",
     "text": [
      " 75%|█████████████████████████████████████████████████████████████████████████████████████████████████████████████▌                                     | 4338/5818 [2:11:26<37:58,  1.54s/it]"
     ]
    },
    {
     "name": "stdout",
     "output_type": "stream",
     "text": [
      "cropping failed...\n"
     ]
    },
    {
     "name": "stderr",
     "output_type": "stream",
     "text": [
      " 75%|██████████████████████████████████████████████████████████████████████████████████████████████████████████████▌                                    | 4377/5818 [2:12:33<44:53,  1.87s/it]"
     ]
    },
    {
     "name": "stdout",
     "output_type": "stream",
     "text": [
      "cropping failed...\n"
     ]
    },
    {
     "name": "stderr",
     "output_type": "stream",
     "text": [
      " 76%|███████████████████████████████████████████████████████████████████████████████████████████████████████████████▌                                   | 4414/5818 [2:13:40<41:49,  1.79s/it]"
     ]
    },
    {
     "name": "stdout",
     "output_type": "stream",
     "text": [
      "cropping failed...\n"
     ]
    },
    {
     "name": "stderr",
     "output_type": "stream",
     "text": [
      " 79%|████████████████████████████████████████████████████████████████████████████████████████████████████████████████████▍                              | 4607/5818 [2:19:19<29:19,  1.45s/it]"
     ]
    },
    {
     "name": "stdout",
     "output_type": "stream",
     "text": [
      "cropping failed...\n"
     ]
    },
    {
     "name": "stderr",
     "output_type": "stream",
     "text": [
      " 80%|█████████████████████████████████████████████████████████████████████████████████████████████████████████████████████▋                             | 4660/5818 [2:20:58<36:37,  1.90s/it]"
     ]
    },
    {
     "name": "stdout",
     "output_type": "stream",
     "text": [
      "cropping failed...\n"
     ]
    },
    {
     "name": "stderr",
     "output_type": "stream",
     "text": [
      " 84%|███████████████████████████████████████████████████████████████████████████████████████████████████████████████████████████                        | 4872/5818 [2:27:22<25:30,  1.62s/it]"
     ]
    },
    {
     "name": "stdout",
     "output_type": "stream",
     "text": [
      "cropping failed...\n"
     ]
    },
    {
     "name": "stderr",
     "output_type": "stream",
     "text": [
      " 84%|███████████████████████████████████████████████████████████████████████████████████████████████████████████████████████████▌                       | 4890/5818 [2:27:56<28:14,  1.83s/it]"
     ]
    },
    {
     "name": "stdout",
     "output_type": "stream",
     "text": [
      "cropping failed...\n"
     ]
    },
    {
     "name": "stderr",
     "output_type": "stream",
     "text": [
      " 85%|█████████████████████████████████████████████████████████████████████████████████████████████████████████████████████████████                      | 4948/5818 [2:29:31<20:49,  1.44s/it]"
     ]
    },
    {
     "name": "stdout",
     "output_type": "stream",
     "text": [
      "cropping failed...\n"
     ]
    },
    {
     "name": "stderr",
     "output_type": "stream",
     "text": [
      " 87%|███████████████████████████████████████████████████████████████████████████████████████████████████████████████████████████████▍                   | 5045/5818 [2:32:36<22:26,  1.74s/it]"
     ]
    },
    {
     "name": "stdout",
     "output_type": "stream",
     "text": [
      "cropping failed...\n"
     ]
    },
    {
     "name": "stderr",
     "output_type": "stream",
     "text": [
      " 94%|█████████████████████████████████████████████████████████████████████████████████████████████████████████████████████████████████████████▉         | 5459/5818 [2:45:02<12:17,  2.05s/it]"
     ]
    },
    {
     "name": "stdout",
     "output_type": "stream",
     "text": [
      "cropping failed...\n"
     ]
    },
    {
     "name": "stderr",
     "output_type": "stream",
     "text": [
      " 95%|███████████████████████████████████████████████████████████████████████████████████████████████████████████████████████████████████████████▍       | 5520/5818 [2:46:53<08:42,  1.75s/it]"
     ]
    },
    {
     "name": "stdout",
     "output_type": "stream",
     "text": [
      "cropping failed...\n"
     ]
    },
    {
     "name": "stderr",
     "output_type": "stream",
     "text": [
      " 96%|████████████████████████████████████████████████████████████████████████████████████████████████████████████████████████████████████████████▌      | 5564/5818 [2:48:23<08:41,  2.05s/it]"
     ]
    },
    {
     "name": "stdout",
     "output_type": "stream",
     "text": [
      "cropping failed...\n"
     ]
    },
    {
     "name": "stderr",
     "output_type": "stream",
     "text": [
      " 96%|████████████████████████████████████████████████████████████████████████████████████████████████████████████████████████████████████████████▋      | 5566/5818 [2:48:27<07:30,  1.79s/it]"
     ]
    },
    {
     "name": "stdout",
     "output_type": "stream",
     "text": [
      "cropping failed...\n"
     ]
    },
    {
     "name": "stderr",
     "output_type": "stream",
     "text": [
      " 97%|██████████████████████████████████████████████████████████████████████████████████████████████████████████████████████████████████████████████▋    | 5649/5818 [2:50:39<04:03,  1.44s/it]/tmp/ipykernel_43897/4017234273.py:2: RuntimeWarning: invalid value encountered in divide\n",
      "  img = (img - img.min()) / (img.max() - img.min())\n",
      "/tmp/ipykernel_43897/4017234273.py:14: RuntimeWarning: invalid value encountered in cast\n",
      "  return img_3c.astype(np.uint8)\n",
      " 97%|██████████████████████████████████████████████████████████████████████████████████████████████████████████████████████████████████████████████▊    | 5650/5818 [2:50:41<04:29,  1.61s/it]"
     ]
    },
    {
     "name": "stdout",
     "output_type": "stream",
     "text": [
      "cropping failed...\n"
     ]
    },
    {
     "name": "stderr",
     "output_type": "stream",
     "text": [
      " 97%|███████████████████████████████████████████████████████████████████████████████████████████████████████████████████████████████████████████████▏   | 5666/5818 [2:51:08<04:16,  1.69s/it]"
     ]
    },
    {
     "name": "stdout",
     "output_type": "stream",
     "text": [
      "cropping failed...\n"
     ]
    },
    {
     "name": "stderr",
     "output_type": "stream",
     "text": [
      " 97%|███████████████████████████████████████████████████████████████████████████████████████████████████████████████████████████████████████████████▏   | 5667/5818 [2:51:13<06:28,  2.57s/it]"
     ]
    },
    {
     "name": "stdout",
     "output_type": "stream",
     "text": [
      "cropping failed...\n"
     ]
    },
    {
     "name": "stderr",
     "output_type": "stream",
     "text": [
      "100%|███████████████████████████████████████████████████████████████████████████████████████████████████████████████████████████████████████████████████| 5818/5818 [2:55:49<00:00,  1.81s/it]\n"
     ]
    }
   ],
   "source": [
    "# save cropped jpg images\n",
    "for p_id in tqdm(df_jpg[\"patient_id\"].unique()):\n",
    "    df_subset = df[df[\"patient_id\"]==p_id]\n",
    "    subset_size = len(df_subset)\n",
    "    JpgIter = JpgIterator(df=df_subset, batch_size=subset_size, img_dir=Config[\"dcm_dir\"])\n",
    "    pipe = jpg_process_pipeline(width=768, height=768, batch_size=subset_size, num_threads=2, device_id=0, \n",
    "                               py_num_workers=1, exec_async=False, exec_pipelined=False)\n",
    "    pipe.build()\n",
    "    jpg_out = pipe.run()\n",
    "    for i in range(len(jpg_out[0])):\n",
    "        jpg_img, jpg_img_window, img_id = jpg_pipe_postprocessing(jpg_out, i, p_id)\n",
    "        try:\n",
    "            roi = roi_extraction_yolov5(roi_model, jpg_img)\n",
    "            jpg_img_crop = crop_img(jpg_img_window, roi)\n",
    "        except:\n",
    "            try:\n",
    "                jpg_img_gray = cv2.cvtColor(jpg_img, cv2.COLOR_BGR2GRAY)\n",
    "                roi = roi_extraction_cv2(jpg_img_gray)\n",
    "                jpg_img_crop = crop_img(jpg_img_window, roi)\n",
    "                print(\"using cv2 for cropping\")\n",
    "            except:\n",
    "                jpg_img_crop = jpg_img\n",
    "                print(\"cropping failed...\")\n",
    "        jpg_img_pad = resize_and_pad(jpg_img_crop)\n",
    "        save_path = f\"/home/FanHuang247817/train_images_png2/{p_id}/{img_id}.png\"\n",
    "        check_mkdir(save_path)\n",
    "        cv2.imwrite(save_path, jpg_img_pad)"
   ]
  },
  {
   "cell_type": "code",
   "execution_count": 484,
   "id": "067eb93f-a89f-415f-9441-8054f51d9669",
   "metadata": {},
   "outputs": [
    {
     "name": "stderr",
     "output_type": "stream",
     "text": [
      "100%|███████████████████████████████████████████████████████████████████████████████████████████████████████████████████████████████████████████████████| 5818/5818 [00:03<00:00, 1556.37it/s]\n"
     ]
    },
    {
     "data": {
      "text/plain": [
       "467"
      ]
     },
     "execution_count": 484,
     "metadata": {},
     "output_type": "execute_result"
    }
   ],
   "source": [
    "# create a subset for missing jpg images\n",
    "# missing_image_ids = []\n",
    "# for p_id in tqdm(df_jpg[\"patient_id\"].unique()):\n",
    "#     df_subset = df[df[\"patient_id\"]==p_id]\n",
    "#     for image_id in df_subset[\"image_id\"].unique():\n",
    "#         if not os.path.exists(f\"/home/FanHuang247817/train_images_png2/{p_id}/{image_id}.png\"):\n",
    "#             missing_image_ids.append(image_id)\n",
    "    \n",
    "# df_jpg_subset = df_jpg[df_jpg['image_id'].isin(missing_image_ids)].reset_index(drop=True)\n",
    "\n",
    "# for p_id in tqdm(df_jpg_subset[\"patient_id\"].unique()):\n",
    "#     df_subset = df[df[\"patient_id\"]==p_id]\n",
    "#     subset_size = len(df_subset)\n",
    "#     JpgIter = JpgIterator(df=df_subset, batch_size=subset_size, img_dir=Config[\"dcm_dir\"])\n",
    "#     pipe = jpg_process_pipeline(width=768, height=768, batch_size=subset_size, num_threads=2, device_id=0, \n",
    "#                                py_num_workers=1, exec_async=False, exec_pipelined=False)\n",
    "#     pipe.build()\n",
    "#     jpg_out = pipe.run()\n",
    "#     for i in range(len(jpg_out[0])):\n",
    "#         jpg_img, jpg_img_window, img_id = jpg_pipe_postprocessing(jpg_out, i, p_id)\n",
    "#         if not os.path.exists(f\"/home/FanHuang247817/train_images_png2/{p_id}/{img_id}.png\"):\n",
    "#             try:\n",
    "#                 roi = roi_extraction_yolov5(roi_model, jpg_img)\n",
    "#                 jpg_img_crop = crop_img(jpg_img_window, roi)\n",
    "#             except:\n",
    "#                 try:\n",
    "#                     jpg_img_gray = cv2.cvtColor(jpg_img, cv2.COLOR_BGR2GRAY)\n",
    "#                     roi = roi_extraction_cv2(jpg_img_gray)\n",
    "#                     jpg_img_crop = crop_img(jpg_img_window, roi)\n",
    "#                     print(\"using cv2 for cropping\")\n",
    "#                 except:\n",
    "#                     jpg_img_crop = jpg_img\n",
    "#                     print(\"cropping failed...\")\n",
    "#             jpg_img_pad = resize_and_pad(jpg_img_crop)\n",
    "#             save_path = f\"/home/FanHuang247817/train_images_png2/{p_id}/{img_id}.png\"\n",
    "#             check_mkdir(save_path)\n",
    "#             cv2.imwrite(save_path, jpg_img_pad)"
   ]
  },
  {
   "cell_type": "code",
   "execution_count": 492,
   "id": "0356c6b5-206a-474f-adff-83edc7837c1e",
   "metadata": {},
   "outputs": [
    {
     "data": {
      "text/plain": [
       "0"
      ]
     },
     "execution_count": 492,
     "metadata": {},
     "output_type": "execute_result"
    }
   ],
   "source": [
    "len(df) - len(glob.glob(f\"/home/FanHuang247817/train_images_png2/*/*.png\"))"
   ]
  },
  {
   "cell_type": "markdown",
   "id": "ef9710b9-9039-41f8-9f94-a772bce40b4b",
   "metadata": {},
   "source": [
    "## Decode of lossless jpg is not currenly supported by nvjpeg on gpu!!!"
   ]
  },
  {
   "cell_type": "code",
   "execution_count": 210,
   "id": "f6a36432-07b3-40eb-89cf-d1ec1a851b7a",
   "metadata": {},
   "outputs": [],
   "source": [
    "df_train = pd.read_csv('/home/data4/share/rsna-breast-cancer-detection/train.csv')\n",
    "train_img_dir = \"/home/data4/share/rsna-breast-cancer-detection/train_images\"\n",
    "df_train = df_train[df_train[\"patient_id\"]==127]"
   ]
  },
  {
   "cell_type": "code",
   "execution_count": 267,
   "id": "25137a61-0227-4bf3-b1ca-c8ade59bb353",
   "metadata": {},
   "outputs": [],
   "source": [
    "class JpgIterator(object):\n",
    "    \n",
    "    def __init__(self, df, batch_size, img_dir):\n",
    "        self.df = df\n",
    "        self.batch_size = batch_size\n",
    "        self.img_dir = img_dir\n",
    "\n",
    "    @staticmethod\n",
    "    def dicom_to_jpg(img_dir, patient_id, image_id):\n",
    "        dcmfile = pydicom.dcmread(f'{img_dir}/{patient_id}/{image_id}.dcm')\n",
    "        \n",
    "        if dcmfile.file_meta.TransferSyntaxUID == '1.2.840.10008.1.2.4.70':\n",
    "            with open(f'{img_dir}/{patient_id}/{image_id}.dcm', 'rb') as fp:\n",
    "                raw = DicomBytesIO(fp.read())\n",
    "                ds = pydicom.dcmread(raw)\n",
    "            offset = ds.PixelData.find(b\"\\xff\\xd8\\xff\\xe0\")\n",
    "\n",
    "            return np.frombuffer(ds.PixelData[offset:], dtype=np.uint8), dcmfile.PhotometricInterpretation == 'MONOCHROME1'\n",
    "\n",
    "    def __len__(self):\n",
    "        return int(np.ceil(len(self.df) / self.batch_size))\n",
    "\n",
    "    def __iter__(self):\n",
    "        self.i = 0\n",
    "        return self\n",
    "\n",
    "    def __next__(self):\n",
    "        if self.i > len(self.df):\n",
    "            raise StopIteration\n",
    "\n",
    "        compressed_imgs, is_monochrome_imgs = [], []\n",
    "        patient_ids, img_ids = [], []\n",
    "\n",
    "        batch_start, batch_finish = self.i, min(self.i + self.batch_size, len(self.df))\n",
    "        df_batch = self.df.iloc[range(batch_start, batch_finish)]\n",
    "\n",
    "        for patient_id, img_id in df_batch[[\"patient_id\", \"image_id\"]].values:\n",
    "            compressed_img, is_monochrome_img = self.dicom_to_jpg(self.img_dir, patient_id, img_id)\n",
    "\n",
    "            compressed_imgs.append(compressed_img)\n",
    "            is_monochrome_imgs.append(np.array([is_monochrome_img], dtype = np.bool_))\n",
    "\n",
    "            patient_ids.append(np.array([patient_id], dtype = np.int64))\n",
    "            img_ids.append(np.array([img_id], dtype = np.int64))\n",
    "\n",
    "        self.i += self.batch_size\n",
    "\n",
    "        return compressed_imgs, is_monochrome_imgs, patient_ids, img_ids"
   ]
  },
  {
   "cell_type": "code",
   "execution_count": 268,
   "id": "768a888d-2e9d-4232-a804-1c57245a8e3b",
   "metadata": {},
   "outputs": [],
   "source": [
    "JpgIter = JpgIterator(df=df_train.iloc[[0]], batch_size=1, img_dir=train_img_dir)"
   ]
  },
  {
   "cell_type": "code",
   "execution_count": 272,
   "id": "ae44c63b-1606-4f1c-be47-6b892be01f71",
   "metadata": {},
   "outputs": [],
   "source": [
    "@pipeline_def\n",
    "def jpeg_decode_pipeline():\n",
    "    imgs, is_monochromes, p_ids, i_ids = fn.external_source(\n",
    "        source=JpgIter, num_outputs=4, device=\"cpu\", dtype=[types.UINT8, types.BOOL, types.INT64, types.INT64]\n",
    "    )\n",
    "\n",
    "    imgs = fn.experimental.decoders.image(\n",
    "        imgs, device='mixed', output_type=types.ANY_DATA, dtype=DALIDataType.UINT16\n",
    "    )\n",
    "    \n",
    "    return imgs, is_monochromes, p_ids, i_ids"
   ]
  },
  {
   "cell_type": "code",
   "execution_count": 273,
   "id": "99c76951-538b-44e7-990b-c1ebe278d5ce",
   "metadata": {
    "scrolled": true
   },
   "outputs": [],
   "source": [
    "pipe = jpg_decode_pipeline(batch_size=1, num_threads=1, device_id=0, \n",
    "                           py_num_workers=1, exec_async=False, exec_pipelined=False)\n",
    "pipe.build()"
   ]
  },
  {
   "cell_type": "code",
   "execution_count": 274,
   "id": "1d88c3cd-89ea-4889-99f0-c0d4593c02f3",
   "metadata": {
    "collapsed": true,
    "jupyter": {
     "outputs_hidden": true
    }
   },
   "outputs": [
    {
     "ename": "RuntimeError",
     "evalue": "Critical error in pipeline:\nError in MIXED operator `nvidia.dali.fn.experimental.decoders.image`,\nwhich was used in the pipeline definition with the following traceback:\n\n  File \"/tmp/ipykernel_6107/3913241424.py\", line 7, in jpeg_decode_pipeline\n    imgs = fn.experimental.decoders.image(\n\nencountered:\n\nFailed to decode sample #0 : \nCurrent pipeline object is no longer valid.",
     "output_type": "error",
     "traceback": [
      "\u001b[0;31m---------------------------------------------------------------------------\u001b[0m",
      "\u001b[0;31mRuntimeError\u001b[0m                              Traceback (most recent call last)",
      "Cell \u001b[0;32mIn[274], line 1\u001b[0m\n\u001b[0;32m----> 1\u001b[0m out \u001b[38;5;241m=\u001b[39m \u001b[43mpipe\u001b[49m\u001b[38;5;241;43m.\u001b[39;49m\u001b[43mrun\u001b[49m\u001b[43m(\u001b[49m\u001b[43m)\u001b[49m\n",
      "File \u001b[0;32m~/miniconda3/envs/dalienv/lib/python3.8/site-packages/nvidia/dali/pipeline.py:1275\u001b[0m, in \u001b[0;36mPipeline.run\u001b[0;34m(self, **pipeline_inputs)\u001b[0m\n\u001b[1;32m   1273\u001b[0m \u001b[38;5;28;01mwith\u001b[39;00m \u001b[38;5;28mself\u001b[39m\u001b[38;5;241m.\u001b[39m_check_api_type_scope(types\u001b[38;5;241m.\u001b[39mPipelineAPIType\u001b[38;5;241m.\u001b[39mBASIC):\n\u001b[1;32m   1274\u001b[0m     \u001b[38;5;28mself\u001b[39m\u001b[38;5;241m.\u001b[39mschedule_run()\n\u001b[0;32m-> 1275\u001b[0m     \u001b[38;5;28;01mreturn\u001b[39;00m \u001b[38;5;28;43mself\u001b[39;49m\u001b[38;5;241;43m.\u001b[39;49m\u001b[43moutputs\u001b[49m\u001b[43m(\u001b[49m\u001b[43m)\u001b[49m\n",
      "File \u001b[0;32m~/miniconda3/envs/dalienv/lib/python3.8/site-packages/nvidia/dali/pipeline.py:1113\u001b[0m, in \u001b[0;36mPipeline.outputs\u001b[0;34m(self)\u001b[0m\n\u001b[1;32m   1111\u001b[0m     \u001b[38;5;28;01mraise\u001b[39;00m \u001b[38;5;167;01mStopIteration\u001b[39;00m\n\u001b[1;32m   1112\u001b[0m \u001b[38;5;28mself\u001b[39m\u001b[38;5;241m.\u001b[39m_batches_to_consume \u001b[38;5;241m-\u001b[39m\u001b[38;5;241m=\u001b[39m \u001b[38;5;241m1\u001b[39m\n\u001b[0;32m-> 1113\u001b[0m \u001b[38;5;28;01mreturn\u001b[39;00m \u001b[38;5;28;43mself\u001b[39;49m\u001b[38;5;241;43m.\u001b[39;49m\u001b[43m_outputs\u001b[49m\u001b[43m(\u001b[49m\u001b[43m)\u001b[49m\n",
      "File \u001b[0;32m~/miniconda3/envs/dalienv/lib/python3.8/site-packages/nvidia/dali/pipeline.py:1198\u001b[0m, in \u001b[0;36mPipeline._outputs\u001b[0;34m(self)\u001b[0m\n\u001b[1;32m   1196\u001b[0m \u001b[38;5;28;01mif\u001b[39;00m \u001b[38;5;129;01mnot\u001b[39;00m \u001b[38;5;28mself\u001b[39m\u001b[38;5;241m.\u001b[39m_built:\n\u001b[1;32m   1197\u001b[0m     \u001b[38;5;28;01mraise\u001b[39;00m \u001b[38;5;167;01mRuntimeError\u001b[39;00m(\u001b[38;5;124m\"\u001b[39m\u001b[38;5;124mPipeline must be built first.\u001b[39m\u001b[38;5;124m\"\u001b[39m)\n\u001b[0;32m-> 1198\u001b[0m \u001b[38;5;28;01mreturn\u001b[39;00m \u001b[38;5;28;43mself\u001b[39;49m\u001b[38;5;241;43m.\u001b[39;49m\u001b[43m_pipe\u001b[49m\u001b[38;5;241;43m.\u001b[39;49m\u001b[43mOutputs\u001b[49m\u001b[43m(\u001b[49m\u001b[43m)\u001b[49m\n",
      "\u001b[0;31mRuntimeError\u001b[0m: Critical error in pipeline:\nError in MIXED operator `nvidia.dali.fn.experimental.decoders.image`,\nwhich was used in the pipeline definition with the following traceback:\n\n  File \"/tmp/ipykernel_6107/3913241424.py\", line 7, in jpeg_decode_pipeline\n    imgs = fn.experimental.decoders.image(\n\nencountered:\n\nFailed to decode sample #0 : \nCurrent pipeline object is no longer valid."
     ]
    }
   ],
   "source": [
    "out = pipe.run()"
   ]
  }
 ],
 "metadata": {
  "kernelspec": {
   "display_name": "Python 3 (ipykernel)",
   "language": "python",
   "name": "python3"
  },
  "language_info": {
   "codemirror_mode": {
    "name": "ipython",
    "version": 3
   },
   "file_extension": ".py",
   "mimetype": "text/x-python",
   "name": "python",
   "nbconvert_exporter": "python",
   "pygments_lexer": "ipython3",
   "version": "3.8.19"
  }
 },
 "nbformat": 4,
 "nbformat_minor": 5
}
