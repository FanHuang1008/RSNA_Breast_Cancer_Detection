{
 "cells": [
  {
   "cell_type": "code",
   "execution_count": 223,
   "id": "c1aca660-8812-42f4-90e4-c0fc58eb4acb",
   "metadata": {},
   "outputs": [],
   "source": [
    "import cv2\n",
    "import glob\n",
    "from tqdm import tqdm\n",
    "import numpy as np\n",
    "import pandas as pd\n",
    "\n",
    "import pydicom\n",
    "from pydicom.pixel_data_handlers import apply_windowing\n",
    "\n",
    "import matplotlib.pyplot as plt\n",
    "%matplotlib inline\n",
    "\n",
    "from libs.image_processing import to_3_channels, roi_extraction_cv2, show_img_and_roi, crop_img, resize_and_pad, check_mkdir"
   ]
  },
  {
   "cell_type": "markdown",
   "id": "fe73f6d6-5b55-4f93-bceb-f226f6febb0f",
   "metadata": {},
   "source": [
    "## BMCD"
   ]
  },
  {
   "cell_type": "code",
   "execution_count": 246,
   "id": "806103d4-04a6-4c2b-9eb6-df3443b22956",
   "metadata": {},
   "outputs": [],
   "source": [
    "def bmcd_to_png(bmcd_dcm):\n",
    "    patient_id = bmcd_dcm.split(\"/\")[-2]\n",
    "    image_id = patient_id + \"_\" + bmcd_dcm.split(\"/\")[-1].split(\".\")[0] \n",
    "    \n",
    "    dcmfile = pydicom.dcmread(bmcd_dcm)\n",
    "    img, is_monochrome1 = dcmfile.pixel_array, dcmfile.PhotometricInterpretation == 'MONOCHROME1'\n",
    "\n",
    "    img = to_3_channels(img, is_monochrome1)\n",
    "    roi = roi_extraction_cv2(img)\n",
    "    img = crop_img(img, roi)\n",
    "    img = resize_and_pad(img)\n",
    "\n",
    "    save_path = f\"/home/FanHuang247817/train_images_png2/bmcd_{patient_id}/{image_id}.png\"\n",
    "    check_mkdir(save_path)\n",
    "    cv2.imwrite(save_path, img)\n",
    "\n",
    "    return \"bmcd_\" + patient_id, image_id"
   ]
  },
  {
   "cell_type": "code",
   "execution_count": 247,
   "id": "e62d584d-6b2e-4d59-8809-28e8c4d4446c",
   "metadata": {},
   "outputs": [
    {
     "name": "stderr",
     "output_type": "stream",
     "text": [
      "100%|████████████████████████████████████████████████████████████████████████████████████████████████████████████████████████████████████████████████████████████████| 154/154 [01:39<00:00,  1.55it/s]\n"
     ]
    }
   ],
   "source": [
    "bmcd_dcms = glob.glob(\"./external/BMCD/*/*/*dcm\")\n",
    "bmcd_patient_ids, bmcd_image_ids = [], []\n",
    "for bmcd_dcm in tqdm(bmcd_dcms):\n",
    "    p_id, i_id = bmcd_to_png(bmcd_dcm)\n",
    "    bmcd_patient_ids.append(p_id)\n",
    "    bmcd_image_ids.append(i_id)"
   ]
  },
  {
   "cell_type": "markdown",
   "id": "6c3ec6e1-ce2c-4db4-94c2-4d4c6ea872a5",
   "metadata": {},
   "source": [
    "## CMMD"
   ]
  },
  {
   "cell_type": "code",
   "execution_count": 259,
   "id": "79633f41-60f0-4e57-a87a-567136eb0c62",
   "metadata": {},
   "outputs": [],
   "source": [
    "def cmmd_to_png(cmmd_dcm):\n",
    "    patient_id = cmmd_dcm.split(\"/\")[-4]\n",
    "    image_id = patient_id + \"_\" + cmmd_dcm.split(\"/\")[-1][:-4]\n",
    "    \n",
    "    dcmfile = pydicom.dcmread(cmmd_dcm)\n",
    "    img, is_monochrome1 = dcmfile.pixel_array, dcmfile.PhotometricInterpretation == 'MONOCHROME1'\n",
    "    img = apply_windowing(img, dcmfile)\n",
    "\n",
    "    img = to_3_channels(img, is_monochrome1)\n",
    "    roi = roi_extraction_cv2(img)\n",
    "    img = crop_img(img, roi)\n",
    "    img = resize_and_pad(img)\n",
    "\n",
    "    save_path = f\"/home/FanHuang247817/train_images_png2/{patient_id}/{image_id}.png\"\n",
    "    check_mkdir(save_path)\n",
    "    cv2.imwrite(save_path, img)\n",
    "\n",
    "    return patient_id, image_id"
   ]
  },
  {
   "cell_type": "code",
   "execution_count": 260,
   "id": "f29c26ca-871d-4eaa-a9cb-13693978f983",
   "metadata": {},
   "outputs": [
    {
     "data": {
      "text/html": [
       "<div>\n",
       "<style scoped>\n",
       "    .dataframe tbody tr th:only-of-type {\n",
       "        vertical-align: middle;\n",
       "    }\n",
       "\n",
       "    .dataframe tbody tr th {\n",
       "        vertical-align: top;\n",
       "    }\n",
       "\n",
       "    .dataframe thead th {\n",
       "        text-align: right;\n",
       "    }\n",
       "</style>\n",
       "<table border=\"1\" class=\"dataframe\">\n",
       "  <thead>\n",
       "    <tr style=\"text-align: right;\">\n",
       "      <th></th>\n",
       "      <th>ID1</th>\n",
       "      <th>LeftRight</th>\n",
       "      <th>Age</th>\n",
       "      <th>number</th>\n",
       "      <th>abnormality</th>\n",
       "      <th>classification</th>\n",
       "      <th>subtype</th>\n",
       "    </tr>\n",
       "  </thead>\n",
       "  <tbody>\n",
       "    <tr>\n",
       "      <th>0</th>\n",
       "      <td>D1-0001</td>\n",
       "      <td>R</td>\n",
       "      <td>44</td>\n",
       "      <td>2</td>\n",
       "      <td>calcification</td>\n",
       "      <td>Benign</td>\n",
       "      <td>NaN</td>\n",
       "    </tr>\n",
       "    <tr>\n",
       "      <th>1</th>\n",
       "      <td>D1-0002</td>\n",
       "      <td>L</td>\n",
       "      <td>40</td>\n",
       "      <td>2</td>\n",
       "      <td>calcification</td>\n",
       "      <td>Benign</td>\n",
       "      <td>NaN</td>\n",
       "    </tr>\n",
       "    <tr>\n",
       "      <th>2</th>\n",
       "      <td>D1-0003</td>\n",
       "      <td>L</td>\n",
       "      <td>39</td>\n",
       "      <td>2</td>\n",
       "      <td>calcification</td>\n",
       "      <td>Benign</td>\n",
       "      <td>NaN</td>\n",
       "    </tr>\n",
       "    <tr>\n",
       "      <th>3</th>\n",
       "      <td>D1-0004</td>\n",
       "      <td>L</td>\n",
       "      <td>41</td>\n",
       "      <td>2</td>\n",
       "      <td>calcification</td>\n",
       "      <td>Benign</td>\n",
       "      <td>NaN</td>\n",
       "    </tr>\n",
       "    <tr>\n",
       "      <th>4</th>\n",
       "      <td>D1-0005</td>\n",
       "      <td>R</td>\n",
       "      <td>42</td>\n",
       "      <td>2</td>\n",
       "      <td>calcification</td>\n",
       "      <td>Benign</td>\n",
       "      <td>NaN</td>\n",
       "    </tr>\n",
       "  </tbody>\n",
       "</table>\n",
       "</div>"
      ],
      "text/plain": [
       "       ID1 LeftRight  Age  number    abnormality classification subtype\n",
       "0  D1-0001         R   44       2  calcification         Benign     NaN\n",
       "1  D1-0002         L   40       2  calcification         Benign     NaN\n",
       "2  D1-0003         L   39       2  calcification         Benign     NaN\n",
       "3  D1-0004         L   41       2  calcification         Benign     NaN\n",
       "4  D1-0005         R   42       2  calcification         Benign     NaN"
      ]
     },
     "execution_count": 260,
     "metadata": {},
     "output_type": "execute_result"
    }
   ],
   "source": [
    "df_cmmd = pd.read_excel(\"/home/FanHuang247817/rsna_breast/external/CMMD/CMMD_clinicaldata_revision.xlsx\")\n",
    "df_cmmd.head()"
   ]
  },
  {
   "cell_type": "code",
   "execution_count": 261,
   "id": "09a450fa-fd66-4976-8454-fadff0c8ab74",
   "metadata": {},
   "outputs": [],
   "source": [
    "cmmd_malignant = df_cmmd.loc[df_cmmd[\"classification\"]==\"Malignant\", \"ID1\"].tolist()\n",
    "cmmd_dcms = glob.glob(\"/home/FanHuang247817/rsna_breast/external/CMMD/CMMD/*/*/*/*.dcm\")\n",
    "\n",
    "cmmd_malignant_dcms = []\n",
    "for cmmd_dcm in cmmd_dcms:\n",
    "    if cmmd_dcm.split(\"/\")[-4] in set(cmmd_malignant):\n",
    "        cmmd_malignant_dcms.append(cmmd_dcm)"
   ]
  },
  {
   "cell_type": "code",
   "execution_count": 262,
   "id": "3b1827c8-ade7-49f9-872d-f8c68ab3e5ae",
   "metadata": {},
   "outputs": [
    {
     "name": "stderr",
     "output_type": "stream",
     "text": [
      "100%|██████████████████████████████████████████████████████████████████████████████████████████████████████████████████████████████████████████████████████████████| 1654/1654 [09:16<00:00,  2.97it/s]\n"
     ]
    }
   ],
   "source": [
    "cmmd_patient_ids, cmmd_image_ids = [], []\n",
    "for cmmd_dcm in tqdm(cmmd_malignant_dcms):\n",
    "    p_id, i_id = cmmd_to_png(cmmd_dcm)\n",
    "    cmmd_patient_ids.append(p_id), cmmd_image_ids.append(i_id)"
   ]
  },
  {
   "cell_type": "markdown",
   "id": "f095b358-166a-4aa6-b6fd-3e67f5b2db42",
   "metadata": {},
   "source": [
    "## DDSM"
   ]
  },
  {
   "cell_type": "code",
   "execution_count": 300,
   "id": "b4fbc685-b5fa-40ba-8e49-4c61c1b46e07",
   "metadata": {},
   "outputs": [],
   "source": [
    "def ddsm_to_png(ddsm_png):\n",
    "    patient_id = \"ddsm_\" + ddsm_png.split(\"/\")[-2]\n",
    "    image_id = ddsm_png.split(\"/\")[-1]\n",
    "    \n",
    "    img = cv2.imread(ddsm_png)\n",
    "    roi = roi_extraction_cv2(img)\n",
    "    img = crop_img(img, roi)\n",
    "    img = resize_and_pad(img)\n",
    "\n",
    "    save_path = f\"/home/FanHuang247817/train_images_png2/{patient_id}/{image_id}\"\n",
    "    check_mkdir(save_path)\n",
    "    cv2.imwrite(save_path, img)\n",
    "\n",
    "    return patient_id, image_id[:-4]"
   ]
  },
  {
   "cell_type": "code",
   "execution_count": 301,
   "id": "d31b46c9-7aed-40d5-ad6b-f23bba676344",
   "metadata": {},
   "outputs": [],
   "source": [
    "ddsm_pngs = glob.glob(\"/home/FanHuang247817/rsna_breast/external/DDSM/*/*.png\")\n",
    "ddsm_pos = [png.replace(\"_Mask2\", \"\") for png in ddsm_pngs if \"Mask\" in png]\n",
    "ddsm_pos = [png.replace(\"_Mask\", \"\") for png in ddsm_pos if \"Mask\" in png]"
   ]
  },
  {
   "cell_type": "code",
   "execution_count": 302,
   "id": "12f5c0c8-a743-4705-a216-f6ae29c4f535",
   "metadata": {},
   "outputs": [
    {
     "name": "stderr",
     "output_type": "stream",
     "text": [
      "100%|██████████████████████████████████████████████████████████████████████████████████████████████████████████████████████████████████████████████████████████████| 1429/1429 [06:31<00:00,  3.65it/s]\n"
     ]
    }
   ],
   "source": [
    "ddsm_patient_ids, ddsm_image_ids = [], []\n",
    "for ddsm in tqdm(ddsm_pos):\n",
    "    p_id, i_id = ddsm_to_png(ddsm)\n",
    "    ddsm_patient_ids.append(p_id), ddsm_image_ids.append(i_id)"
   ]
  },
  {
   "cell_type": "markdown",
   "id": "13df19c0-1562-401f-bdc7-c80f4b9b5ea8",
   "metadata": {},
   "source": [
    "## Generate Pickle "
   ]
  },
  {
   "cell_type": "code",
   "execution_count": 283,
   "id": "68105448-20dc-4fa2-928f-b37aef482f43",
   "metadata": {},
   "outputs": [
    {
     "name": "stdout",
     "output_type": "stream",
     "text": [
      "4737 4737\n"
     ]
    }
   ],
   "source": [
    "patient_ids = ddsm_patient_ids + cmmd_patient_ids + cmmd_patient_ids\n",
    "image_ids = ddsm_image_ids + cmmd_image_ids + cmmd_image_ids\n",
    "print(len(patient_ids), len(image_ids))"
   ]
  },
  {
   "cell_type": "code",
   "execution_count": 293,
   "id": "1a2dc8f1-2679-4dd0-83dc-e69713892156",
   "metadata": {},
   "outputs": [],
   "source": [
    "site_id = [1] * len(patient_ids)\n",
    "laterality = [\"L\"] * len(patient_ids)\n",
    "view = [\"CC\"] * len(patient_ids)\n",
    "age = [42.0] * len(patient_ids)\n",
    "cancer = [1] * len(patient_ids)\n",
    "biopsy = [0] * len(patient_ids)\n",
    "invasive = [0] * len(patient_ids)\n",
    "BIRADS = [1.0] * len(patient_ids)\n",
    "implant = [0] * len(patient_ids)\n",
    "density = [\"C\"] * len(patient_ids)\n",
    "machine_id = [49] * len(patient_ids)\n",
    "difficult_negative_case = [False] * len(patient_ids)\n",
    "patient_view = [\"666L\"] * len(patient_ids)\n",
    "\n",
    "dict_ = {'site_id': site_id, 'patient_id': patient_ids, 'image_id': image_ids, \n",
    "        'laterality': laterality, \"view\": view, \"age\": age, \"cancer\": cancer, \"biopsy\": biopsy,\n",
    "        'invasive': invasive, 'BIRADS': BIRADS, 'implant': implant, \"density\": density, \"machine_id\": machine_id,\n",
    "        'difficult_negative_case': difficult_negative_case, 'patient_view': patient_view} \n",
    "   \n",
    "df_ex = pd.DataFrame(dict_)"
   ]
  },
  {
   "cell_type": "code",
   "execution_count": 294,
   "id": "f4ee5714-d4c0-4298-8de4-5119f4c89d0a",
   "metadata": {},
   "outputs": [
    {
     "data": {
      "text/html": [
       "<div>\n",
       "<style scoped>\n",
       "    .dataframe tbody tr th:only-of-type {\n",
       "        vertical-align: middle;\n",
       "    }\n",
       "\n",
       "    .dataframe tbody tr th {\n",
       "        vertical-align: top;\n",
       "    }\n",
       "\n",
       "    .dataframe thead th {\n",
       "        text-align: right;\n",
       "    }\n",
       "</style>\n",
       "<table border=\"1\" class=\"dataframe\">\n",
       "  <thead>\n",
       "    <tr style=\"text-align: right;\">\n",
       "      <th></th>\n",
       "      <th>site_id</th>\n",
       "      <th>patient_id</th>\n",
       "      <th>image_id</th>\n",
       "      <th>laterality</th>\n",
       "      <th>view</th>\n",
       "      <th>age</th>\n",
       "      <th>cancer</th>\n",
       "      <th>biopsy</th>\n",
       "      <th>invasive</th>\n",
       "      <th>BIRADS</th>\n",
       "      <th>implant</th>\n",
       "      <th>density</th>\n",
       "      <th>machine_id</th>\n",
       "      <th>difficult_negative_case</th>\n",
       "      <th>patient_view</th>\n",
       "    </tr>\n",
       "  </thead>\n",
       "  <tbody>\n",
       "    <tr>\n",
       "      <th>0</th>\n",
       "      <td>1</td>\n",
       "      <td>ddsm_1488</td>\n",
       "      <td>A_1488_1.LEFT_MLO</td>\n",
       "      <td>L</td>\n",
       "      <td>CC</td>\n",
       "      <td>42.0</td>\n",
       "      <td>1</td>\n",
       "      <td>0</td>\n",
       "      <td>0</td>\n",
       "      <td>1.0</td>\n",
       "      <td>0</td>\n",
       "      <td>C</td>\n",
       "      <td>49</td>\n",
       "      <td>False</td>\n",
       "      <td>666L</td>\n",
       "    </tr>\n",
       "    <tr>\n",
       "      <th>1</th>\n",
       "      <td>1</td>\n",
       "      <td>ddsm_0133</td>\n",
       "      <td>C_0133_1.LEFT_MLO</td>\n",
       "      <td>L</td>\n",
       "      <td>CC</td>\n",
       "      <td>42.0</td>\n",
       "      <td>1</td>\n",
       "      <td>0</td>\n",
       "      <td>0</td>\n",
       "      <td>1.0</td>\n",
       "      <td>0</td>\n",
       "      <td>C</td>\n",
       "      <td>49</td>\n",
       "      <td>False</td>\n",
       "      <td>666L</td>\n",
       "    </tr>\n",
       "    <tr>\n",
       "      <th>2</th>\n",
       "      <td>1</td>\n",
       "      <td>ddsm_0133</td>\n",
       "      <td>C_0133_1.LEFT_CC</td>\n",
       "      <td>L</td>\n",
       "      <td>CC</td>\n",
       "      <td>42.0</td>\n",
       "      <td>1</td>\n",
       "      <td>0</td>\n",
       "      <td>0</td>\n",
       "      <td>1.0</td>\n",
       "      <td>0</td>\n",
       "      <td>C</td>\n",
       "      <td>49</td>\n",
       "      <td>False</td>\n",
       "      <td>666L</td>\n",
       "    </tr>\n",
       "    <tr>\n",
       "      <th>3</th>\n",
       "      <td>1</td>\n",
       "      <td>ddsm_1626</td>\n",
       "      <td>A_1626_1.LEFT_MLO</td>\n",
       "      <td>L</td>\n",
       "      <td>CC</td>\n",
       "      <td>42.0</td>\n",
       "      <td>1</td>\n",
       "      <td>0</td>\n",
       "      <td>0</td>\n",
       "      <td>1.0</td>\n",
       "      <td>0</td>\n",
       "      <td>C</td>\n",
       "      <td>49</td>\n",
       "      <td>False</td>\n",
       "      <td>666L</td>\n",
       "    </tr>\n",
       "    <tr>\n",
       "      <th>4</th>\n",
       "      <td>1</td>\n",
       "      <td>ddsm_1626</td>\n",
       "      <td>A_1626_1.LEFT_CC</td>\n",
       "      <td>L</td>\n",
       "      <td>CC</td>\n",
       "      <td>42.0</td>\n",
       "      <td>1</td>\n",
       "      <td>0</td>\n",
       "      <td>0</td>\n",
       "      <td>1.0</td>\n",
       "      <td>0</td>\n",
       "      <td>C</td>\n",
       "      <td>49</td>\n",
       "      <td>False</td>\n",
       "      <td>666L</td>\n",
       "    </tr>\n",
       "  </tbody>\n",
       "</table>\n",
       "</div>"
      ],
      "text/plain": [
       "   site_id patient_id           image_id laterality view   age  cancer  \\\n",
       "0        1  ddsm_1488  A_1488_1.LEFT_MLO          L   CC  42.0       1   \n",
       "1        1  ddsm_0133  C_0133_1.LEFT_MLO          L   CC  42.0       1   \n",
       "2        1  ddsm_0133   C_0133_1.LEFT_CC          L   CC  42.0       1   \n",
       "3        1  ddsm_1626  A_1626_1.LEFT_MLO          L   CC  42.0       1   \n",
       "4        1  ddsm_1626   A_1626_1.LEFT_CC          L   CC  42.0       1   \n",
       "\n",
       "   biopsy  invasive  BIRADS  implant density  machine_id  \\\n",
       "0       0         0     1.0        0       C          49   \n",
       "1       0         0     1.0        0       C          49   \n",
       "2       0         0     1.0        0       C          49   \n",
       "3       0         0     1.0        0       C          49   \n",
       "4       0         0     1.0        0       C          49   \n",
       "\n",
       "   difficult_negative_case patient_view  \n",
       "0                    False         666L  \n",
       "1                    False         666L  \n",
       "2                    False         666L  \n",
       "3                    False         666L  \n",
       "4                    False         666L  "
      ]
     },
     "execution_count": 294,
     "metadata": {},
     "output_type": "execute_result"
    }
   ],
   "source": [
    "df_ex.head()"
   ]
  },
  {
   "cell_type": "code",
   "execution_count": 296,
   "id": "33564b3c-0862-47aa-9801-b64454f22380",
   "metadata": {},
   "outputs": [],
   "source": [
    "df_ex.to_pickle(f'./df/train_ex.pkl')"
   ]
  }
 ],
 "metadata": {
  "kernelspec": {
   "display_name": "Python 3 (ipykernel)",
   "language": "python",
   "name": "python3"
  },
  "language_info": {
   "codemirror_mode": {
    "name": "ipython",
    "version": 3
   },
   "file_extension": ".py",
   "mimetype": "text/x-python",
   "name": "python",
   "nbconvert_exporter": "python",
   "pygments_lexer": "ipython3",
   "version": "3.8.19"
  }
 },
 "nbformat": 4,
 "nbformat_minor": 5
}
