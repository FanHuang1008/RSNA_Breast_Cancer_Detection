{
 "cells": [
  {
   "cell_type": "code",
   "execution_count": 20,
   "id": "2acf11a5-2d05-400a-8cd6-6c4c0f4052b8",
   "metadata": {},
   "outputs": [],
   "source": [
    "import os\n",
    "import glob\n",
    "from tqdm import tqdm\n",
    "import pandas as pd\n",
    "\n",
    "import torch\n",
    "from torch import nn\n",
    "\n",
    "os.environ[\"CUDA_VISIBLE_DEVICES\"] = '1'\n",
    "DEVICE = torch.device('cuda' if torch.cuda.is_available() else 'cpu')"
   ]
  },
  {
   "cell_type": "code",
   "execution_count": 28,
   "id": "ddb065b9-8380-4e26-b8fe-7bf2f1d57b7a",
   "metadata": {},
   "outputs": [],
   "source": [
    "from libs.dali_helper import J2kIterator, j2k_decode_pipeline, JllIterator, jll_process_pipeline, CustomDALIGenericIterator\n",
    "from libs.image_processing import get_yolo\n",
    "from libs.efficientnet import EffNetModel, predict"
   ]
  },
  {
   "cell_type": "code",
   "execution_count": 29,
   "id": "d4c2a21f-579f-45f7-89bd-c9560359cbda",
   "metadata": {},
   "outputs": [],
   "source": [
    "IMG_DIR = \"/home/data4/share/rsna-breast-cancer-detection/test_images\""
   ]
  },
  {
   "cell_type": "code",
   "execution_count": 30,
   "id": "2f98e0b4-ef61-41a7-af9c-a9f78fe48893",
   "metadata": {},
   "outputs": [
    {
     "name": "stdout",
     "output_type": "stream",
     "text": [
      "j2k: 4 jll: 0\n"
     ]
    }
   ],
   "source": [
    "df = pd.read_csv(\"/home/data4/share/rsna-breast-cancer-detection/test.csv\")\n",
    "df['dcm'] = IMG_DIR + '/' + df.patient_id.astype(str) + '/' + df.image_id.astype(str) + '.dcm'\n",
    "df_j2k, df_jll = df[df[\"site_id\"]==2].reset_index(drop=True), df[df[\"site_id\"]==1].reset_index(drop=True)\n",
    "df_j2k, df_jll = df_j2k[:320], df_jll[:320]\n",
    "print('j2k:', len(df_j2k), 'jll:', len(df_jll))"
   ]
  },
  {
   "cell_type": "code",
   "execution_count": 5,
   "id": "5cbfc043-d798-431c-bc09-d8e40d8ec33a",
   "metadata": {
    "scrolled": true
   },
   "outputs": [
    {
     "name": "stderr",
     "output_type": "stream",
     "text": [
      "YOLOv5 🚀 v7.0-312-g1bcd17ee Python-3.8.19 torch-1.13.1+cu116 CUDA:0 (Quadro RTX 8000, 48593MiB)\n",
      "\n",
      "Fusing layers... \n",
      "Model summary: 157 layers, 7012822 parameters, 0 gradients, 15.8 GFLOPs\n",
      "Adding AutoShape... \n"
     ]
    }
   ],
   "source": [
    "roi_model = get_yolo()"
   ]
  },
  {
   "cell_type": "code",
   "execution_count": 31,
   "id": "04606a5a-19e0-44d0-85a8-e3a10cb55d54",
   "metadata": {},
   "outputs": [],
   "source": [
    "j2k_it = J2kIterator(df_j2k, batch_size=32, img_dir=\"/home/data4/share/rsna-breast-cancer-detection/test_images\")\n",
    "j2k_pipe = j2k_decode_pipeline(j2k_it, width=768, height=768, batch_size=32, num_threads=2, device_id=0, \n",
    "                               py_num_workers=4, exec_async=False, exec_pipelined=False)\n",
    "j2k_loader = CustomDALIGenericIterator(yolo_model=roi_model, length=len(df_j2k), save_img=False, pipelines=[j2k_pipe])"
   ]
  },
  {
   "cell_type": "code",
   "execution_count": 32,
   "id": "646a2170-8a75-44dc-b3a5-e8a57c00ef47",
   "metadata": {},
   "outputs": [],
   "source": [
    "if len(df_jll) != 0:\n",
    "    jll_it = JllIterator(df_jll, batch_size=32, img_dir=\"/home/data4/share/rsna-breast-cancer-detection/test_images\")\n",
    "    jll_pipe = jll_process_pipeline(jll_it, width=768, height=768, batch_size=32, num_threads=2, device_id=0, \n",
    "                                    py_num_workers=4, exec_async=False, exec_pipelined=False)\n",
    "    jll_loader = CustomDALIGenericIterator(yolo_model=roi_model, length=len(df_jll), save_img=False, pipelines=[jll_pipe])"
   ]
  },
  {
   "cell_type": "code",
   "execution_count": 8,
   "id": "c4185ca9-dbd3-491e-88d2-29b6b7931c83",
   "metadata": {},
   "outputs": [],
   "source": [
    "best_weights_vloss, best_weights_auc = [], []\n",
    "for i in range(4):\n",
    "    min_vloss, best_weight_vloss = 10000.0, \"vloss\"\n",
    "    max_auc, best_weight_auc = 0.5, \"auc\"\n",
    "    for weight in glob.glob(f\"./ckpt/f{i}_noex/*.pth\"):\n",
    "        if float(weight.split(\"_\")[-1][:-4]) < min_vloss:\n",
    "            min_vloss = float(weight.split(\"_\")[-1][:-4])\n",
    "            best_weight_vloss = weight\n",
    "        if float(weight.split(\"_\")[-3]) > max_auc:\n",
    "            max_auc = float(weight.split(\"_\")[-3])\n",
    "            best_weight_auc = weight\n",
    "\n",
    "    best_weights_vloss.append(best_weight_vloss)\n",
    "    best_weights_auc.append(best_weight_auc)"
   ]
  },
  {
   "cell_type": "code",
   "execution_count": 9,
   "id": "1630892c-6a2a-44e3-8f03-89d7b160a7f2",
   "metadata": {},
   "outputs": [
    {
     "data": {
      "text/plain": [
       "['./ckpt/f0_noex/f0_ep42_roc_0.740_loss_0.262.pth',\n",
       " './ckpt/f1_noex/f1_ep46_roc_0.754_loss_0.307.pth',\n",
       " './ckpt/f2_noex/f2_ep50_roc_0.765_loss_0.318.pth',\n",
       " './ckpt/f3_noex/f3_ep38_roc_0.715_loss_0.324.pth']"
      ]
     },
     "execution_count": 9,
     "metadata": {},
     "output_type": "execute_result"
    }
   ],
   "source": [
    "best_weights_auc"
   ]
  },
  {
   "cell_type": "code",
   "execution_count": 33,
   "id": "05c55d8e-6ccb-40e9-9817-b70af8429c72",
   "metadata": {},
   "outputs": [
    {
     "name": "stderr",
     "output_type": "stream",
     "text": [
      "100%|████████████████████████████████████████████████████████████████████████████████████████████████████████████████████████████████████████████████████████████████████| 4/4 [00:02<00:00,  1.47it/s]\n"
     ]
    }
   ],
   "source": [
    "EffNets = []\n",
    "for weight in tqdm(best_weights_auc):\n",
    "    model = EffNetModel()\n",
    "    model.to(DEVICE)\n",
    "    checkpoint = torch.load(weight, map_location=torch.device('cuda:0'))\n",
    "    model.load_state_dict(checkpoint['state_dict_ema'])\n",
    "    model.eval()\n",
    "    EffNets.append(model)"
   ]
  },
  {
   "cell_type": "code",
   "execution_count": 34,
   "id": "ea25570a-5488-42e8-b072-66c13cc35ca3",
   "metadata": {},
   "outputs": [
    {
     "name": "stderr",
     "output_type": "stream",
     "text": [
      "100%|████████████████████████████████████████████████████████████████████████████████████████████████████████████████████████████████████████████████████████████████████| 1/1 [00:00<00:00,  1.29it/s]\n"
     ]
    }
   ],
   "source": [
    "j2k_pred = predict(EffNets, j2k_loader)\n",
    "df_j2k['cancer'] = j2k_pred\n",
    "if len(df_jll)!=0:\n",
    "    jll_pred = predict(EffNets, jll_loader)\n",
    "    df_jll['cancer'] = jll_pred"
   ]
  },
  {
   "cell_type": "code",
   "execution_count": 35,
   "id": "8009d0af-5b35-4800-a81d-91733df93d05",
   "metadata": {},
   "outputs": [
    {
     "data": {
      "text/html": [
       "<div>\n",
       "<style scoped>\n",
       "    .dataframe tbody tr th:only-of-type {\n",
       "        vertical-align: middle;\n",
       "    }\n",
       "\n",
       "    .dataframe tbody tr th {\n",
       "        vertical-align: top;\n",
       "    }\n",
       "\n",
       "    .dataframe thead th {\n",
       "        text-align: right;\n",
       "    }\n",
       "</style>\n",
       "<table border=\"1\" class=\"dataframe\">\n",
       "  <thead>\n",
       "    <tr style=\"text-align: right;\">\n",
       "      <th></th>\n",
       "      <th>prediction_id</th>\n",
       "      <th>cancer</th>\n",
       "    </tr>\n",
       "  </thead>\n",
       "  <tbody>\n",
       "    <tr>\n",
       "      <th>0</th>\n",
       "      <td>10008_L</td>\n",
       "      <td>0</td>\n",
       "    </tr>\n",
       "    <tr>\n",
       "      <th>1</th>\n",
       "      <td>10008_R</td>\n",
       "      <td>0</td>\n",
       "    </tr>\n",
       "  </tbody>\n",
       "</table>\n",
       "</div>"
      ],
      "text/plain": [
       "  prediction_id  cancer\n",
       "0       10008_L       0\n",
       "1       10008_R       0"
      ]
     },
     "execution_count": 35,
     "metadata": {},
     "output_type": "execute_result"
    }
   ],
   "source": [
    "THRESHOLD = 0.1\n",
    "if len(df_jll)!=0:\n",
    "    df = pd.concat([df_j2k, df_jll]).reset_index(drop=True)\n",
    "else:\n",
    "    df = df_j2k\n",
    "df['prediction_id'] = df['patient_id'].astype(str) + '_' + df['laterality']\n",
    "sub = df[['prediction_id', \"cancer\"]].groupby(\"prediction_id\").mean().reset_index()\n",
    "sub[\"cancer\"] = sub[\"cancer\"].astype(int)\n",
    "sub[\"cancer\"] = (sub[\"cancer\"] > THRESHOLD).astype(int)\n",
    "#sub.to_csv('/kaggle/working/submission.csv', index = False)\n",
    "sub.tail()"
   ]
  }
 ],
 "metadata": {
  "kernelspec": {
   "display_name": "Python 3 (ipykernel)",
   "language": "python",
   "name": "python3"
  },
  "language_info": {
   "codemirror_mode": {
    "name": "ipython",
    "version": 3
   },
   "file_extension": ".py",
   "mimetype": "text/x-python",
   "name": "python",
   "nbconvert_exporter": "python",
   "pygments_lexer": "ipython3",
   "version": "3.8.19"
  }
 },
 "nbformat": 4,
 "nbformat_minor": 5
}
