{
 "cells": [
  {
   "cell_type": "code",
   "execution_count": 19,
   "id": "ed1b6e0c-fcd3-4fa6-b6b3-ff210a3c6f4a",
   "metadata": {
    "scrolled": true
   },
   "outputs": [
    {
     "ename": "ModuleNotFoundError",
     "evalue": "No module named 'timm'",
     "output_type": "error",
     "traceback": [
      "\u001b[0;31m---------------------------------------------------------------------------\u001b[0m",
      "\u001b[0;31mModuleNotFoundError\u001b[0m                       Traceback (most recent call last)",
      "Cell \u001b[0;32mIn[19], line 5\u001b[0m\n\u001b[1;32m      3\u001b[0m \u001b[38;5;28;01mfrom\u001b[39;00m \u001b[38;5;21;01mtorch\u001b[39;00m\u001b[38;5;21;01m.\u001b[39;00m\u001b[38;5;21;01mutils\u001b[39;00m\u001b[38;5;21;01m.\u001b[39;00m\u001b[38;5;21;01mdata\u001b[39;00m \u001b[38;5;28;01mimport\u001b[39;00m Dataset, DataLoader\n\u001b[1;32m      4\u001b[0m \u001b[38;5;28;01mfrom\u001b[39;00m \u001b[38;5;21;01mtorchvision\u001b[39;00m \u001b[38;5;28;01mimport\u001b[39;00m transforms, models\n\u001b[0;32m----> 5\u001b[0m \u001b[38;5;28;01mimport\u001b[39;00m \u001b[38;5;21;01mtimm\u001b[39;00m\n\u001b[1;32m      7\u001b[0m \u001b[38;5;28;01mimport\u001b[39;00m \u001b[38;5;21;01mos\u001b[39;00m\n\u001b[1;32m      8\u001b[0m \u001b[38;5;28;01mimport\u001b[39;00m \u001b[38;5;21;01mglob\u001b[39;00m\n",
      "\u001b[0;31mModuleNotFoundError\u001b[0m: No module named 'timm'"
     ]
    }
   ],
   "source": [
    "import torch\n",
    "from torch import nn\n",
    "from torch.utils.data import Dataset, DataLoader\n",
    "from torchvision import transforms, models\n",
    "\n",
    "import os\n",
    "import glob\n",
    "import random\n",
    "import pandas as pd\n",
    "import numpy as np\n",
    "import cv2\n",
    "from tqdm import tqdm\n",
    "\n",
    "import matplotlib.pyplot as plt\n",
    "import seaborn as sns\n",
    "\n",
    "from sklearn.metrics import confusion_matrix, roc_auc_score, precision_recall_curve\n",
    "from sklearn.model_selection import StratifiedGroupKFold\n",
    "\n",
    "os.environ[\"CUDA_VISIBLE_DEVICES\"] = '2'\n",
    "DEVICE = torch.device('cuda' if torch.cuda.is_available() else 'cpu')"
   ]
  },
  {
   "cell_type": "code",
   "execution_count": 3,
   "id": "46040b06-f7f0-402d-a266-e490af4aec88",
   "metadata": {},
   "outputs": [
    {
     "name": "stdout",
     "output_type": "stream",
     "text": [
      "NVIDIA RTX A6000\n",
      "Quadro RTX 8000\n"
     ]
    }
   ],
   "source": [
    "print(torch.cuda.get_device_name(0))\n",
    "print(torch.cuda.get_device_name(1))"
   ]
  },
  {
   "cell_type": "code",
   "execution_count": 5,
   "id": "57de9169-fd80-4f54-9109-c79456712d15",
   "metadata": {},
   "outputs": [],
   "source": [
    "seed = 42\n",
    "\n",
    "random.seed(seed)\n",
    "np.random.seed(seed)\n",
    "torch.manual_seed(seed)\n",
    "torch.cuda.manual_seed(seed)\n",
    "torch.backends.cudnn.deterministic = True"
   ]
  },
  {
   "cell_type": "code",
   "execution_count": 6,
   "id": "f9e60d10-f643-448b-8455-3b32a973c1dc",
   "metadata": {},
   "outputs": [],
   "source": [
    "train_transform = transforms.Compose([\n",
    "    transforms.ToTensor(),\n",
    "    transforms.CenterCrop((1024, 1024)),\n",
    "    transforms.RandomAffine(degrees=0, translate=(0.007, 0.007)),\n",
    "    transforms.RandomAffine(degrees=0, shear=(-15, 15)),\n",
    "    transforms.RandomRotation(degrees=(-25, 25)),\n",
    "    transforms.ColorJitter(saturation=0.5),\n",
    "    transforms.RandomErasing(p=0.2, scale=(0.02, 0.33), ratio=(0.3, 3.3), value=(254/255, 0, 0))\n",
    "])\n",
    "\n",
    "train_transform2 = transforms.Compose([\n",
    "    transforms.ToTensor(),\n",
    "    transforms.CenterCrop((1024, 1024)),\n",
    "    transforms.RandomChoice([transforms.RandomHorizontalFlip(p=0.5),\n",
    "                              transforms.RandomVerticalFlip(p=0.5)]),\n",
    "    transforms.RandomAffine(degrees=0, translate=(0.007, 0.007)),\n",
    "    transforms.RandomAffine(degrees=0, shear=(-15, 15)),\n",
    "    transforms.RandomRotation(degrees=(-25, 25)),\n",
    "    transforms.RandomChoice([transforms.ColorJitter(brightness=(0.5, 1.5)),\n",
    "                             transforms.ColorJitter(contrast=0.5),\n",
    "                             transforms.ColorJitter(saturation=0.5),\n",
    "                             transforms.ColorJitter(hue=0.3)]),\n",
    "    transforms.RandomErasing(p=0.2, scale=(0.02, 0.33), ratio=(0.3, 3.3), value=(254/255, 0, 0))\n",
    "])\n",
    "\n",
    "val_transform = transforms.Compose([\n",
    "    transforms.ToTensor(),\n",
    "])"
   ]
  },
  {
   "cell_type": "code",
   "execution_count": 7,
   "id": "df0f6cf6-048e-4246-9fd6-63cc66200491",
   "metadata": {},
   "outputs": [],
   "source": [
    "class CancerDataset(Dataset):\n",
    "    def __init__(self, df, transform=None):\n",
    "        super(CancerDataset, self).__init__()\n",
    "        self.df = df.copy()\n",
    "        self.transform = transform\n",
    "        self.path_to_png = \"/home/FanHuang247817/train_images_png2/\"\n",
    "        \n",
    "    def __getitem__(self, idx):\n",
    "        img_path = os.path.join(self.path_to_png, f\"{self.df.loc[idx, 'patient_id']}/{self.df.loc[idx, 'image_id']}.png\")\n",
    "        img = cv2.imread(img_path)\n",
    "        if self.transform:\n",
    "            img = self.transform(img)\n",
    "        label = self.df.loc[idx, \"cancer\"]\n",
    "        label = torch.tensor(label, dtype=torch.float32).unsqueeze(0)\n",
    "        return img, label\n",
    "    \n",
    "    def __len__(self):\n",
    "        return len(self.df)"
   ]
  },
  {
   "cell_type": "code",
   "execution_count": 8,
   "id": "799a9397-84fc-4294-a8fb-202a87e56321",
   "metadata": {},
   "outputs": [],
   "source": [
    "class EffNetModel(nn.Module):\n",
    "    def __init__(self):\n",
    "        super(EffNetModel, self).__init__()\n",
    "        backbone = models.efficientnet_b2(weights=models.EfficientNet_B2_Weights.DEFAULT)\n",
    "        backbone.classifier = nn.Linear(1408, 1)\n",
    "        self.backbone = backbone\n",
    "        \n",
    "    def forward(self, dcm):\n",
    "        out = self.backbone(dcm)\n",
    "        out = torch.sigmoid(out)\n",
    "        return out"
   ]
  },
  {
   "cell_type": "code",
   "execution_count": 21,
   "id": "676c588b-f4a2-4a5c-92a7-8a6cbcd9c5b5",
   "metadata": {},
   "outputs": [],
   "source": [
    "class ConvNext(nn.Module):\n",
    "    def __init__(self):\n",
    "        super(ConvNext, self).__init__()\n",
    "        backbone = models.convnext_small(weights=models.ConvNeXt_Small_Weights.IMAGENET1K_V1)\n",
    "        backbone.classifier[2] = nn.Linear(in_features=768, out_features=1, bias=True)\n",
    "        self.backbone = backbone\n",
    "        \n",
    "    def forward(self, dcm):\n",
    "        out = self.backbone(dcm)\n",
    "        out = torch.sigmoid(out)\n",
    "        return out"
   ]
  },
  {
   "cell_type": "code",
   "execution_count": 9,
   "id": "d3f21c90-d661-4c52-84e3-69c7914553c8",
   "metadata": {},
   "outputs": [],
   "source": [
    "def train_batch(batch, model, criterion, optimizer):\n",
    "    optimizer.zero_grad()\n",
    "    \n",
    "    dcms, labels = batch\n",
    "    dcms, labels = dcms.to(DEVICE), labels.to(DEVICE)\n",
    "    \n",
    "    preds = model(dcms)\n",
    "    \n",
    "    loss = criterion(preds, labels)\n",
    "    \n",
    "    loss.backward()\n",
    "    optimizer.step()\n",
    "    optimizer.zero_grad()\n",
    "    \n",
    "    return loss.cpu().detach().tolist()"
   ]
  },
  {
   "cell_type": "code",
   "execution_count": 10,
   "id": "2c39c70f-3fe7-404f-9ffd-8496853ba8c9",
   "metadata": {},
   "outputs": [],
   "source": [
    "def eval_batch(batch, model, criterion):\n",
    "    dcms, labels = batch\n",
    "    dcms, labels = dcms.to(DEVICE), labels.to(DEVICE)\n",
    "    \n",
    "    preds = model(dcms)\n",
    "\n",
    "    y_true = labels.cpu().detach().squeeze(1).tolist()\n",
    "    y_pred = preds.cpu().detach().squeeze(1).tolist()\n",
    "    \n",
    "    loss = criterion(preds, labels)\n",
    "    \n",
    "    return loss.cpu().detach().tolist(), y_true, y_pred"
   ]
  },
  {
   "cell_type": "code",
   "execution_count": 27,
   "id": "52569b72-c755-4c3d-aed0-d35d14191a73",
   "metadata": {},
   "outputs": [
    {
     "data": {
      "image/png": "[encoded data removed]",
      "text/plain": [
       "<Figure size 640x480 with 1 Axes>"
      ]
     },
     "metadata": {},
     "output_type": "display_data"
    }
   ],
   "source": [
    "# plot learning rates \n",
    "lr = 1e-5\n",
    "model = torch.nn.Linear(2, 1)\n",
    "optimizer = torch.optim.Adam(model.parameters(), lr=lr)\n",
    "scheduler = scheduler = torch.optim.lr_scheduler.CosineAnnealingLR(optimizer, T_max=3)\n",
    "lrs = []\n",
    "\n",
    "for i in range(25):\n",
    "    optimizer.step()\n",
    "    lrs.append(optimizer.param_groups[0][\"lr\"])\n",
    "    scheduler.step()\n",
    "\n",
    "plt.plot(lrs)\n",
    "plt.xticks(np.arange(0, 25, 1))    \n",
    "plt.show()"
   ]
  },
  {
   "cell_type": "code",
   "execution_count": 28,
   "id": "7b1c3833-2227-4a76-9fd1-01d917e0e1bc",
   "metadata": {},
   "outputs": [],
   "source": [
    "class CustomBatchSampler(torch.utils.data.BatchSampler):\n",
    "    def __iter__(self):\n",
    "        batch = [random.choice(pos_indices)]\n",
    "        for idx in self.sampler:\n",
    "            batch.append(idx)\n",
    "            if len(batch) == self.batch_size:\n",
    "                random.shuffle(batch)\n",
    "                yield batch\n",
    "                batch = [random.choice(pos_indices)]"
   ]
  },
  {
   "cell_type": "code",
   "execution_count": 35,
   "id": "372b709e-a68a-4955-99a5-aa00522d2cbc",
   "metadata": {},
   "outputs": [],
   "source": [
    "def train_loop(train_dataset, val_dataset, pos_indices, n_epoch, fold, batch_size=16, num_workers=8, lr=1e-5):\n",
    "    log = open(f\"./f{fold}/log.txt\", 'w')\n",
    "    \n",
    "    model = EffNetModel()\n",
    "    #model = ConvNext()\n",
    "    model= nn.DataParallel(model, device_ids = [0, 1])\n",
    "    model.to(DEVICE)\n",
    "\n",
    "    criterion = nn.BCELoss(reduction=\"mean\")\n",
    "    optimizer = torch.optim.Adam(model.parameters(), lr=lr)\n",
    "    scheduler = torch.optim.lr_scheduler.CosineAnnealingLR(optimizer, T_max=4)\n",
    "    #scheduler = torch.optim.lr_scheduler.StepLR(optimizer, step_size=4, gamma=0.1)\n",
    "\n",
    "    batchsampler = CustomBatchSampler(torch.utils.data.RandomSampler(train_dataset), batch_size=batch_size*2, drop_last=False)\n",
    "    train_dataloader = DataLoader(train_dataset, batch_sampler=batchsampler, num_workers=num_workers, prefetch_factor=2)\n",
    "    val_dataloader = DataLoader(val_dataset, batch_size=batch_size, num_workers=num_workers, shuffle=False)\n",
    "\n",
    "    train_losses, val_losses, val_roc_aucs = [], [], []\n",
    "    \n",
    "    for epoch in range(1, n_epoch + 1):\n",
    "        print(f\"Fold {fold} Epoch {epoch}\\n\", \"-\" * 50)\n",
    "        \n",
    "        train_loss = 0\n",
    "        model.train()\n",
    "        for batch in tqdm(train_dataloader):\n",
    "            loss = train_batch(batch, model, criterion, optimizer)\n",
    "            \n",
    "            with torch.no_grad():\n",
    "                train_loss += loss\n",
    "                \n",
    "            # update the learning rate at every batch\n",
    "            scheduler.step()\n",
    "            \n",
    "        print(f\"Train Loss: {train_loss / len(train_dataloader):.4f}\")\n",
    "        \n",
    "        val_loss = 0\n",
    "        val_targets, val_outputs = [], []\n",
    "        model.eval()\n",
    "        for batch in tqdm(val_dataloader):\n",
    "            with torch.no_grad():\n",
    "                loss, y_true, y_pred = eval_batch(batch, model, criterion)\n",
    "                val_loss += loss\n",
    "                val_targets.extend(y_true)\n",
    "                val_outputs.extend(y_pred)\n",
    "            \n",
    "        val_roc_auc = roc_auc_score(val_targets, val_outputs)\n",
    "        print(f\"Val Loss: {val_loss / len(val_dataloader):.4f}, ROC_AUC: {val_roc_auc:.4f}\")\n",
    "        print(\" \")\n",
    "\n",
    "        # save model weights\n",
    "        torch.save(model.state_dict(), f\"f{fold}/f{fold}_ep{epoch}_roc_{val_roc_auc:.4f}_vloss_{val_loss / len(val_dataloader):.4f}.pth\")\n",
    "\n",
    "        train_losses.append(train_loss / len(train_dataloader))\n",
    "        val_losses.append(val_loss / len(val_dataloader))\n",
    "        val_roc_aucs.append(val_roc_auc)\n",
    "\n",
    "        # write results to log file\n",
    "        with open(f\"./f{fold}/log.txt\", \"a\") as log:   \n",
    "            log.write(f\"Fold {fold} Epoch {epoch}\\n\")\n",
    "            log.write(f\"Train Loss: {train_loss / len(train_dataloader):.4f}\\n\")\n",
    "            log.write(f\"Val Loss: {val_loss / len(val_dataloader):.4f}, ROC_AUC: {val_roc_auc:.4f}\\n\")\n",
    "            log.write(\"\\n\")\n",
    "\n",
    "    return train_losses, val_losses, val_roc_aucs"
   ]
  },
  {
   "cell_type": "code",
   "execution_count": null,
   "id": "7ef4d257-2be7-46ad-9dbe-d9fa3296eafc",
   "metadata": {
    "scrolled": true
   },
   "outputs": [
    {
     "name": "stdout",
     "output_type": "stream",
     "text": [
      "Fold 0 Epoch 1\n",
      " --------------------------------------------------\n"
     ]
    },
    {
     "name": "stderr",
     "output_type": "stream",
     "text": [
      "  6%|█████████▏                                                                                                                                              | 24/399 [01:34<21:20,  3.42s/it]Exception in thread Exception in thread QueueFeederThread:\n",
      "Traceback (most recent call last):\n",
      "  File \"/home/FanHuang247817/miniconda3/envs/fanenv/lib/python3.8/multiprocessing/queues.py\", line 235, in _feed\n",
      "QueueFeederThread:\n",
      "Traceback (most recent call last):\n",
      "  File \"/home/FanHuang247817/miniconda3/envs/fanenv/lib/python3.8/multiprocessing/queues.py\", line 235, in _feed\n",
      "    close()\n",
      "  File \"/home/FanHuang247817/miniconda3/envs/fanenv/lib/python3.8/multiprocessing/connection.py\", line 177, in close\n",
      "    close()\n",
      "  File \"/home/FanHuang247817/miniconda3/envs/fanenv/lib/python3.8/multiprocessing/connection.py\", line 177, in close\n",
      "    self._close()\n",
      "  File \"/home/FanHuang247817/miniconda3/envs/fanenv/lib/python3.8/multiprocessing/connection.py\", line 361, in _close\n",
      "    self._close()\n",
      "  File \"/home/FanHuang247817/miniconda3/envs/fanenv/lib/python3.8/multiprocessing/connection.py\", line 361, in _close\n",
      "    _close(self._handle)\n",
      "OSError: [Errno 9] Bad file descriptor\n",
      "\n",
      "During handling of the above exception, another exception occurred:\n",
      "\n",
      "Traceback (most recent call last):\n",
      "  File \"/home/FanHuang247817/miniconda3/envs/fanenv/lib/python3.8/threading.py\", line 932, in _bootstrap_inner\n",
      "    _close(self._handle)\n",
      "OSError: [Errno 9] Bad file descriptor\n",
      "\n",
      "During handling of the above exception, another exception occurred:\n",
      "\n",
      "Traceback (most recent call last):\n",
      "  File \"/home/FanHuang247817/miniconda3/envs/fanenv/lib/python3.8/threading.py\", line 932, in _bootstrap_inner\n",
      "    self.run()\n",
      "  File \"/home/FanHuang247817/miniconda3/envs/fanenv/lib/python3.8/site-packages/ipykernel/ipkernel.py\", line 766, in run_closure\n",
      "    self.run()\n",
      "  File \"/home/FanHuang247817/miniconda3/envs/fanenv/lib/python3.8/site-packages/ipykernel/ipkernel.py\", line 766, in run_closure\n",
      "    _threading_Thread_run(self)\n",
      "  File \"/home/FanHuang247817/miniconda3/envs/fanenv/lib/python3.8/threading.py\", line 870, in run\n",
      "    _threading_Thread_run(self)\n",
      "  File \"/home/FanHuang247817/miniconda3/envs/fanenv/lib/python3.8/threading.py\", line 870, in run\n",
      "    self._target(*self._args, **self._kwargs)\n",
      "  File \"/home/FanHuang247817/miniconda3/envs/fanenv/lib/python3.8/multiprocessing/queues.py\", line 266, in _feed\n",
      "    self._target(*self._args, **self._kwargs)\n",
      "  File \"/home/FanHuang247817/miniconda3/envs/fanenv/lib/python3.8/multiprocessing/queues.py\", line 266, in _feed\n",
      "    queue_sem.release()\n",
      "ValueError: semaphore or lock released too many times\n",
      "    queue_sem.release()\n",
      "ValueError: semaphore or lock released too many times\n",
      "416it [24:42,  3.56s/it]                                                                                                                                                                      \n"
     ]
    },
    {
     "name": "stdout",
     "output_type": "stream",
     "text": [
      "Train Loss: 0.5089\n"
     ]
    },
    {
     "name": "stderr",
     "output_type": "stream",
     "text": [
      "100%|███████████████████████████████████████████████████████████████████████████████████████████████████████████████████████████████████████████████████████| 264/264 [02:03<00:00,  2.14it/s]\n"
     ]
    },
    {
     "name": "stdout",
     "output_type": "stream",
     "text": [
      "Val Loss: 0.3392, ROC_AUC: 0.5623\n",
      " \n",
      "Fold 0 Epoch 2\n",
      " --------------------------------------------------\n"
     ]
    },
    {
     "name": "stderr",
     "output_type": "stream",
     "text": [
      "416it [24:10,  3.49s/it]                                                                                                                                                                      \n"
     ]
    },
    {
     "name": "stdout",
     "output_type": "stream",
     "text": [
      "Train Loss: 0.3967\n"
     ]
    },
    {
     "name": "stderr",
     "output_type": "stream",
     "text": [
      "100%|███████████████████████████████████████████████████████████████████████████████████████████████████████████████████████████████████████████████████████| 264/264 [02:03<00:00,  2.13it/s]\n"
     ]
    },
    {
     "name": "stdout",
     "output_type": "stream",
     "text": [
      "Val Loss: 0.3246, ROC_AUC: 0.5631\n",
      " \n",
      "Fold 0 Epoch 3\n",
      " --------------------------------------------------\n"
     ]
    },
    {
     "name": "stderr",
     "output_type": "stream",
     "text": [
      "416it [23:44,  3.42s/it]                                                                                                                                                                      \n"
     ]
    },
    {
     "name": "stdout",
     "output_type": "stream",
     "text": [
      "Train Loss: 0.3941\n"
     ]
    },
    {
     "name": "stderr",
     "output_type": "stream",
     "text": [
      "100%|███████████████████████████████████████████████████████████████████████████████████████████████████████████████████████████████████████████████████████| 264/264 [02:01<00:00,  2.18it/s]\n"
     ]
    },
    {
     "name": "stdout",
     "output_type": "stream",
     "text": [
      "Val Loss: 0.3153, ROC_AUC: 0.5812\n",
      " \n",
      "Fold 0 Epoch 4\n",
      " --------------------------------------------------\n"
     ]
    },
    {
     "name": "stderr",
     "output_type": "stream",
     "text": [
      "416it [24:36,  3.55s/it]                                                                                                                                                                      \n"
     ]
    },
    {
     "name": "stdout",
     "output_type": "stream",
     "text": [
      "Train Loss: 0.3918\n"
     ]
    },
    {
     "name": "stderr",
     "output_type": "stream",
     "text": [
      "100%|███████████████████████████████████████████████████████████████████████████████████████████████████████████████████████████████████████████████████████| 264/264 [01:57<00:00,  2.25it/s]\n"
     ]
    },
    {
     "name": "stdout",
     "output_type": "stream",
     "text": [
      "Val Loss: 0.3132, ROC_AUC: 0.5963\n",
      " \n",
      "Fold 0 Epoch 5\n",
      " --------------------------------------------------\n"
     ]
    },
    {
     "name": "stderr",
     "output_type": "stream",
     "text": [
      "416it [26:43,  3.86s/it]                                                                                                                                                                      \n"
     ]
    },
    {
     "name": "stdout",
     "output_type": "stream",
     "text": [
      "Train Loss: 0.3868\n"
     ]
    },
    {
     "name": "stderr",
     "output_type": "stream",
     "text": [
      "100%|███████████████████████████████████████████████████████████████████████████████████████████████████████████████████████████████████████████████████████| 264/264 [02:20<00:00,  1.88it/s]\n"
     ]
    },
    {
     "name": "stdout",
     "output_type": "stream",
     "text": [
      "Val Loss: 0.3063, ROC_AUC: 0.6086\n",
      " \n",
      "Fold 0 Epoch 6\n",
      " --------------------------------------------------\n"
     ]
    },
    {
     "name": "stderr",
     "output_type": "stream",
     "text": [
      "416it [29:36,  4.27s/it]                                                                                                                                                                      \n"
     ]
    },
    {
     "name": "stdout",
     "output_type": "stream",
     "text": [
      "Train Loss: 0.3859\n"
     ]
    },
    {
     "name": "stderr",
     "output_type": "stream",
     "text": [
      "100%|███████████████████████████████████████████████████████████████████████████████████████████████████████████████████████████████████████████████████████| 264/264 [02:18<00:00,  1.91it/s]\n"
     ]
    },
    {
     "name": "stdout",
     "output_type": "stream",
     "text": [
      "Val Loss: 0.3119, ROC_AUC: 0.6084\n",
      " \n",
      "Fold 0 Epoch 7\n",
      " --------------------------------------------------\n"
     ]
    },
    {
     "name": "stderr",
     "output_type": "stream",
     "text": [
      "416it [30:38,  4.42s/it]                                                                                                                                                                      \n"
     ]
    },
    {
     "name": "stdout",
     "output_type": "stream",
     "text": [
      "Train Loss: 0.3843\n"
     ]
    },
    {
     "name": "stderr",
     "output_type": "stream",
     "text": [
      "100%|███████████████████████████████████████████████████████████████████████████████████████████████████████████████████████████████████████████████████████| 264/264 [02:24<00:00,  1.83it/s]\n"
     ]
    },
    {
     "name": "stdout",
     "output_type": "stream",
     "text": [
      "Val Loss: 0.3052, ROC_AUC: 0.6233\n",
      " \n",
      "Fold 0 Epoch 8\n",
      " --------------------------------------------------\n"
     ]
    },
    {
     "name": "stderr",
     "output_type": "stream",
     "text": [
      "416it [29:39,  4.28s/it]                                                                                                                                                                      \n"
     ]
    },
    {
     "name": "stdout",
     "output_type": "stream",
     "text": [
      "Train Loss: 0.3836\n"
     ]
    },
    {
     "name": "stderr",
     "output_type": "stream",
     "text": [
      "100%|███████████████████████████████████████████████████████████████████████████████████████████████████████████████████████████████████████████████████████| 264/264 [02:30<00:00,  1.75it/s]\n"
     ]
    },
    {
     "name": "stdout",
     "output_type": "stream",
     "text": [
      "Val Loss: 0.3055, ROC_AUC: 0.6218\n",
      " \n",
      "Fold 0 Epoch 9\n",
      " --------------------------------------------------\n"
     ]
    },
    {
     "name": "stderr",
     "output_type": "stream",
     "text": [
      "416it [30:20,  4.38s/it]                                                                                                                                                                      \n"
     ]
    },
    {
     "name": "stdout",
     "output_type": "stream",
     "text": [
      "Train Loss: 0.3813\n"
     ]
    },
    {
     "name": "stderr",
     "output_type": "stream",
     "text": [
      "100%|███████████████████████████████████████████████████████████████████████████████████████████████████████████████████████████████████████████████████████| 264/264 [02:29<00:00,  1.76it/s]\n"
     ]
    },
    {
     "name": "stdout",
     "output_type": "stream",
     "text": [
      "Val Loss: 0.3022, ROC_AUC: 0.6329\n",
      " \n",
      "Fold 0 Epoch 10\n",
      " --------------------------------------------------\n"
     ]
    },
    {
     "name": "stderr",
     "output_type": "stream",
     "text": [
      "416it [29:25,  4.24s/it]                                                                                                                                                                      \n"
     ]
    },
    {
     "name": "stdout",
     "output_type": "stream",
     "text": [
      "Train Loss: 0.3798\n"
     ]
    },
    {
     "name": "stderr",
     "output_type": "stream",
     "text": [
      "100%|███████████████████████████████████████████████████████████████████████████████████████████████████████████████████████████████████████████████████████| 264/264 [02:30<00:00,  1.75it/s]\n"
     ]
    },
    {
     "name": "stdout",
     "output_type": "stream",
     "text": [
      "Val Loss: 0.3042, ROC_AUC: 0.6242\n",
      " \n",
      "Fold 0 Epoch 11\n",
      " --------------------------------------------------\n"
     ]
    },
    {
     "name": "stderr",
     "output_type": "stream",
     "text": [
      "416it [30:05,  4.34s/it]                                                                                                                                                                      \n"
     ]
    },
    {
     "name": "stdout",
     "output_type": "stream",
     "text": [
      "Train Loss: 0.3773\n"
     ]
    },
    {
     "name": "stderr",
     "output_type": "stream",
     "text": [
      "100%|███████████████████████████████████████████████████████████████████████████████████████████████████████████████████████████████████████████████████████| 264/264 [02:29<00:00,  1.77it/s]\n"
     ]
    },
    {
     "name": "stdout",
     "output_type": "stream",
     "text": [
      "Val Loss: 0.2990, ROC_AUC: 0.6431\n",
      " \n",
      "Fold 0 Epoch 12\n",
      " --------------------------------------------------\n"
     ]
    },
    {
     "name": "stderr",
     "output_type": "stream",
     "text": [
      " 71%|███████████████████████████████████████████████████████████████████████████████████████████████████████████▊                                           | 285/399 [20:06<06:52,  3.62s/it]"
     ]
    }
   ],
   "source": [
    "n_epoch = 50\n",
    "batch_size = 12\n",
    "num_workers = 2\n",
    "lr = 1e-5\n",
    "\n",
    "train_losses_kfold = []\n",
    "val_losses_kfold = []\n",
    "val_roc_aucs_kfold = []\n",
    "\n",
    "for i in range(4):\n",
    "    log = open(f\"./f{i}/log.txt\", 'w')\n",
    "    log.close()\n",
    "    \n",
    "    train_df = pd.read_pickle(f\"./df/train_f{i}.pkl\")\n",
    "    val_df = pd.read_pickle(f\"./df/val_f{i}.pkl\")\n",
    "\n",
    "    pos_indices = train_df.index[train_df['cancer'] == 1].tolist()\n",
    "    train_dataset = CancerDataset(train_df, transform=train_transform2)\n",
    "    val_dataset = CancerDataset(val_df, transform=val_transform)\n",
    "\n",
    "    train_losses, val_losses, val_roc_aucs = train_loop(train_dataset, val_dataset, pos_indices, n_epoch=n_epoch, \n",
    "                                                        fold=i, batch_size=batch_size, num_workers=num_workers, lr=lr)\n",
    "    train_losses_kfold.append(train_losses)\n",
    "    val_losses_kfold.append(val_losses)\n",
    "    val_roc_aucs_kfold.append(val_roc_aucs)"
   ]
  },
  {
   "cell_type": "code",
   "execution_count": null,
   "id": "d57b81ca-ae32-4d24-b76f-3333c42dbd94",
   "metadata": {},
   "outputs": [],
   "source": [
    "def plot_model_history(model_name,\n",
    "                        train_history, val_history, \n",
    "                        num_epochs):\n",
    "    \n",
    "    x = np.arange(num_epochs)\n",
    "\n",
    "    fig = plt.figure(figsize=(5, 3))\n",
    "    plt.plot(x, train_history, label='train loss', lw=3, c=\"springgreen\")\n",
    "    plt.plot(x, val_history, label='validation loss', lw=3, c=\"deeppink\")\n",
    "\n",
    "    plt.title(f\"{model_name}\", fontsize=15)\n",
    "    plt.legend(fontsize=12)\n",
    "    plt.xlabel(\"Epoch\", fontsize=15)\n",
    "    plt.ylabel(\"Loss\", fontsize=15)\n",
    "\n",
    "    plt.xticks(np.arange(0, 20, 1))\n",
    "    \n",
    "    plt.show()"
   ]
  },
  {
   "cell_type": "code",
   "execution_count": null,
   "id": "0c27e5ab-2f54-45ae-9f71-9f7a70523734",
   "metadata": {},
   "outputs": [],
   "source": [
    "plot_model_history(\"EfficientNet_b2 fold0\", train_losses_kfold[0], val_losses_kfold[0], num_epochs=n_epoch)"
   ]
  },
  {
   "cell_type": "code",
   "execution_count": null,
   "id": "66f3c7a1-5ea7-489e-8559-758e99779031",
   "metadata": {},
   "outputs": [],
   "source": [
    "plot_model_history(\"EfficientNet_b2 fold1\", train_losses_kfold[1], val_losses_kfold[1], num_epochs=n_epoch)"
   ]
  },
  {
   "cell_type": "code",
   "execution_count": null,
   "id": "eff660d2-e2c6-4332-8887-fe5bdd56238e",
   "metadata": {},
   "outputs": [],
   "source": [
    "plot_model_history(\"EfficientNet_b2 fold2\", train_losses_kfold[2], val_losses_kfold[2], num_epochs=n_epoch)"
   ]
  },
  {
   "cell_type": "code",
   "execution_count": null,
   "id": "c9575ada-fc68-4e17-8efc-f8f274535275",
   "metadata": {
    "scrolled": true
   },
   "outputs": [],
   "source": [
    "plot_model_history(\"EfficientNet_b2 fold3\", train_losses_kfold[3], val_losses_kfold[3], num_epochs=n_epoch)"
   ]
  },
  {
   "cell_type": "code",
   "execution_count": null,
   "id": "d8bba50f-c740-4d50-9860-fc5524d0871e",
   "metadata": {},
   "outputs": [],
   "source": [
    "torch.cuda.empty_cache()"
   ]
  }
 ],
 "metadata": {
  "kernelspec": {
   "display_name": "Python 3 (ipykernel)",
   "language": "python",
   "name": "python3"
  },
  "language_info": {
   "codemirror_mode": {
    "name": "ipython",
    "version": 3
   },
   "file_extension": ".py",
   "mimetype": "text/x-python",
   "name": "python",
   "nbconvert_exporter": "python",
   "pygments_lexer": "ipython3",
   "version": "3.8.19"
  }
 },
 "nbformat": 4,
 "nbformat_minor": 5
}
