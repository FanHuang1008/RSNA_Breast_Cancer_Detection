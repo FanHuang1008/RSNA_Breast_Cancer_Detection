{
 "cells": [
  {
   "cell_type": "code",
   "execution_count": 1,
   "id": "0585badb-9c8a-4186-ba31-47880fbd4b3d",
   "metadata": {},
   "outputs": [
    {
     "name": "stderr",
     "output_type": "stream",
     "text": [
      "/home/FanHuang247817/miniconda3/envs/dalienv/lib/python3.8/site-packages/tqdm/auto.py:21: TqdmWarning: IProgress not found. Please update jupyter and ipywidgets. See https://ipywidgets.readthedocs.io/en/stable/user_install.html\n",
      "  from .autonotebook import tqdm as notebook_tqdm\n"
     ]
    }
   ],
   "source": [
    "import pandas as pd\n",
    "import numpy as np\n",
    "import os\n",
    "\n",
    "import pydicom\n",
    "from pydicom.filebase import DicomBytesIO\n",
    "from pydicom.pixel_data_handlers import apply_windowing\n",
    "\n",
    "import torch\n",
    "\n",
    "import nvidia.dali.fn as fn\n",
    "import nvidia.dali.types as types\n",
    "from nvidia.dali import pipeline_def\n",
    "from nvidia.dali.types import DALIDataType\n",
    "from nvidia.dali.plugin.pytorch import DALIGenericIterator\n",
    "\n",
    "import matplotlib\n",
    "import matplotlib.pyplot as plt\n",
    "\n",
    "os.environ[\"CUDA_VISIBLE_DEVICES\"] = '1'\n",
    "DEVICE = torch.device('cuda' if torch.cuda.is_available() else 'cpu')"
   ]
  },
  {
   "cell_type": "code",
   "execution_count": 2,
   "id": "d4c2a21f-579f-45f7-89bd-c9560359cbda",
   "metadata": {},
   "outputs": [],
   "source": [
    "IMG_DIR = \"/home/data4/share/rsna-breast-cancer-detection/train_images\""
   ]
  },
  {
   "cell_type": "code",
   "execution_count": 3,
   "id": "2f98e0b4-ef61-41a7-af9c-a9f78fe48893",
   "metadata": {},
   "outputs": [
    {
     "name": "stdout",
     "output_type": "stream",
     "text": [
      "j2k: 25187 jll: 29519\n"
     ]
    }
   ],
   "source": [
    "df = pd.read_csv(\"/home/data4/share/rsna-breast-cancer-detection/train.csv\")\n",
    "df['dcm'] = IMG_DIR + '/' + df.patient_id.astype(str) + '/' + df.image_id.astype(str) + '.dcm'\n",
    "df_j2k, df_jll = df[df[\"site_id\"]==2].reset_index(drop=True), df[df[\"site_id\"]==1].reset_index(drop=True)\n",
    "print('j2k:', len(df_j2k), 'jll:', len(df_jll))"
   ]
  },
  {
   "cell_type": "code",
   "execution_count": 30,
   "id": "f9f47dea-6d2b-45fa-a5b6-8e840aca0a3a",
   "metadata": {},
   "outputs": [],
   "source": [
    "class J2KIterator(object):\n",
    "    def __init__(self, df, img_dir, batch_size):\n",
    "        self.df = df\n",
    "        self.img_dir = img_dir\n",
    "        self.batch_size = batch_size\n",
    "\n",
    "    def dicom_to_j2k(self, img_dir, patient_id, image_id):\n",
    "        dcmfile = pydicom.dcmread(f'{img_dir}/{patient_id}/{image_id}.dcm')\n",
    "        \n",
    "        if dcmfile.file_meta.TransferSyntaxUID == '1.2.840.10008.1.2.4.90':\n",
    "            with open(f'{img_dir}/{patient_id}/{image_id}.dcm', 'rb') as fp:\n",
    "                raw = DicomBytesIO(fp.read())\n",
    "                ds = pydicom.dcmread(raw)\n",
    "            offset = ds.PixelData.find(b\"\\x00\\x00\\x00\\x0C\")\n",
    "\n",
    "            return np.frombuffer(ds.PixelData[offset:], dtype=np.uint8), dcmfile.PhotometricInterpretation == 'MONOCHROME1'\n",
    "\n",
    "    def __len__(self):\n",
    "        return int(np.ceil(len(self.df) / self.batch_size))\n",
    "\n",
    "    def __iter__(self):\n",
    "        self.i = 0\n",
    "        return self\n",
    "\n",
    "    def __next__(self):\n",
    "        #if self.i > len(self.df):\n",
    "        if self.i > 32:\n",
    "            raise StopIteration\n",
    "\n",
    "        compressed_imgs, is_monochrome_imgs, patient_ids, img_ids = [], [], [], []\n",
    "\n",
    "        batch_start, batch_finish = self.i, min(self.i + self.batch_size, len(self.df))\n",
    "        df_batch = self.df.iloc[range(batch_start, batch_finish)]\n",
    "\n",
    "        for patient_id, img_id in df_batch[[\"patient_id\", \"image_id\"]].values:\n",
    "            compressed_img, is_monochrome_img = self.dicom_to_j2k(self.img_dir, patient_id, img_id)\n",
    "\n",
    "            compressed_imgs.append(compressed_img)\n",
    "            is_monochrome_imgs.append(np.array([is_monochrome_img], dtype = np.bool_))\n",
    "\n",
    "            patient_ids.append(np.array([patient_id], dtype = np.int64))\n",
    "            img_ids.append(np.array([img_id], dtype = np.int64))\n",
    "\n",
    "        self.i += self.batch_size\n",
    "\n",
    "        return compressed_imgs, is_monochrome_imgs, patient_ids, img_ids"
   ]
  },
  {
   "cell_type": "code",
   "execution_count": 31,
   "id": "b2992a42-97e8-4796-a4fd-ca15f8838df2",
   "metadata": {},
   "outputs": [],
   "source": [
    "class JLLIterator(object):\n",
    "    def __init__(self, df, batch_size, img_dir):\n",
    "        self.df = df\n",
    "        self.batch_size = batch_size\n",
    "        self.img_dir = img_dir\n",
    "       \n",
    "    @staticmethod\n",
    "    def decompress_jll(dm):\n",
    "        info = dm.getPixelDataInfo()\n",
    "        img = np.empty((info['Rows'], info['Cols']), dtype = info['dtype'])\n",
    "        dm.copyFrameData(0, img)\n",
    "        return img\n",
    "    \n",
    "    def process_img(self, img_dir, patient_id, image_id):\n",
    "        dm = dicomsdl.open(f'{img_dir}/{patient_id}/{image_id}.dcm')\n",
    "        return self.decompress_jll(dm).astype(np.uint16), dm.PhotometricInterpretation == 'MONOCHROME1'\n",
    "        \n",
    "    def __len__(self):\n",
    "        return int(np.ceil(len(self.df) / self.batch_size))\n",
    "\n",
    "    def __iter__(self):\n",
    "        self.i = 0\n",
    "        return self\n",
    "\n",
    "    def __next__(self):\n",
    "        if self.i > len(self.df):\n",
    "            raise StopIteration\n",
    "        \n",
    "        decompressed_imgs, is_monochrome_imgs, patient_ids, img_ids = [], [], [], []\n",
    "\n",
    "        batch_start, batch_finish = self.i, min(self.i + self.batch_size, len(self.df))\n",
    "        df_batch = self.df.iloc[range(batch_start, batch_finish)]\n",
    "        \n",
    "        for patient_id, img_id in df_batch[['patient_id', 'image_id']].values:\n",
    "            decompressed_img, is_monochrome_img = self.process_img(self.img_dir, p_id, i_id)\n",
    "            \n",
    "            decompressed_imgs.append(np.expand_dims(decompressed_img, axis = 2))\n",
    "            is_monochrome_imgs.append(np.array([is_monochrome_img], dtype = np.bool_))\n",
    "            patient_ids.append(np.array([patient_id], dtype = np.int64))\n",
    "            img_ids.append(np.array([img_id], dtype = np.int64))\n",
    "            labels.append(np.array([cancer], dtype = np.int64))\n",
    "            \n",
    "        self.i += self.batch_size\n",
    "                    \n",
    "        return compressed_imgs, is_monochrome_imgs, patient_ids, img_ids"
   ]
  },
  {
   "cell_type": "code",
   "execution_count": 32,
   "id": "1742c15c-2be8-4756-8920-853d5b0a620e",
   "metadata": {},
   "outputs": [],
   "source": [
    "J2Ki = J2KIterator(df_j2k, batch_size=32, img_dir=\"/home/data4/share/rsna-breast-cancer-detection/train_images\")\n",
    "JLLi = JLLIterator(df_jll, batch_size=32, img_dir=\"/home/data4/share/rsna-breast-cancer-detection/train_images\")"
   ]
  },
  {
   "cell_type": "code",
   "execution_count": 33,
   "id": "26349293-db24-413d-9616-7417fd52c00d",
   "metadata": {},
   "outputs": [],
   "source": [
    "@pipeline_def\n",
    "def j2k_decode_pipeline(width, height):\n",
    "    imgs, is_monochromes, patient_ids, img_ids, labels = fn.external_source(\n",
    "        source=J2Ki, num_outputs=4, device=\"cpu\", dtype = [types.UINT8, types.BOOL, types.INT64, types.INT64],\n",
    "    )\n",
    "    \n",
    "    imgs = fn.decoders.image(\n",
    "        imgs, device='mixed', output_type=types.ANY_DATA, dtype=DALIDataType.UINT8\n",
    "    )\n",
    "\n",
    "    imgs = fn.resize(imgs, size=[width, height], device=\"gpu\")\n",
    "    \n",
    "    return imgs, is_monochromes, patient_ids, img_ids, labels"
   ]
  },
  {
   "cell_type": "code",
   "execution_count": 34,
   "id": "d4b7b813-cf3b-4828-aef4-a9c4d8385763",
   "metadata": {},
   "outputs": [],
   "source": [
    "@pipeline_def\n",
    "def jll_process_pipeline(width, height):\n",
    "    imgs, is_monochromes, patient_ids, img_ids, labels = fn.external_source(\n",
    "        source=JLLi, num_outputs=4, device=\"gpu\", dtype = [types.UINT8, types.BOOL, types.INT64, types.INT64],\n",
    "    )\n",
    "    \n",
    "    imgs = fn.reinterpret(imgs, layout = \"HWC\")\n",
    "    \n",
    "    imgs = fn.resize(imgs, size=[width, height], device=\"gpu\")\n",
    "    \n",
    "    return imgs, is_monochromes, patient_ids, img_ids, labels"
   ]
  },
  {
   "cell_type": "code",
   "execution_count": null,
   "id": "c63bd716-9342-4a9a-9251-c5d96b3cd8f6",
   "metadata": {},
   "outputs": [],
   "source": [
    "def process(batch, roi_model):\n",
    "    processed_imgs = []\n",
    "    imgs, is_monochromes = batch[0]['decompressed_imgs'], batch[0]['is_monochrome_imgs']\n",
    "    patient_ids, img_ids = batch[0]['patient_ids'], batch[0]['img_ids']\n",
    "    for i in range(len(imgs)):\n",
    "        is_monochrome = is_monochromes.numpy().tolist()[i][0]\n",
    "        patient_id = patient_ids.numpy().tolist()[i][0]\n",
    "        \n",
    "\n",
    "\n",
    "    return img, img_window, img_id"
   ]
  },
  {
   "cell_type": "code",
   "execution_count": 40,
   "id": "adbf365e-7268-43c9-a3d1-bab659c06d5e",
   "metadata": {},
   "outputs": [],
   "source": [
    "class CustomDALIGenericIterator(DALIGenericIterator):\n",
    "    def __init__(self, length, pipelines, **argw):\n",
    "        #self.model = yolo_model\n",
    "        self._len = length \n",
    "        super().__init__(pipelines, ['imgs', 'is_monochrome_imgs', 'patient_ids', 'img_ids'])\n",
    "    \n",
    "    def __next__(self):\n",
    "        batch = super().__next__()\n",
    "        #batch_imgs = process(batch, self.model)\n",
    "        return batch_imgs\n",
    "    \n",
    "    def __len__(self):\n",
    "        return self._len"
   ]
  },
  {
   "cell_type": "code",
   "execution_count": 46,
   "id": "2f53db9a-0f25-4fcc-ac1d-034816d01620",
   "metadata": {},
   "outputs": [],
   "source": [
    "j2k_pipe = j2k_decode_pipeline(width=768, height=768, batch_size=32, num_threads=2, device_id=0, \n",
    "                               py_num_workers=1, exec_async=False, exec_pipelined=False)\n",
    "j2k_iter = CustomDALIGenericIterator(length=len(J2Ki), pipelines=[j2k_pipe])"
   ]
  },
  {
   "cell_type": "code",
   "execution_count": 52,
   "id": "c24a0dab-0cdf-46ad-a45f-c0419f3b9820",
   "metadata": {},
   "outputs": [],
   "source": [
    "for batch in j2k_iter:\n",
    "    p_imgs = batch[0]['imgs']\n",
    "    p_is_monochrome_imgs = batch[0]['is_monochrome_imgs']\n",
    "    p_patient_ids = batch[0]['patient_ids']\n",
    "    p_img_ids = batch[0]['img_ids']\n",
    "    break"
   ]
  },
  {
   "cell_type": "code",
   "execution_count": 68,
   "id": "a59693ac-f2b6-4b07-bf7b-0e592de06c6e",
   "metadata": {},
   "outputs": [
    {
     "ename": "TypeError",
     "evalue": "can't convert cuda:0 device type tensor to numpy. Use Tensor.cpu() to copy the tensor to host memory first.",
     "output_type": "error",
     "traceback": [
      "\u001b[0;31m---------------------------------------------------------------------------\u001b[0m",
      "\u001b[0;31mTypeError\u001b[0m                                 Traceback (most recent call last)",
      "Cell \u001b[0;32mIn[68], line 2\u001b[0m\n\u001b[1;32m      1\u001b[0m \u001b[38;5;28;01mfor\u001b[39;00m i \u001b[38;5;129;01min\u001b[39;00m \u001b[38;5;28mrange\u001b[39m(\u001b[38;5;241m32\u001b[39m):\n\u001b[0;32m----> 2\u001b[0m     \u001b[38;5;28mprint\u001b[39m(\u001b[38;5;28mtype\u001b[39m(\u001b[43mp_imgs\u001b[49m\u001b[38;5;241;43m.\u001b[39;49m\u001b[43mnumpy\u001b[49m\u001b[43m(\u001b[49m\u001b[43m)\u001b[49m\u001b[38;5;241m.\u001b[39mtolist()[i][\u001b[38;5;241m0\u001b[39m]))\n\u001b[1;32m      3\u001b[0m     \u001b[38;5;28mprint\u001b[39m(\u001b[38;5;28mtype\u001b[39m(p_is_monochrome_imgs\u001b[38;5;241m.\u001b[39mnumpy()\u001b[38;5;241m.\u001b[39mtolist()[i][\u001b[38;5;241m0\u001b[39m]))\n\u001b[1;32m      4\u001b[0m     \u001b[38;5;28mprint\u001b[39m(\u001b[38;5;28mtype\u001b[39m(p_patient_ids\u001b[38;5;241m.\u001b[39mnumpy()\u001b[38;5;241m.\u001b[39mtolist()[i][\u001b[38;5;241m0\u001b[39m]))\n",
      "\u001b[0;31mTypeError\u001b[0m: can't convert cuda:0 device type tensor to numpy. Use Tensor.cpu() to copy the tensor to host memory first."
     ]
    }
   ],
   "source": [
    "for i in range(32):\n",
    "    print(type(p_imgs.numpy().tolist()[i][0]))\n",
    "    print(type(p_is_monochrome_imgs.numpy().tolist()[i][0]))\n",
    "    print(type(p_patient_ids.numpy().tolist()[i][0]))\n",
    "    print(type(p_img_ids.numpy().tolist()[i][0]))\n",
    "    break"
   ]
  }
 ],
 "metadata": {
  "kernelspec": {
   "display_name": "Python 3 (ipykernel)",
   "language": "python",
   "name": "python3"
  },
  "language_info": {
   "codemirror_mode": {
    "name": "ipython",
    "version": 3
   },
   "file_extension": ".py",
   "mimetype": "text/x-python",
   "name": "python",
   "nbconvert_exporter": "python",
   "pygments_lexer": "ipython3",
   "version": "3.8.19"
  }
 },
 "nbformat": 4,
 "nbformat_minor": 5
}
